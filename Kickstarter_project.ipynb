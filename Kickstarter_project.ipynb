{
 "cells": [
  {
   "cell_type": "markdown",
   "metadata": {},
   "source": [
    "# Kickstarter Campaigns\n",
    "## An analysis with interactive visualizations\n",
    "\n",
    "### Here are the questions answered below:\n",
    "1. What percentage of campaign succeed or fail?\n",
    "2. How many campaigns per year have there been on Kickstarter since 2009?\n",
    "3. How many campaigns in each category have there been on Kickstarter since 2009 per year? and how many were successful?\n",
    "4. How many total backers per category since 2009? (credence to the crowd-sourcing claim)\n",
    "5. What is the average run time per campaign? How quickly do you know if your campaign will succeed or fail?\n",
    "6. How global is the Kickstarter community? How much has each country contributed?\n",
    "7. Which campaign categories are more popular during which months? and which campaign categories raise more money during which months?\n",
    "\n",
    "#### Data: https://www.kaggle.com/kemical/kickstarter-projects"
   ]
  },
  {
   "cell_type": "code",
   "execution_count": 46,
   "metadata": {},
   "outputs": [
    {
     "data": {
      "text/html": [
       "<script>requirejs.config({paths: { 'plotly': ['https://cdn.plot.ly/plotly-latest.min']},});if(!window.Plotly) {{require(['plotly'],function(plotly) {window.Plotly=plotly;});}}</script>"
      ],
      "text/vnd.plotly.v1+html": [
       "<script>requirejs.config({paths: { 'plotly': ['https://cdn.plot.ly/plotly-latest.min']},});if(!window.Plotly) {{require(['plotly'],function(plotly) {window.Plotly=plotly;});}}</script>"
      ]
     },
     "metadata": {},
     "output_type": "display_data"
    }
   ],
   "source": [
    "import numpy as np\n",
    "import pandas as pd\n",
    "from time import time\n",
    "\n",
    "from IPython.display import display # Allows the use of display() for DataFrames\n",
    "import seaborn as sns\n",
    "import matplotlib.pyplot as plt\n",
    "# Pretty display for notebooks\n",
    "%matplotlib inline\n",
    "\n",
    "import datetime\n",
    "import pycountry\n",
    "\n",
    "import plotly.tools as tls\n",
    "import plotly.offline as py\n",
    "from plotly.offline import init_notebook_mode, iplot, plot\n",
    "import plotly.graph_objs as go\n",
    "init_notebook_mode(connected=True)\n",
    "\n"
   ]
  },
  {
   "cell_type": "code",
   "execution_count": 47,
   "metadata": {},
   "outputs": [
    {
     "data": {
      "text/html": [
       "<div>\n",
       "<style scoped>\n",
       "    .dataframe tbody tr th:only-of-type {\n",
       "        vertical-align: middle;\n",
       "    }\n",
       "\n",
       "    .dataframe tbody tr th {\n",
       "        vertical-align: top;\n",
       "    }\n",
       "\n",
       "    .dataframe thead th {\n",
       "        text-align: right;\n",
       "    }\n",
       "</style>\n",
       "<table border=\"1\" class=\"dataframe\">\n",
       "  <thead>\n",
       "    <tr style=\"text-align: right;\">\n",
       "      <th></th>\n",
       "      <th>ID</th>\n",
       "      <th>name</th>\n",
       "      <th>category</th>\n",
       "      <th>main_category</th>\n",
       "      <th>currency</th>\n",
       "      <th>deadline</th>\n",
       "      <th>goal</th>\n",
       "      <th>launched</th>\n",
       "      <th>pledged</th>\n",
       "      <th>state</th>\n",
       "      <th>backers</th>\n",
       "      <th>country</th>\n",
       "      <th>usd pledged</th>\n",
       "      <th>usd_pledged_real</th>\n",
       "      <th>usd_goal_real</th>\n",
       "    </tr>\n",
       "  </thead>\n",
       "  <tbody>\n",
       "    <tr>\n",
       "      <th>0</th>\n",
       "      <td>1000002330</td>\n",
       "      <td>The Songs of Adelaide &amp; Abullah</td>\n",
       "      <td>Poetry</td>\n",
       "      <td>Publishing</td>\n",
       "      <td>GBP</td>\n",
       "      <td>2015-10-09</td>\n",
       "      <td>1000.0</td>\n",
       "      <td>2015-08-11 12:12:28</td>\n",
       "      <td>0.0</td>\n",
       "      <td>failed</td>\n",
       "      <td>0</td>\n",
       "      <td>GB</td>\n",
       "      <td>0.0</td>\n",
       "      <td>0.0</td>\n",
       "      <td>1533.95</td>\n",
       "    </tr>\n",
       "    <tr>\n",
       "      <th>1</th>\n",
       "      <td>1000003930</td>\n",
       "      <td>Greeting From Earth: ZGAC Arts Capsule For ET</td>\n",
       "      <td>Narrative Film</td>\n",
       "      <td>Film &amp; Video</td>\n",
       "      <td>USD</td>\n",
       "      <td>2017-11-01</td>\n",
       "      <td>30000.0</td>\n",
       "      <td>2017-09-02 04:43:57</td>\n",
       "      <td>2421.0</td>\n",
       "      <td>failed</td>\n",
       "      <td>15</td>\n",
       "      <td>US</td>\n",
       "      <td>100.0</td>\n",
       "      <td>2421.0</td>\n",
       "      <td>30000.00</td>\n",
       "    </tr>\n",
       "    <tr>\n",
       "      <th>2</th>\n",
       "      <td>1000004038</td>\n",
       "      <td>Where is Hank?</td>\n",
       "      <td>Narrative Film</td>\n",
       "      <td>Film &amp; Video</td>\n",
       "      <td>USD</td>\n",
       "      <td>2013-02-26</td>\n",
       "      <td>45000.0</td>\n",
       "      <td>2013-01-12 00:20:50</td>\n",
       "      <td>220.0</td>\n",
       "      <td>failed</td>\n",
       "      <td>3</td>\n",
       "      <td>US</td>\n",
       "      <td>220.0</td>\n",
       "      <td>220.0</td>\n",
       "      <td>45000.00</td>\n",
       "    </tr>\n",
       "    <tr>\n",
       "      <th>3</th>\n",
       "      <td>1000007540</td>\n",
       "      <td>ToshiCapital Rekordz Needs Help to Complete Album</td>\n",
       "      <td>Music</td>\n",
       "      <td>Music</td>\n",
       "      <td>USD</td>\n",
       "      <td>2012-04-16</td>\n",
       "      <td>5000.0</td>\n",
       "      <td>2012-03-17 03:24:11</td>\n",
       "      <td>1.0</td>\n",
       "      <td>failed</td>\n",
       "      <td>1</td>\n",
       "      <td>US</td>\n",
       "      <td>1.0</td>\n",
       "      <td>1.0</td>\n",
       "      <td>5000.00</td>\n",
       "    </tr>\n",
       "    <tr>\n",
       "      <th>4</th>\n",
       "      <td>1000011046</td>\n",
       "      <td>Community Film Project: The Art of Neighborhoo...</td>\n",
       "      <td>Film &amp; Video</td>\n",
       "      <td>Film &amp; Video</td>\n",
       "      <td>USD</td>\n",
       "      <td>2015-08-29</td>\n",
       "      <td>19500.0</td>\n",
       "      <td>2015-07-04 08:35:03</td>\n",
       "      <td>1283.0</td>\n",
       "      <td>canceled</td>\n",
       "      <td>14</td>\n",
       "      <td>US</td>\n",
       "      <td>1283.0</td>\n",
       "      <td>1283.0</td>\n",
       "      <td>19500.00</td>\n",
       "    </tr>\n",
       "  </tbody>\n",
       "</table>\n",
       "</div>"
      ],
      "text/plain": [
       "           ID                                               name  \\\n",
       "0  1000002330                    The Songs of Adelaide & Abullah   \n",
       "1  1000003930      Greeting From Earth: ZGAC Arts Capsule For ET   \n",
       "2  1000004038                                     Where is Hank?   \n",
       "3  1000007540  ToshiCapital Rekordz Needs Help to Complete Album   \n",
       "4  1000011046  Community Film Project: The Art of Neighborhoo...   \n",
       "\n",
       "         category main_category currency    deadline     goal  \\\n",
       "0          Poetry    Publishing      GBP  2015-10-09   1000.0   \n",
       "1  Narrative Film  Film & Video      USD  2017-11-01  30000.0   \n",
       "2  Narrative Film  Film & Video      USD  2013-02-26  45000.0   \n",
       "3           Music         Music      USD  2012-04-16   5000.0   \n",
       "4    Film & Video  Film & Video      USD  2015-08-29  19500.0   \n",
       "\n",
       "              launched  pledged     state  backers country  usd pledged  \\\n",
       "0  2015-08-11 12:12:28      0.0    failed        0      GB          0.0   \n",
       "1  2017-09-02 04:43:57   2421.0    failed       15      US        100.0   \n",
       "2  2013-01-12 00:20:50    220.0    failed        3      US        220.0   \n",
       "3  2012-03-17 03:24:11      1.0    failed        1      US          1.0   \n",
       "4  2015-07-04 08:35:03   1283.0  canceled       14      US       1283.0   \n",
       "\n",
       "   usd_pledged_real  usd_goal_real  \n",
       "0               0.0        1533.95  \n",
       "1            2421.0       30000.00  \n",
       "2             220.0       45000.00  \n",
       "3               1.0        5000.00  \n",
       "4            1283.0       19500.00  "
      ]
     },
     "metadata": {},
     "output_type": "display_data"
    }
   ],
   "source": [
    "# Load the dataset\n",
    "ks_data = pd.read_csv(\"ks-projects-201801.csv\")\n",
    "\n",
    "# Display the first records\n",
    "display(ks_data.head(n=5))"
   ]
  },
  {
   "cell_type": "code",
   "execution_count": 48,
   "metadata": {},
   "outputs": [
    {
     "name": "stdout",
     "output_type": "stream",
     "text": [
      "Number of columns: 15\n",
      "Number of rows: 378661\n"
     ]
    }
   ],
   "source": [
    "#check the shape of the data set\n",
    "num_rows, num_cols  = ks_data.shape\n",
    "print('Number of columns: {}'.format(num_cols))\n",
    "print('Number of rows: {}'.format(num_rows))"
   ]
  },
  {
   "cell_type": "code",
   "execution_count": 49,
   "metadata": {},
   "outputs": [
    {
     "data": {
      "text/html": [
       "<div>\n",
       "<style scoped>\n",
       "    .dataframe tbody tr th:only-of-type {\n",
       "        vertical-align: middle;\n",
       "    }\n",
       "\n",
       "    .dataframe tbody tr th {\n",
       "        vertical-align: top;\n",
       "    }\n",
       "\n",
       "    .dataframe thead th {\n",
       "        text-align: right;\n",
       "    }\n",
       "</style>\n",
       "<table border=\"1\" class=\"dataframe\">\n",
       "  <thead>\n",
       "    <tr style=\"text-align: right;\">\n",
       "      <th></th>\n",
       "      <th>ID</th>\n",
       "      <th>goal</th>\n",
       "      <th>pledged</th>\n",
       "      <th>backers</th>\n",
       "      <th>usd pledged</th>\n",
       "      <th>usd_pledged_real</th>\n",
       "      <th>usd_goal_real</th>\n",
       "    </tr>\n",
       "  </thead>\n",
       "  <tbody>\n",
       "    <tr>\n",
       "      <th>count</th>\n",
       "      <td>3.786610e+05</td>\n",
       "      <td>3.786610e+05</td>\n",
       "      <td>3.786610e+05</td>\n",
       "      <td>378661.000000</td>\n",
       "      <td>3.748640e+05</td>\n",
       "      <td>3.786610e+05</td>\n",
       "      <td>3.786610e+05</td>\n",
       "    </tr>\n",
       "    <tr>\n",
       "      <th>mean</th>\n",
       "      <td>1.074731e+09</td>\n",
       "      <td>4.908079e+04</td>\n",
       "      <td>9.682979e+03</td>\n",
       "      <td>105.617476</td>\n",
       "      <td>7.036729e+03</td>\n",
       "      <td>9.058924e+03</td>\n",
       "      <td>4.545440e+04</td>\n",
       "    </tr>\n",
       "    <tr>\n",
       "      <th>std</th>\n",
       "      <td>6.190862e+08</td>\n",
       "      <td>1.183391e+06</td>\n",
       "      <td>9.563601e+04</td>\n",
       "      <td>907.185035</td>\n",
       "      <td>7.863975e+04</td>\n",
       "      <td>9.097334e+04</td>\n",
       "      <td>1.152950e+06</td>\n",
       "    </tr>\n",
       "    <tr>\n",
       "      <th>min</th>\n",
       "      <td>5.971000e+03</td>\n",
       "      <td>1.000000e-02</td>\n",
       "      <td>0.000000e+00</td>\n",
       "      <td>0.000000</td>\n",
       "      <td>0.000000e+00</td>\n",
       "      <td>0.000000e+00</td>\n",
       "      <td>1.000000e-02</td>\n",
       "    </tr>\n",
       "    <tr>\n",
       "      <th>25%</th>\n",
       "      <td>5.382635e+08</td>\n",
       "      <td>2.000000e+03</td>\n",
       "      <td>3.000000e+01</td>\n",
       "      <td>2.000000</td>\n",
       "      <td>1.698000e+01</td>\n",
       "      <td>3.100000e+01</td>\n",
       "      <td>2.000000e+03</td>\n",
       "    </tr>\n",
       "    <tr>\n",
       "      <th>50%</th>\n",
       "      <td>1.075276e+09</td>\n",
       "      <td>5.200000e+03</td>\n",
       "      <td>6.200000e+02</td>\n",
       "      <td>12.000000</td>\n",
       "      <td>3.947200e+02</td>\n",
       "      <td>6.243300e+02</td>\n",
       "      <td>5.500000e+03</td>\n",
       "    </tr>\n",
       "    <tr>\n",
       "      <th>75%</th>\n",
       "      <td>1.610149e+09</td>\n",
       "      <td>1.600000e+04</td>\n",
       "      <td>4.076000e+03</td>\n",
       "      <td>56.000000</td>\n",
       "      <td>3.034090e+03</td>\n",
       "      <td>4.050000e+03</td>\n",
       "      <td>1.550000e+04</td>\n",
       "    </tr>\n",
       "    <tr>\n",
       "      <th>max</th>\n",
       "      <td>2.147476e+09</td>\n",
       "      <td>1.000000e+08</td>\n",
       "      <td>2.033899e+07</td>\n",
       "      <td>219382.000000</td>\n",
       "      <td>2.033899e+07</td>\n",
       "      <td>2.033899e+07</td>\n",
       "      <td>1.663614e+08</td>\n",
       "    </tr>\n",
       "  </tbody>\n",
       "</table>\n",
       "</div>"
      ],
      "text/plain": [
       "                 ID          goal       pledged        backers   usd pledged  \\\n",
       "count  3.786610e+05  3.786610e+05  3.786610e+05  378661.000000  3.748640e+05   \n",
       "mean   1.074731e+09  4.908079e+04  9.682979e+03     105.617476  7.036729e+03   \n",
       "std    6.190862e+08  1.183391e+06  9.563601e+04     907.185035  7.863975e+04   \n",
       "min    5.971000e+03  1.000000e-02  0.000000e+00       0.000000  0.000000e+00   \n",
       "25%    5.382635e+08  2.000000e+03  3.000000e+01       2.000000  1.698000e+01   \n",
       "50%    1.075276e+09  5.200000e+03  6.200000e+02      12.000000  3.947200e+02   \n",
       "75%    1.610149e+09  1.600000e+04  4.076000e+03      56.000000  3.034090e+03   \n",
       "max    2.147476e+09  1.000000e+08  2.033899e+07  219382.000000  2.033899e+07   \n",
       "\n",
       "       usd_pledged_real  usd_goal_real  \n",
       "count      3.786610e+05   3.786610e+05  \n",
       "mean       9.058924e+03   4.545440e+04  \n",
       "std        9.097334e+04   1.152950e+06  \n",
       "min        0.000000e+00   1.000000e-02  \n",
       "25%        3.100000e+01   2.000000e+03  \n",
       "50%        6.243300e+02   5.500000e+03  \n",
       "75%        4.050000e+03   1.550000e+04  \n",
       "max        2.033899e+07   1.663614e+08  "
      ]
     },
     "execution_count": 49,
     "metadata": {},
     "output_type": "execute_result"
    }
   ],
   "source": [
    "ks_data.describe()"
   ]
  },
  {
   "cell_type": "code",
   "execution_count": 50,
   "metadata": {},
   "outputs": [
    {
     "name": "stdout",
     "output_type": "stream",
     "text": [
      "<class 'pandas.core.frame.DataFrame'>\n",
      "RangeIndex: 378661 entries, 0 to 378660\n",
      "Data columns (total 15 columns):\n",
      "ID                  378661 non-null int64\n",
      "name                378657 non-null object\n",
      "category            378661 non-null object\n",
      "main_category       378661 non-null object\n",
      "currency            378661 non-null object\n",
      "deadline            378661 non-null object\n",
      "goal                378661 non-null float64\n",
      "launched            378661 non-null object\n",
      "pledged             378661 non-null float64\n",
      "state               378661 non-null object\n",
      "backers             378661 non-null int64\n",
      "country             378661 non-null object\n",
      "usd pledged         374864 non-null float64\n",
      "usd_pledged_real    378661 non-null float64\n",
      "usd_goal_real       378661 non-null float64\n",
      "dtypes: float64(5), int64(2), object(8)\n",
      "memory usage: 43.3+ MB\n"
     ]
    }
   ],
   "source": [
    "ks_data.info()"
   ]
  },
  {
   "cell_type": "code",
   "execution_count": 51,
   "metadata": {},
   "outputs": [
    {
     "data": {
      "text/plain": [
       "ID                     0\n",
       "name                   4\n",
       "category               0\n",
       "main_category          0\n",
       "currency               0\n",
       "deadline               0\n",
       "goal                   0\n",
       "launched               0\n",
       "pledged                0\n",
       "state                  0\n",
       "backers                0\n",
       "country                0\n",
       "usd pledged         3797\n",
       "usd_pledged_real       0\n",
       "usd_goal_real          0\n",
       "dtype: int64"
      ]
     },
     "execution_count": 51,
     "metadata": {},
     "output_type": "execute_result"
    }
   ],
   "source": [
    "#check for missing values\n",
    "missing_values_count = ks_data.isnull().sum()\n",
    "missing_values_count\n"
   ]
  },
  {
   "cell_type": "code",
   "execution_count": 52,
   "metadata": {},
   "outputs": [
    {
     "name": "stdout",
     "output_type": "stream",
     "text": [
      "Percent of missing data = 0.06692001552840139\n"
     ]
    }
   ],
   "source": [
    "# how many total missing values do we have?\n",
    "total_cells = np.product(ks_data.shape)\n",
    "total_missing = missing_values_count.sum()\n",
    "\n",
    "# percent of data that is missing\n",
    "missing_percent = (total_missing/total_cells) * 100\n",
    "\n",
    "print('Percent of missing data = {}'.format(missing_percent))"
   ]
  },
  {
   "cell_type": "markdown",
   "metadata": {},
   "source": [
    "# Comment: \n",
    "We can see that the amount of missing values is very little. However, I always check all the string string value columns for 'weird' characters to clean the data. (sometimes, they contain different values to mean unkown or unavailable without necessarily leaving it empty or with NA) \n",
    "\n",
    "*Keeping track of all the weirdness here:*\n",
    "\n",
    "**name:** \n",
    "Canceled (Canceled), N/A (Canceled), Cancelled (Canceled), a (Canceled), Project (Canceled)\n",
    "\n",
    "**state:**\n",
    "canceled, suspended, undefined, live\n",
    "\n",
    "**country:**\n",
    "N,0\"\n",
    "\n",
    "\n",
    "Now that we see that there are many different forms and characters, I'd like to delete them so that they do not mess up the rest of the analysis. However, I'd like to see the distribution and total number of campaigns before I remove them. \n",
    "\n"
   ]
  },
  {
   "cell_type": "markdown",
   "metadata": {},
   "source": [
    "# 1. What percentage of campaign succeed or fail?"
   ]
  },
  {
   "cell_type": "code",
   "execution_count": 53,
   "metadata": {},
   "outputs": [
    {
     "name": "stdout",
     "output_type": "stream",
     "text": [
      "Success_Percent in %: \n",
      "failed        52.22\n",
      "successful    35.38\n",
      "canceled      10.24\n",
      "undefined      0.94\n",
      "live           0.74\n",
      "suspended      0.49\n",
      "Name: state, dtype: float64\n"
     ]
    },
    {
     "data": {
      "application/vnd.plotly.v1+json": {
       "data": [
        {
         "labels": [
          "failed",
          "successful",
          "canceled",
          "undefined",
          "live",
          "suspended"
         ],
         "marker": {
          "colors": [
           "red"
          ]
         },
         "type": "pie",
         "uid": "efa484f6-1455-11e9-8f60-00dbdf806640",
         "values": [
          52.22,
          35.38,
          10.24,
          0.94,
          0.74,
          0.49
         ]
        }
       ],
       "layout": {
        "legend": {
         "orientation": "h"
        },
        "title": "Distribution of Success Status on Kickstarter campaigns"
       }
      },
      "text/html": [
       "<div id=\"e3e49635-d86b-4ca0-bee4-cebb6c54b982\" style=\"height: 525px; width: 100%;\" class=\"plotly-graph-div\"></div><script type=\"text/javascript\">require([\"plotly\"], function(Plotly) { window.PLOTLYENV=window.PLOTLYENV || {};window.PLOTLYENV.BASE_URL=\"https://plot.ly\";Plotly.newPlot(\"e3e49635-d86b-4ca0-bee4-cebb6c54b982\", [{\"labels\": [\"failed\", \"successful\", \"canceled\", \"undefined\", \"live\", \"suspended\"], \"marker\": {\"colors\": [\"red\"]}, \"values\": [52.22, 35.38, 10.24, 0.94, 0.74, 0.49], \"type\": \"pie\", \"uid\": \"efa484f6-1455-11e9-8f60-00dbdf806640\"}], {\"legend\": {\"orientation\": \"h\"}, \"title\": \"Distribution of Success Status on Kickstarter campaigns\"}, {\"showLink\": true, \"linkText\": \"Export to plot.ly\"})});</script>"
      ],
      "text/vnd.plotly.v1+html": [
       "<div id=\"e3e49635-d86b-4ca0-bee4-cebb6c54b982\" style=\"height: 525px; width: 100%;\" class=\"plotly-graph-div\"></div><script type=\"text/javascript\">require([\"plotly\"], function(Plotly) { window.PLOTLYENV=window.PLOTLYENV || {};window.PLOTLYENV.BASE_URL=\"https://plot.ly\";Plotly.newPlot(\"e3e49635-d86b-4ca0-bee4-cebb6c54b982\", [{\"labels\": [\"failed\", \"successful\", \"canceled\", \"undefined\", \"live\", \"suspended\"], \"marker\": {\"colors\": [\"red\"]}, \"values\": [52.22, 35.38, 10.24, 0.94, 0.74, 0.49], \"type\": \"pie\", \"uid\": \"efa484f6-1455-11e9-8f60-00dbdf806640\"}], {\"legend\": {\"orientation\": \"h\"}, \"title\": \"Distribution of Success Status on Kickstarter campaigns\"}, {\"showLink\": true, \"linkText\": \"Export to plot.ly\"})});</script>"
      ]
     },
     "metadata": {},
     "output_type": "display_data"
    }
   ],
   "source": [
    "#before I delete the different states, I want to see the distribution\n",
    "success_percent = round(ks_data[\"state\"].value_counts() / len(ks_data[\"state\"]) * 100,2)\n",
    "\n",
    "print(\"Success_Percent in %: \")\n",
    "print(success_percent)\n",
    "\n",
    "state = round(ks_data[\"state\"].value_counts() / len(ks_data[\"state\"]) * 100,2)\n",
    "\n",
    "labels = list(state.index)\n",
    "values = list(state.values)\n",
    "\n",
    "trace_0 = go.Pie(labels=labels, values=values, marker=dict(colors=['red']))\n",
    "\n",
    "layout = go.Layout(title='Distribution of Success Status on Kickstarter campaigns', legend=dict(orientation=\"h\"));\n",
    "\n",
    "fig = go.Figure(data=[trace_0], layout=layout)\n",
    "iplot(fig)"
   ]
  },
  {
   "cell_type": "markdown",
   "metadata": {},
   "source": [
    "# Comment\n",
    "It's fascinating that more campaign fail than succeed and by a relatively big margin. \n",
    "For this analysis, I will focus on success and failure and will chose to remove canceled, suspended, live and undefined campaigns.\n",
    "\n",
    "\n"
   ]
  },
  {
   "cell_type": "markdown",
   "metadata": {},
   "source": [
    "# 2. How many campaign per year have there been on Kickstarter since 2009?"
   ]
  },
  {
   "cell_type": "code",
   "execution_count": 54,
   "metadata": {},
   "outputs": [
    {
     "data": {
      "text/plain": [
       "launched_year\n",
       "1970        7\n",
       "2009     1329\n",
       "2010    10519\n",
       "2011    26237\n",
       "2012    41165\n",
       "2013    44851\n",
       "2014    67745\n",
       "2015    77300\n",
       "2016    57184\n",
       "2017    52200\n",
       "2018      124\n",
       "Name: ID, dtype: int64"
      ]
     },
     "execution_count": 54,
     "metadata": {},
     "output_type": "execute_result"
    }
   ],
   "source": [
    "#Create new column to extract the year\n",
    "ks_data['launched_year'] = pd.to_datetime(ks_data['launched']).dt.year\n",
    "\n",
    "#count total number of campaign per year\n",
    "total_campaigns = ks_data['ID'].groupby(ks_data['launched_year']).count()\n",
    "total_campaigns"
   ]
  },
  {
   "cell_type": "code",
   "execution_count": 55,
   "metadata": {},
   "outputs": [],
   "source": [
    "# we have a couple random ones from apparently the year 1970, I will delete those rows:\n",
    "ks_data = ks_data[ks_data.launched_year != 1970]"
   ]
  },
  {
   "cell_type": "code",
   "execution_count": 56,
   "metadata": {},
   "outputs": [
    {
     "data": {
      "application/vnd.plotly.v1+json": {
       "data": [
        {
         "marker": {
          "color": [
           0,
           1,
           2,
           3,
           4,
           5,
           6,
           7,
           8,
           9,
           10,
           11,
           12,
           13,
           14,
           15,
           16,
           17,
           18,
           19,
           20,
           21,
           22,
           23,
           24,
           25,
           26,
           27,
           28,
           29,
           30,
           31,
           32,
           33,
           34,
           35,
           36,
           37,
           38,
           39
          ],
          "colorscale": "Viridis",
          "reversescale": true
         },
         "type": "bar",
         "uid": "f1d53474-1455-11e9-b4d6-00dbdf806640",
         "x": [
          2009,
          2010,
          2011,
          2012,
          2013,
          2014,
          2015,
          2016,
          2017
         ],
         "y": [
          7,
          1329,
          10519,
          26237,
          41165,
          44851,
          67745,
          77300,
          57184,
          52200,
          124
         ]
        }
       ],
       "layout": {
        "showlegend": false,
        "title": "Total number of Campaigns on Kickstarter per Year",
        "xaxis": {
         "title": "Year",
         "titlefont": {
          "color": "#7f7f7f",
          "family": "Ariel",
          "size": 14
         }
        },
        "yaxis": {
         "title": "Total number of campaigns in Thousands",
         "titlefont": {
          "color": "#7f7f7f",
          "family": "Ariel",
          "size": 14
         }
        }
       }
      },
      "text/html": [
       "<div id=\"688d2c8b-6006-4f8f-9763-7e10d9f45b1d\" style=\"height: 525px; width: 100%;\" class=\"plotly-graph-div\"></div><script type=\"text/javascript\">require([\"plotly\"], function(Plotly) { window.PLOTLYENV=window.PLOTLYENV || {};window.PLOTLYENV.BASE_URL=\"https://plot.ly\";Plotly.newPlot(\"688d2c8b-6006-4f8f-9763-7e10d9f45b1d\", [{\"marker\": {\"color\": [0, 1, 2, 3, 4, 5, 6, 7, 8, 9, 10, 11, 12, 13, 14, 15, 16, 17, 18, 19, 20, 21, 22, 23, 24, 25, 26, 27, 28, 29, 30, 31, 32, 33, 34, 35, 36, 37, 38, 39], \"colorscale\": \"Viridis\", \"reversescale\": true}, \"x\": [2009, 2010, 2011, 2012, 2013, 2014, 2015, 2016, 2017], \"y\": [7, 1329, 10519, 26237, 41165, 44851, 67745, 77300, 57184, 52200, 124], \"type\": \"bar\", \"uid\": \"f1d8623a-1455-11e9-9069-00dbdf806640\"}], {\"showlegend\": false, \"title\": \"Total number of Campaigns on Kickstarter per Year\", \"xaxis\": {\"title\": \"Year\", \"titlefont\": {\"color\": \"#7f7f7f\", \"family\": \"Ariel\", \"size\": 14}}, \"yaxis\": {\"title\": \"Total number of campaigns in Thousands\", \"titlefont\": {\"color\": \"#7f7f7f\", \"family\": \"Ariel\", \"size\": 14}}}, {\"showLink\": true, \"linkText\": \"Export to plot.ly\"})});</script>"
      ],
      "text/vnd.plotly.v1+html": [
       "<div id=\"688d2c8b-6006-4f8f-9763-7e10d9f45b1d\" style=\"height: 525px; width: 100%;\" class=\"plotly-graph-div\"></div><script type=\"text/javascript\">require([\"plotly\"], function(Plotly) { window.PLOTLYENV=window.PLOTLYENV || {};window.PLOTLYENV.BASE_URL=\"https://plot.ly\";Plotly.newPlot(\"688d2c8b-6006-4f8f-9763-7e10d9f45b1d\", [{\"marker\": {\"color\": [0, 1, 2, 3, 4, 5, 6, 7, 8, 9, 10, 11, 12, 13, 14, 15, 16, 17, 18, 19, 20, 21, 22, 23, 24, 25, 26, 27, 28, 29, 30, 31, 32, 33, 34, 35, 36, 37, 38, 39], \"colorscale\": \"Viridis\", \"reversescale\": true}, \"x\": [2009, 2010, 2011, 2012, 2013, 2014, 2015, 2016, 2017], \"y\": [7, 1329, 10519, 26237, 41165, 44851, 67745, 77300, 57184, 52200, 124], \"type\": \"bar\", \"uid\": \"f1d8623a-1455-11e9-9069-00dbdf806640\"}], {\"showlegend\": false, \"title\": \"Total number of Campaigns on Kickstarter per Year\", \"xaxis\": {\"title\": \"Year\", \"titlefont\": {\"color\": \"#7f7f7f\", \"family\": \"Ariel\", \"size\": 14}}, \"yaxis\": {\"title\": \"Total number of campaigns in Thousands\", \"titlefont\": {\"color\": \"#7f7f7f\", \"family\": \"Ariel\", \"size\": 14}}}, {\"showLink\": true, \"linkText\": \"Export to plot.ly\"})});</script>"
      ]
     },
     "metadata": {},
     "output_type": "display_data"
    }
   ],
   "source": [
    "#Plot the number of campaign per year\n",
    "data = [go.Bar(\n",
    "          x= [ 2009, 2010, 2011, 2012, 2013, 2014, 2015, 2016, 2017],\n",
    "          y=total_campaigns,\n",
    "          marker=dict(\n",
    "            color=[0, 1, 2, 3, 4, 5, 6, 7, 8, 9, 10, 11, 12, 13, 14, 15, 16, 17, 18, 19, 20, 21, 22, 23, 24, 25, 26,\n",
    "               27, 28, 29, 30, 31, 32, 33, 34, 35, 36, 37, 38, 39],\n",
    "            colorscale='Viridis',\n",
    "            reversescale = True))]\n",
    "\n",
    "layout = go.Layout(\n",
    "    dict(title= 'Total number of Campaigns on Kickstarter per Year', \n",
    "         showlegend=False),\n",
    "    xaxis=dict(\n",
    "        title='Year',\n",
    "        titlefont=dict(\n",
    "            family='Ariel',\n",
    "            size=14,\n",
    "            color='#7f7f7f'\n",
    "        )\n",
    "    ),\n",
    "    yaxis=dict(\n",
    "        title='Total number of campaigns in Thousands',\n",
    "        titlefont=dict(\n",
    "            \n",
    "            family='Ariel',\n",
    "            size=14,\n",
    "            color='#7f7f7f'\n",
    "            \n",
    "        )\n",
    "    )\n",
    ")\n",
    "fig = dict(data=data, layout=layout)\n",
    "\n",
    "py.iplot(fig, filename='basic-bar')"
   ]
  },
  {
   "cell_type": "markdown",
   "metadata": {},
   "source": [
    "# Comment\n",
    "Wow that is a lot of campaigns, Now I want to take a deeper look at how many campaign succeed and how many fail.\n",
    "\n",
    "But before, we have to do some more data cleanup. including removing the 'weird' characters and adjusting the time information."
   ]
  },
  {
   "cell_type": "code",
   "execution_count": 57,
   "metadata": {},
   "outputs": [],
   "source": [
    "# drop rows with'weird characters' in it\n",
    "#name: Canceled (Canceled), N/A (Canceled),\n",
    "#Cancelled (Canceled), a (Canceled), Project (Canceled)\n",
    "\n",
    "#state: canceled, suspended, undefined, live\n",
    "\n",
    "#country: N,0\"\n",
    "ks_data = ks_data[ks_data.name != 'Canceled (Canceled)']\n",
    "ks_data = ks_data[ks_data.name != 'N/A (Canceled)']\n",
    "ks_data = ks_data[ks_data.name != 'Cancelled (Canceled)']\n",
    "ks_data = ks_data[ks_data.name != 'a (Canceled)']\n",
    "ks_data = ks_data[ks_data.name != 'Project (Canceled)']\n",
    "\n",
    "#State\n",
    "ks_data = ks_data[ks_data.state != 'canceled']\n",
    "ks_data = ks_data[ks_data.state != 'suspended']\n",
    "ks_data = ks_data[ks_data.state != 'undefined']\n",
    "ks_data = ks_data[ks_data.state != 'live']\n",
    "\n",
    "#country\n",
    "ks_data = ks_data[ks_data.country != 'N,0\"']\n",
    "\n",
    "#drop na\n",
    "ks_data.dropna(axis=0, how='all',inplace=True)"
   ]
  },
  {
   "cell_type": "code",
   "execution_count": 58,
   "metadata": {},
   "outputs": [
    {
     "name": "stdout",
     "output_type": "stream",
     "text": [
      "Number of columns: 16\n",
      "Number of rows: 331465\n"
     ]
    }
   ],
   "source": [
    "#check the shape of the data set\n",
    "num_rows, num_cols  = ks_data.shape\n",
    "print('Number of columns: {}'.format(num_cols))\n",
    "print('Number of rows: {}'.format(num_rows))"
   ]
  },
  {
   "cell_type": "code",
   "execution_count": 59,
   "metadata": {},
   "outputs": [],
   "source": [
    "#Now it's time to transform the date data to date format. some include the time, so it needs to be fixed\n",
    "\n",
    "ks_data['deadline_date'] = pd.to_datetime(ks_data['deadline']).dt.date\n",
    "ks_data['deadline_month'] = pd.to_datetime(ks_data['deadline']).dt.month\n",
    "\n",
    "ks_data['launched_date'] = pd.to_datetime(ks_data['launched']).dt.date\n",
    "ks_data['launched_time'] = pd.to_datetime(ks_data['launched']).dt.time\n",
    "ks_data['launched_month'] = pd.to_datetime(ks_data['launched_date']).dt.month\n"
   ]
  },
  {
   "cell_type": "markdown",
   "metadata": {},
   "source": [
    "# Comment\n",
    "This information is from the data read me files:\n",
    "\n",
    "You'll find most useful data for project analysis. Columns are self explanatory except:\n",
    "usd_pledged: conversion in US dollars of the pledged column (conversion done by kickstarter).\n",
    "usd pledge real: conversion in US dollars of the pledged column (conversion from Fixer.io API).\n",
    "usd goal real: conversion in US dollars of the goal column (conversion from Fixer.io API).\n",
    "\n",
    "this tells us that the data is mostly duplicated, I will proceed using the us_pledged_real and usd_goal_real to reflect the accurate amount in US dollar and to keep the scale consistent."
   ]
  },
  {
   "cell_type": "code",
   "execution_count": 60,
   "metadata": {},
   "outputs": [],
   "source": [
    "#drop duplicate columns including the ones with empty values  \n",
    "col_drop = ['usd pledged', 'goal', 'pledged',\n",
    "            'deadline', 'launched']\n",
    "for col in col_drop:\n",
    "    ks_data.drop(col, axis=1, inplace=True)\n",
    "\n"
   ]
  },
  {
   "cell_type": "code",
   "execution_count": 61,
   "metadata": {},
   "outputs": [
    {
     "data": {
      "text/plain": [
       "Index(['ID', 'name', 'category', 'main_category', 'currency', 'state',\n",
       "       'backers', 'country', 'usd_pledged_real', 'usd_goal_real',\n",
       "       'launched_year', 'deadline_date', 'deadline_month', 'launched_date',\n",
       "       'launched_time', 'launched_month'],\n",
       "      dtype='object')"
      ]
     },
     "execution_count": 61,
     "metadata": {},
     "output_type": "execute_result"
    }
   ],
   "source": [
    "ks_data.columns"
   ]
  },
  {
   "cell_type": "markdown",
   "metadata": {},
   "source": [
    "### let's dive into the campaigns and look at their success or lack thereof. \n",
    "#  3. How many campaigns in each category have there been on Kickstarter since 2009 per year ?  and how many were successful?"
   ]
  },
  {
   "cell_type": "code",
   "execution_count": 62,
   "metadata": {},
   "outputs": [
    {
     "name": "stdout",
     "output_type": "stream",
     "text": [
      "Main Successful Categories :\n",
      "Music           24105\n",
      "Film & Video    23612\n",
      "Games           12518\n",
      "Publishing      12300\n",
      "Art             11510\n",
      "Design          10549\n",
      "Theater          6534\n",
      "Technology       6433\n",
      "Food             6085\n",
      "Comics           5842\n",
      "Fashion          5593\n",
      "Photography      3305\n",
      "Dance            2338\n",
      "Crafts           2115\n",
      "Journalism       1012\n",
      "Name: main_category, dtype: int64\n",
      "Main Not-So- Successful Categories :\n",
      "Film & Video    32892\n",
      "Publishing      23113\n",
      "Music           21696\n",
      "Technology      20613\n",
      "Games           16003\n",
      "Food            15969\n",
      "Design          14814\n",
      "Fashion         14181\n",
      "Art             14131\n",
      "Photography      6384\n",
      "Crafts           5703\n",
      "Comics           4036\n",
      "Theater          3708\n",
      "Journalism       3136\n",
      "Dance            1235\n",
      "Name: main_category, dtype: int64\n"
     ]
    }
   ],
   "source": [
    "main_catigs = ks_data[\"main_category\"].value_counts()\n",
    "#separate the data into failed and successful campaigns\n",
    "main_catigs_failed = ks_data[ks_data[\"state\"] == \"failed\"][\"main_category\"].value_counts()\n",
    "main_catigs_success = ks_data[ks_data[\"state\"] == \"successful\"][\"main_category\"].value_counts()\n",
    "\n",
    "print('Main Successful Categories :')\n",
    "print (main_catigs_success)\n",
    "\n",
    "print('Main Not-So- Successful Categories :')\n",
    "print (main_catigs_failed)"
   ]
  },
  {
   "cell_type": "code",
   "execution_count": 63,
   "metadata": {},
   "outputs": [
    {
     "data": {
      "application/vnd.plotly.v1+json": {
       "data": [
        {
         "marker": {
          "color": [
           0,
           1,
           2,
           3,
           4,
           5,
           6,
           7,
           8,
           9,
           10,
           11,
           12,
           13,
           14,
           15,
           16,
           17,
           18,
           19,
           20,
           21,
           22,
           23,
           24,
           25,
           26,
           27,
           28,
           29,
           30,
           31,
           32,
           33,
           34,
           35,
           36,
           37,
           38,
           39
          ],
          "colorscale": "Viridis"
         },
         "name": "Number of Campaigns per Category",
         "type": "bar",
         "uid": "f6e4ac36-1455-11e9-a041-00dbdf806640",
         "x": [
          "Film & Video",
          "Music",
          "Publishing",
          "Games",
          "Technology",
          "Art",
          "Design",
          "Food",
          "Fashion",
          "Theater",
          "Comics",
          "Photography",
          "Crafts",
          "Journalism",
          "Dance"
         ],
         "y": [
          56504,
          45801,
          35413,
          28521,
          27046,
          25641,
          25363,
          22054,
          19774,
          10242,
          9878,
          9689,
          7818,
          4148,
          3573
         ]
        }
       ],
       "layout": {
        "bargap": 0.05,
        "barmode": "group",
        "showlegend": false,
        "title": "Total number of campaigns on Kickstarter per category since 2009"
       }
      },
      "text/html": [
       "<div id=\"b618e0e1-b9b2-45dd-86f4-7840366ba0b9\" style=\"height: 525px; width: 100%;\" class=\"plotly-graph-div\"></div><script type=\"text/javascript\">require([\"plotly\"], function(Plotly) { window.PLOTLYENV=window.PLOTLYENV || {};window.PLOTLYENV.BASE_URL=\"https://plot.ly\";Plotly.newPlot(\"b618e0e1-b9b2-45dd-86f4-7840366ba0b9\", [{\"marker\": {\"color\": [0, 1, 2, 3, 4, 5, 6, 7, 8, 9, 10, 11, 12, 13, 14, 15, 16, 17, 18, 19, 20, 21, 22, 23, 24, 25, 26, 27, 28, 29, 30, 31, 32, 33, 34, 35, 36, 37, 38, 39], \"colorscale\": \"Viridis\"}, \"name\": \"Number of Campaigns per Category\", \"x\": [\"Film & Video\", \"Music\", \"Publishing\", \"Games\", \"Technology\", \"Art\", \"Design\", \"Food\", \"Fashion\", \"Theater\", \"Comics\", \"Photography\", \"Crafts\", \"Journalism\", \"Dance\"], \"y\": [56504, 45801, 35413, 28521, 27046, 25641, 25363, 22054, 19774, 10242, 9878, 9689, 7818, 4148, 3573], \"type\": \"bar\", \"uid\": \"f6e4ac36-1455-11e9-a041-00dbdf806640\"}], {\"barmode\": \"group\", \"showlegend\": false, \"title\": \"Total number of campaigns on Kickstarter per category since 2009\", \"bargap\": 0.05}, {\"showLink\": true, \"linkText\": \"Export to plot.ly\"})});</script>"
      ],
      "text/vnd.plotly.v1+html": [
       "<div id=\"b618e0e1-b9b2-45dd-86f4-7840366ba0b9\" style=\"height: 525px; width: 100%;\" class=\"plotly-graph-div\"></div><script type=\"text/javascript\">require([\"plotly\"], function(Plotly) { window.PLOTLYENV=window.PLOTLYENV || {};window.PLOTLYENV.BASE_URL=\"https://plot.ly\";Plotly.newPlot(\"b618e0e1-b9b2-45dd-86f4-7840366ba0b9\", [{\"marker\": {\"color\": [0, 1, 2, 3, 4, 5, 6, 7, 8, 9, 10, 11, 12, 13, 14, 15, 16, 17, 18, 19, 20, 21, 22, 23, 24, 25, 26, 27, 28, 29, 30, 31, 32, 33, 34, 35, 36, 37, 38, 39], \"colorscale\": \"Viridis\"}, \"name\": \"Number of Campaigns per Category\", \"x\": [\"Film & Video\", \"Music\", \"Publishing\", \"Games\", \"Technology\", \"Art\", \"Design\", \"Food\", \"Fashion\", \"Theater\", \"Comics\", \"Photography\", \"Crafts\", \"Journalism\", \"Dance\"], \"y\": [56504, 45801, 35413, 28521, 27046, 25641, 25363, 22054, 19774, 10242, 9878, 9689, 7818, 4148, 3573], \"type\": \"bar\", \"uid\": \"f6e4ac36-1455-11e9-a041-00dbdf806640\"}], {\"barmode\": \"group\", \"showlegend\": false, \"title\": \"Total number of campaigns on Kickstarter per category since 2009\", \"bargap\": 0.05}, {\"showLink\": true, \"linkText\": \"Export to plot.ly\"})});</script>"
      ]
     },
     "metadata": {},
     "output_type": "display_data"
    }
   ],
   "source": [
    "#number of campaigns per category plot\n",
    "trace_0 = go.Bar(\n",
    "    x=main_catigs.index,\n",
    "    y=main_catigs.values,\n",
    "    name=\"Number of Campaigns per Category\",\n",
    "    marker=dict(\n",
    "        color=[0, 1, 2, 3, 4, 5, 6, 7, 8, 9, 10, 11, 12, 13, 14, 15, 16, 17, 18, 19, 20, 21, 22, 23, 24, 25, 26,\n",
    "               27, 28, 29, 30, 31, 32, 33, 34, 35, 36, 37, 38, 39],\n",
    "        \n",
    "    colorscale='Viridis')\n",
    "    \n",
    ")\n",
    "\n",
    "\n",
    "data = [trace_0]\n",
    "layout = go.Layout(\n",
    "    barmode='group'\n",
    ")\n",
    "\n",
    "fig = go.Figure(data=data, layout=layout)\n",
    "fig['layout'].update(showlegend=False, \n",
    "                     title=\"Total number of campaigns on Kickstarter per category since 2009\",\n",
    "                     bargap=0.05)\n",
    "\n",
    "\n",
    "\n",
    "\n",
    "\n",
    "#fig = go.Figure(data=data)\n",
    "iplot(fig, filename='basic-bar')"
   ]
  },
  {
   "cell_type": "markdown",
   "metadata": {},
   "source": [
    "## How many campaigns were Successful throughout the years (per category)? "
   ]
  },
  {
   "cell_type": "code",
   "execution_count": 64,
   "metadata": {},
   "outputs": [
    {
     "data": {
      "application/vnd.plotly.v1+json": {
       "data": [
        {
         "marker": {
          "color": "#fde725"
         },
         "name": "Failed Categories",
         "type": "bar",
         "uid": "0621b36c-1456-11e9-98cf-00dbdf806640",
         "x": [
          "Film & Video",
          "Publishing",
          "Music",
          "Technology",
          "Games",
          "Food",
          "Design",
          "Fashion",
          "Art",
          "Photography",
          "Crafts",
          "Comics",
          "Theater",
          "Journalism",
          "Dance"
         ],
         "y": [
          32892,
          23113,
          21696,
          20613,
          16003,
          15969,
          14814,
          14181,
          14131,
          6384,
          5703,
          4036,
          3708,
          3136,
          1235
         ]
        },
        {
         "marker": {
          "color": "#424086"
         },
         "name": "Success Categories",
         "type": "bar",
         "uid": "0621b36d-1456-11e9-bc0d-00dbdf806640",
         "x": [
          "Music",
          "Film & Video",
          "Games",
          "Publishing",
          "Art",
          "Design",
          "Theater",
          "Technology",
          "Food",
          "Comics",
          "Fashion",
          "Photography",
          "Dance",
          "Crafts",
          "Journalism"
         ],
         "y": [
          24105,
          23612,
          12518,
          12300,
          11510,
          10549,
          6534,
          6433,
          6085,
          5842,
          5593,
          3305,
          2338,
          2115,
          1012
         ]
        }
       ],
       "layout": {
        "bargap": 0.05,
        "barmode": "group",
        "showlegend": true,
        "title": "Number of Successful and Failed Campaigns on Kickstarter per Category"
       }
      },
      "text/html": [
       "<div id=\"c597798d-3843-4fa0-af8b-423b0c0dbebd\" style=\"height: 525px; width: 100%;\" class=\"plotly-graph-div\"></div><script type=\"text/javascript\">require([\"plotly\"], function(Plotly) { window.PLOTLYENV=window.PLOTLYENV || {};window.PLOTLYENV.BASE_URL=\"https://plot.ly\";Plotly.newPlot(\"c597798d-3843-4fa0-af8b-423b0c0dbebd\", [{\"marker\": {\"color\": \"#fde725\"}, \"name\": \"Failed Categories\", \"x\": [\"Film & Video\", \"Publishing\", \"Music\", \"Technology\", \"Games\", \"Food\", \"Design\", \"Fashion\", \"Art\", \"Photography\", \"Crafts\", \"Comics\", \"Theater\", \"Journalism\", \"Dance\"], \"y\": [32892, 23113, 21696, 20613, 16003, 15969, 14814, 14181, 14131, 6384, 5703, 4036, 3708, 3136, 1235], \"type\": \"bar\", \"uid\": \"0621b36c-1456-11e9-98cf-00dbdf806640\"}, {\"marker\": {\"color\": \"#424086\"}, \"name\": \"Success Categories\", \"x\": [\"Music\", \"Film & Video\", \"Games\", \"Publishing\", \"Art\", \"Design\", \"Theater\", \"Technology\", \"Food\", \"Comics\", \"Fashion\", \"Photography\", \"Dance\", \"Crafts\", \"Journalism\"], \"y\": [24105, 23612, 12518, 12300, 11510, 10549, 6534, 6433, 6085, 5842, 5593, 3305, 2338, 2115, 1012], \"type\": \"bar\", \"uid\": \"0621b36d-1456-11e9-bc0d-00dbdf806640\"}], {\"barmode\": \"group\", \"showlegend\": true, \"title\": \"Number of Successful and Failed Campaigns on Kickstarter per Category\", \"bargap\": 0.05}, {\"showLink\": true, \"linkText\": \"Export to plot.ly\"})});</script>"
      ],
      "text/vnd.plotly.v1+html": [
       "<div id=\"c597798d-3843-4fa0-af8b-423b0c0dbebd\" style=\"height: 525px; width: 100%;\" class=\"plotly-graph-div\"></div><script type=\"text/javascript\">require([\"plotly\"], function(Plotly) { window.PLOTLYENV=window.PLOTLYENV || {};window.PLOTLYENV.BASE_URL=\"https://plot.ly\";Plotly.newPlot(\"c597798d-3843-4fa0-af8b-423b0c0dbebd\", [{\"marker\": {\"color\": \"#fde725\"}, \"name\": \"Failed Categories\", \"x\": [\"Film & Video\", \"Publishing\", \"Music\", \"Technology\", \"Games\", \"Food\", \"Design\", \"Fashion\", \"Art\", \"Photography\", \"Crafts\", \"Comics\", \"Theater\", \"Journalism\", \"Dance\"], \"y\": [32892, 23113, 21696, 20613, 16003, 15969, 14814, 14181, 14131, 6384, 5703, 4036, 3708, 3136, 1235], \"type\": \"bar\", \"uid\": \"0621b36c-1456-11e9-98cf-00dbdf806640\"}, {\"marker\": {\"color\": \"#424086\"}, \"name\": \"Success Categories\", \"x\": [\"Music\", \"Film & Video\", \"Games\", \"Publishing\", \"Art\", \"Design\", \"Theater\", \"Technology\", \"Food\", \"Comics\", \"Fashion\", \"Photography\", \"Dance\", \"Crafts\", \"Journalism\"], \"y\": [24105, 23612, 12518, 12300, 11510, 10549, 6534, 6433, 6085, 5842, 5593, 3305, 2338, 2115, 1012], \"type\": \"bar\", \"uid\": \"0621b36d-1456-11e9-bc0d-00dbdf806640\"}], {\"barmode\": \"group\", \"showlegend\": true, \"title\": \"Number of Successful and Failed Campaigns on Kickstarter per Category\", \"bargap\": 0.05}, {\"showLink\": true, \"linkText\": \"Export to plot.ly\"})});</script>"
      ]
     },
     "metadata": {},
     "output_type": "display_data"
    }
   ],
   "source": [
    "#Successful campaign vs. failed campaigns\n",
    "#First plot\n",
    "trace_0 = go.Bar(\n",
    "    x=main_catigs_failed.index,\n",
    "    y=main_catigs_failed.values,\n",
    "    name=\"Failed Categories\",\n",
    "    marker = dict(\n",
    "            color = '#fde725')\n",
    "    \n",
    ")\n",
    "#Second plot\n",
    "trace_1 = go.Bar(\n",
    "    x=main_catigs_success.index,\n",
    "    y=main_catigs_success.values,\n",
    "    name=\"Success Categories\",\n",
    "    marker=dict(\n",
    "        color= '#424086')\n",
    "    \n",
    ")\n",
    "\n",
    "\n",
    "\n",
    "data = [trace_0, trace_1]\n",
    "layout = go.Layout(\n",
    "    barmode='group'\n",
    "        \n",
    "    \n",
    ")\n",
    "\n",
    "fig = go.Figure(data=data, layout=layout)\n",
    "\n",
    "\n",
    "fig['layout'].update(showlegend=True, title=\"Number of Successful and Failed Campaigns on Kickstarter per Category\",\n",
    "                     bargap=0.05)\n",
    "\n",
    "iplot(fig, filename='grouped-bar')\n"
   ]
  },
  {
   "cell_type": "markdown",
   "metadata": {},
   "source": [
    "# 4. How many total backers per category since 2009? (credence to the crowd-sourcing claim)"
   ]
  },
  {
   "cell_type": "code",
   "execution_count": 65,
   "metadata": {},
   "outputs": [
    {
     "name": "stdout",
     "output_type": "stream",
     "text": [
      "Number of Backers in Successful Campaigns :\n",
      "main_category\n",
      "Art              1040022\n",
      "Comics           1351864\n",
      "Crafts            199124\n",
      "Dance             148220\n",
      "Design           6485969\n",
      "Fashion          1213688\n",
      "Film & Video     3603935\n",
      "Food             1098695\n",
      "Games           10194460\n",
      "Journalism        154134\n",
      "Music            2472579\n",
      "Photography       359407\n",
      "Publishing       1953524\n",
      "Technology       4617545\n",
      "Theater           460684\n",
      "Name: backers, dtype: int64\n",
      "Number of Backers in Not-So- Successful Campaigns :\n",
      "main_category\n",
      "Art             124655\n",
      "Comics           86455\n",
      "Crafts           34252\n",
      "Dance            11816\n",
      "Design          467361\n",
      "Fashion         139896\n",
      "Film & Video    497340\n",
      "Food            201480\n",
      "Games           703519\n",
      "Journalism       24513\n",
      "Music           199980\n",
      "Photography      59448\n",
      "Publishing      235766\n",
      "Technology      417730\n",
      "Theater          42800\n",
      "Name: backers, dtype: int64\n"
     ]
    }
   ],
   "source": [
    "num_backers = ks_data.groupby(['main_category']).backers.sum()\n",
    "\n",
    "num_backers_failed = ks_data[ks_data[\"state\"] == \"failed\"].groupby(['main_category']).backers.sum()\n",
    "num_backers_success = ks_data[ks_data[\"state\"] == \"successful\"].groupby(['main_category']).backers.sum()\n",
    "print('Number of Backers in Successful Campaigns :')\n",
    "print (num_backers_success)\n",
    "\n",
    "print('Number of Backers in Not-So- Successful Campaigns :')\n",
    "print (num_backers_failed)"
   ]
  },
  {
   "cell_type": "code",
   "execution_count": 67,
   "metadata": {},
   "outputs": [
    {
     "data": {
      "application/vnd.plotly.v1+json": {
       "data": [
        {
         "marker": {
          "color": "#fde725"
         },
         "name": "Number of Backers for Failed Categories",
         "type": "bar",
         "uid": "1eef7808-1456-11e9-b887-00dbdf806640",
         "x": [
          "Art",
          "Comics",
          "Crafts",
          "Dance",
          "Design",
          "Fashion",
          "Film & Video",
          "Food",
          "Games",
          "Journalism",
          "Music",
          "Photography",
          "Publishing",
          "Technology",
          "Theater"
         ],
         "y": [
          124655,
          86455,
          34252,
          11816,
          467361,
          139896,
          497340,
          201480,
          703519,
          24513,
          199980,
          59448,
          235766,
          417730,
          42800
         ]
        },
        {
         "marker": {
          "color": "#440154"
         },
         "name": "Number of Backers for Success Categories",
         "type": "bar",
         "uid": "1eef8b70-1456-11e9-9e53-00dbdf806640",
         "x": [
          "Art",
          "Comics",
          "Crafts",
          "Dance",
          "Design",
          "Fashion",
          "Film & Video",
          "Food",
          "Games",
          "Journalism",
          "Music",
          "Photography",
          "Publishing",
          "Technology",
          "Theater"
         ],
         "y": [
          1040022,
          1351864,
          199124,
          148220,
          6485969,
          1213688,
          3603935,
          1098695,
          10194460,
          154134,
          2472579,
          359407,
          1953524,
          4617545,
          460684
         ]
        }
       ],
       "layout": {
        "bargap": 0.05,
        "barmode": "group",
        "showlegend": true,
        "title": "Number of backers for Successful and Failed Campaigns on Kickstarter per Category since 2009"
       }
      },
      "text/html": [
       "<div id=\"1b709402-a32f-4e68-a169-daaa680d5f9a\" style=\"height: 525px; width: 100%;\" class=\"plotly-graph-div\"></div><script type=\"text/javascript\">require([\"plotly\"], function(Plotly) { window.PLOTLYENV=window.PLOTLYENV || {};window.PLOTLYENV.BASE_URL=\"https://plot.ly\";Plotly.newPlot(\"1b709402-a32f-4e68-a169-daaa680d5f9a\", [{\"marker\": {\"color\": \"#fde725\"}, \"name\": \"Number of Backers for Failed Categories\", \"x\": [\"Art\", \"Comics\", \"Crafts\", \"Dance\", \"Design\", \"Fashion\", \"Film & Video\", \"Food\", \"Games\", \"Journalism\", \"Music\", \"Photography\", \"Publishing\", \"Technology\", \"Theater\"], \"y\": [124655, 86455, 34252, 11816, 467361, 139896, 497340, 201480, 703519, 24513, 199980, 59448, 235766, 417730, 42800], \"type\": \"bar\", \"uid\": \"1eef7808-1456-11e9-b887-00dbdf806640\"}, {\"marker\": {\"color\": \"#440154\"}, \"name\": \"Number of Backers for Success Categories\", \"x\": [\"Art\", \"Comics\", \"Crafts\", \"Dance\", \"Design\", \"Fashion\", \"Film & Video\", \"Food\", \"Games\", \"Journalism\", \"Music\", \"Photography\", \"Publishing\", \"Technology\", \"Theater\"], \"y\": [1040022, 1351864, 199124, 148220, 6485969, 1213688, 3603935, 1098695, 10194460, 154134, 2472579, 359407, 1953524, 4617545, 460684], \"type\": \"bar\", \"uid\": \"1eef8b70-1456-11e9-9e53-00dbdf806640\"}], {\"barmode\": \"group\", \"showlegend\": true, \"title\": \"Number of backers for Successful and Failed Campaigns on Kickstarter per Category since 2009\", \"bargap\": 0.05}, {\"showLink\": true, \"linkText\": \"Export to plot.ly\"})});</script>"
      ],
      "text/vnd.plotly.v1+html": [
       "<div id=\"1b709402-a32f-4e68-a169-daaa680d5f9a\" style=\"height: 525px; width: 100%;\" class=\"plotly-graph-div\"></div><script type=\"text/javascript\">require([\"plotly\"], function(Plotly) { window.PLOTLYENV=window.PLOTLYENV || {};window.PLOTLYENV.BASE_URL=\"https://plot.ly\";Plotly.newPlot(\"1b709402-a32f-4e68-a169-daaa680d5f9a\", [{\"marker\": {\"color\": \"#fde725\"}, \"name\": \"Number of Backers for Failed Categories\", \"x\": [\"Art\", \"Comics\", \"Crafts\", \"Dance\", \"Design\", \"Fashion\", \"Film & Video\", \"Food\", \"Games\", \"Journalism\", \"Music\", \"Photography\", \"Publishing\", \"Technology\", \"Theater\"], \"y\": [124655, 86455, 34252, 11816, 467361, 139896, 497340, 201480, 703519, 24513, 199980, 59448, 235766, 417730, 42800], \"type\": \"bar\", \"uid\": \"1eef7808-1456-11e9-b887-00dbdf806640\"}, {\"marker\": {\"color\": \"#440154\"}, \"name\": \"Number of Backers for Success Categories\", \"x\": [\"Art\", \"Comics\", \"Crafts\", \"Dance\", \"Design\", \"Fashion\", \"Film & Video\", \"Food\", \"Games\", \"Journalism\", \"Music\", \"Photography\", \"Publishing\", \"Technology\", \"Theater\"], \"y\": [1040022, 1351864, 199124, 148220, 6485969, 1213688, 3603935, 1098695, 10194460, 154134, 2472579, 359407, 1953524, 4617545, 460684], \"type\": \"bar\", \"uid\": \"1eef8b70-1456-11e9-9e53-00dbdf806640\"}], {\"barmode\": \"group\", \"showlegend\": true, \"title\": \"Number of backers for Successful and Failed Campaigns on Kickstarter per Category since 2009\", \"bargap\": 0.05}, {\"showLink\": true, \"linkText\": \"Export to plot.ly\"})});</script>"
      ]
     },
     "metadata": {},
     "output_type": "display_data"
    }
   ],
   "source": [
    "#First plot\n",
    "trace_0 = go.Bar(\n",
    "    x=num_backers_failed.index,\n",
    "    y=num_backers_failed.values,\n",
    "    name=\"Number of Backers for Failed Categories\",\n",
    "    marker=dict(\n",
    "        color=  '#fde725')\n",
    ")\n",
    "#Second plot\n",
    "trace_1 = go.Bar(\n",
    "    x=num_backers_success.index,\n",
    "    y=num_backers_success.values,\n",
    "    name=\"Number of Backers for Success Categories\",\n",
    "    marker=dict(\n",
    "        color= '#440154')\n",
    ")\n",
    "\n",
    "\n",
    "\n",
    "data = [trace_0, trace_1]\n",
    "layout = go.Layout(\n",
    "    barmode='group'\n",
    ")\n",
    "\n",
    "fig = go.Figure(data=data, layout=layout)\n",
    "\n",
    "\n",
    "fig['layout'].update(showlegend=True, \n",
    "                     title=\"Number of backers for Successful and Failed Campaigns on Kickstarter per Category since 2009\",\n",
    "                     bargap=0.05)\n",
    "\n",
    "iplot(fig, filename='grouped-bar')\n"
   ]
  },
  {
   "cell_type": "markdown",
   "metadata": {},
   "source": [
    "# 5. What is the average run time per campaign? How quickly do you know if your campaign will succeed or fail?"
   ]
  },
  {
   "cell_type": "code",
   "execution_count": 68,
   "metadata": {},
   "outputs": [],
   "source": [
    "#create new columns to calculate how many days does an average campaign run\n",
    "ks_data['run_time'] = ks_data['deadline_date'] - ks_data['launched_date']\n",
    "ks_data['run_time']= ks_data['run_time'].dt.days"
   ]
  },
  {
   "cell_type": "code",
   "execution_count": 69,
   "metadata": {},
   "outputs": [
    {
     "data": {
      "text/plain": [
       "30    148369\n",
       "60     27955\n",
       "45     15237\n",
       "31     11710\n",
       "35      8614\n",
       "40      8589\n",
       "32      6463\n",
       "21      6123\n",
       "20      6057\n",
       "29      5537\n",
       "25      5515\n",
       "33      5069\n",
       "15      4856\n",
       "28      4845\n",
       "14      3844\n",
       "34      3207\n",
       "36      3016\n",
       "27      2653\n",
       "22      2461\n",
       "26      2373\n",
       "24      2304\n",
       "37      2276\n",
       "50      2193\n",
       "10      2080\n",
       "23      2061\n",
       "38      1908\n",
       "46      1806\n",
       "42      1731\n",
       "39      1681\n",
       "7       1641\n",
       "       ...  \n",
       "3        194\n",
       "2        129\n",
       "63       124\n",
       "66       107\n",
       "88       105\n",
       "65       105\n",
       "70        98\n",
       "1         92\n",
       "64        83\n",
       "71        82\n",
       "75        81\n",
       "76        75\n",
       "72        74\n",
       "67        69\n",
       "68        61\n",
       "87        61\n",
       "80        59\n",
       "86        59\n",
       "69        57\n",
       "85        56\n",
       "81        49\n",
       "78        49\n",
       "73        49\n",
       "83        47\n",
       "84        47\n",
       "82        46\n",
       "77        45\n",
       "74        43\n",
       "79        35\n",
       "92        22\n",
       "Name: run_time, Length: 92, dtype: int64"
      ]
     },
     "execution_count": 69,
     "metadata": {},
     "output_type": "execute_result"
    }
   ],
   "source": [
    "ks_data['run_time'].value_counts()"
   ]
  },
  {
   "cell_type": "code",
   "execution_count": 70,
   "metadata": {},
   "outputs": [
    {
     "name": "stdout",
     "output_type": "stream",
     "text": [
      "Average Number of Days in Successful Campaigns :\n",
      "main_category\n",
      "Art             30.340052\n",
      "Comics          31.908593\n",
      "Crafts          29.026950\n",
      "Dance           31.814799\n",
      "Design          33.468101\n",
      "Fashion         31.309136\n",
      "Film & Video    32.310308\n",
      "Food            31.511586\n",
      "Games           29.912766\n",
      "Journalism      32.036561\n",
      "Music           33.885999\n",
      "Photography     32.137368\n",
      "Publishing      32.012195\n",
      "Technology      34.160112\n",
      "Theater         31.615702\n",
      "Name: run_time, dtype: float64\n",
      "Average Number of Days in Not-So- Successful Campaigns :\n",
      "main_category\n",
      "Art             33.955629\n",
      "Comics          36.651883\n",
      "Crafts          32.345082\n",
      "Dance           34.703644\n",
      "Design          34.616579\n",
      "Fashion         33.127142\n",
      "Film & Video    36.947768\n",
      "Food            34.804621\n",
      "Games           34.021683\n",
      "Journalism      34.964923\n",
      "Music           36.890717\n",
      "Photography     34.228070\n",
      "Publishing      34.641025\n",
      "Technology      35.607675\n",
      "Theater         36.304207\n",
      "Name: run_time, dtype: float64\n"
     ]
    }
   ],
   "source": [
    "num_days = ks_data.groupby(['main_category']).run_time.mean()\n",
    "\n",
    "num_days_failed = ks_data[ks_data[\"state\"] == \"failed\"].groupby(['main_category']).run_time.mean()\n",
    "num_days_success = ks_data[ks_data[\"state\"] == \"successful\"].groupby(['main_category']).run_time.mean()\n",
    "print('Average Number of Days in Successful Campaigns :')\n",
    "print (num_days_success)\n",
    "\n",
    "print('Average Number of Days in Not-So- Successful Campaigns :')\n",
    "print (num_days_failed)"
   ]
  },
  {
   "cell_type": "code",
   "execution_count": 71,
   "metadata": {},
   "outputs": [
    {
     "data": {
      "application/vnd.plotly.v1+json": {
       "data": [
        {
         "marker": {
          "color": "#d8e219"
         },
         "name": "Number of months for Failed Categories",
         "type": "scatter",
         "uid": "35734452-1456-11e9-bbee-00dbdf806640",
         "x": [
          "Art",
          "Comics",
          "Crafts",
          "Dance",
          "Design",
          "Fashion",
          "Film & Video",
          "Food",
          "Games",
          "Journalism",
          "Music",
          "Photography",
          "Publishing",
          "Technology",
          "Theater"
         ],
         "y": [
          33.95562946712901,
          36.65188305252725,
          32.34508153603367,
          34.703643724696356,
          34.61657891184015,
          33.12714195049715,
          36.9477684543354,
          34.80462145406725,
          34.021683434356056,
          34.964923469387756,
          36.89071718289085,
          34.228070175438596,
          34.64102453164885,
          35.60767476835007,
          36.3042071197411
         ]
        },
        {
         "marker": {
          "color": "#424086"
         },
         "name": "Number of months for Success Categories",
         "type": "scatter",
         "uid": "357357b6-1456-11e9-8573-00dbdf806640",
         "x": [
          "Art",
          "Comics",
          "Crafts",
          "Dance",
          "Design",
          "Fashion",
          "Film & Video",
          "Food",
          "Games",
          "Journalism",
          "Music",
          "Photography",
          "Publishing",
          "Technology",
          "Theater"
         ],
         "y": [
          30.34005212858384,
          31.90859294762068,
          29.02695035460993,
          31.814798973481608,
          33.46810124182387,
          31.309136420525657,
          32.310308317804505,
          31.511585866885785,
          29.912765617510786,
          32.03656126482213,
          33.88599875544493,
          32.13736762481089,
          32.01219512195122,
          34.160111922897556,
          31.615702479338843
         ]
        }
       ],
       "layout": {
        "bargap": 0.05,
        "showlegend": true,
        "title": "Average number of days for Successful and Failed Campaigns on Kickstarter per Category"
       }
      },
      "text/html": [
       "<div id=\"03fff016-ebbd-4cb0-8f2b-b40697914ff9\" style=\"height: 525px; width: 100%;\" class=\"plotly-graph-div\"></div><script type=\"text/javascript\">require([\"plotly\"], function(Plotly) { window.PLOTLYENV=window.PLOTLYENV || {};window.PLOTLYENV.BASE_URL=\"https://plot.ly\";Plotly.newPlot(\"03fff016-ebbd-4cb0-8f2b-b40697914ff9\", [{\"marker\": {\"color\": \"#d8e219\"}, \"name\": \"Number of months for Failed Categories\", \"x\": [\"Art\", \"Comics\", \"Crafts\", \"Dance\", \"Design\", \"Fashion\", \"Film & Video\", \"Food\", \"Games\", \"Journalism\", \"Music\", \"Photography\", \"Publishing\", \"Technology\", \"Theater\"], \"y\": [33.95562946712901, 36.65188305252725, 32.34508153603367, 34.703643724696356, 34.61657891184015, 33.12714195049715, 36.9477684543354, 34.80462145406725, 34.021683434356056, 34.964923469387756, 36.89071718289085, 34.228070175438596, 34.64102453164885, 35.60767476835007, 36.3042071197411], \"type\": \"scatter\", \"uid\": \"35734452-1456-11e9-bbee-00dbdf806640\"}, {\"marker\": {\"color\": \"#424086\"}, \"name\": \"Number of months for Success Categories\", \"x\": [\"Art\", \"Comics\", \"Crafts\", \"Dance\", \"Design\", \"Fashion\", \"Film & Video\", \"Food\", \"Games\", \"Journalism\", \"Music\", \"Photography\", \"Publishing\", \"Technology\", \"Theater\"], \"y\": [30.34005212858384, 31.90859294762068, 29.02695035460993, 31.814798973481608, 33.46810124182387, 31.309136420525657, 32.310308317804505, 31.511585866885785, 29.912765617510786, 32.03656126482213, 33.88599875544493, 32.13736762481089, 32.01219512195122, 34.160111922897556, 31.615702479338843], \"type\": \"scatter\", \"uid\": \"357357b6-1456-11e9-8573-00dbdf806640\"}], {\"showlegend\": true, \"title\": \"Average number of days for Successful and Failed Campaigns on Kickstarter per Category\", \"bargap\": 0.05}, {\"showLink\": true, \"linkText\": \"Export to plot.ly\"})});</script>"
      ],
      "text/vnd.plotly.v1+html": [
       "<div id=\"03fff016-ebbd-4cb0-8f2b-b40697914ff9\" style=\"height: 525px; width: 100%;\" class=\"plotly-graph-div\"></div><script type=\"text/javascript\">require([\"plotly\"], function(Plotly) { window.PLOTLYENV=window.PLOTLYENV || {};window.PLOTLYENV.BASE_URL=\"https://plot.ly\";Plotly.newPlot(\"03fff016-ebbd-4cb0-8f2b-b40697914ff9\", [{\"marker\": {\"color\": \"#d8e219\"}, \"name\": \"Number of months for Failed Categories\", \"x\": [\"Art\", \"Comics\", \"Crafts\", \"Dance\", \"Design\", \"Fashion\", \"Film & Video\", \"Food\", \"Games\", \"Journalism\", \"Music\", \"Photography\", \"Publishing\", \"Technology\", \"Theater\"], \"y\": [33.95562946712901, 36.65188305252725, 32.34508153603367, 34.703643724696356, 34.61657891184015, 33.12714195049715, 36.9477684543354, 34.80462145406725, 34.021683434356056, 34.964923469387756, 36.89071718289085, 34.228070175438596, 34.64102453164885, 35.60767476835007, 36.3042071197411], \"type\": \"scatter\", \"uid\": \"35734452-1456-11e9-bbee-00dbdf806640\"}, {\"marker\": {\"color\": \"#424086\"}, \"name\": \"Number of months for Success Categories\", \"x\": [\"Art\", \"Comics\", \"Crafts\", \"Dance\", \"Design\", \"Fashion\", \"Film & Video\", \"Food\", \"Games\", \"Journalism\", \"Music\", \"Photography\", \"Publishing\", \"Technology\", \"Theater\"], \"y\": [30.34005212858384, 31.90859294762068, 29.02695035460993, 31.814798973481608, 33.46810124182387, 31.309136420525657, 32.310308317804505, 31.511585866885785, 29.912765617510786, 32.03656126482213, 33.88599875544493, 32.13736762481089, 32.01219512195122, 34.160111922897556, 31.615702479338843], \"type\": \"scatter\", \"uid\": \"357357b6-1456-11e9-8573-00dbdf806640\"}], {\"showlegend\": true, \"title\": \"Average number of days for Successful and Failed Campaigns on Kickstarter per Category\", \"bargap\": 0.05}, {\"showLink\": true, \"linkText\": \"Export to plot.ly\"})});</script>"
      ]
     },
     "metadata": {},
     "output_type": "display_data"
    }
   ],
   "source": [
    "#First plot\n",
    "trace_0 = go.Scatter(\n",
    "    x=num_days_failed.index,\n",
    "    y=num_days_failed.values,\n",
    "    name=\"Number of months for Failed Categories\",\n",
    "    marker=dict(\n",
    "        color= '#d8e219')\n",
    ")\n",
    "#Second plot\n",
    "trace_1 = go.Scatter(\n",
    "    x=num_days_success.index,\n",
    "    y=num_days_success.values,\n",
    "    name=\"Number of months for Success Categories\",\n",
    "    marker=dict(\n",
    "        color= '#424086')\n",
    ")\n",
    "\n",
    "\n",
    "\n",
    "data = [trace_0, trace_1]\n",
    "\n",
    "\n",
    "\n",
    "fig = go.Figure(data=data)\n",
    "\n",
    "\n",
    "fig['layout'].update(showlegend=True, title=\"Average number of days for Successful and Failed Campaigns on Kickstarter per Category\",\n",
    "                     bargap=0.05)\n",
    "\n",
    "iplot(fig, filename= 'basic-line') "
   ]
  },
  {
   "cell_type": "markdown",
   "metadata": {},
   "source": [
    "# Comment\n",
    "This  information is very interesting, we can see that most campaign either succeed or fail within a month. This means that anyone who has a campaign must be focused particularly within the first 30 days as those seem to be the most crucial.\n",
    "let's get a different perspective to confirm these findings."
   ]
  },
  {
   "cell_type": "code",
   "execution_count": 72,
   "metadata": {},
   "outputs": [],
   "source": [
    "# calculate how many months each campaign runs on average I need to \n",
    "# Conversting the days into months was producing negative numbers, so i went with this solution to speed up the process\n",
    "ks_data['launched_date'] = pd.to_datetime(ks_data['launched_date'])\n",
    "ks_data['launched_date_month'] = ks_data['launched_date'].dt.to_period(\"M\")\n",
    "\n",
    "\n",
    "ks_data['deadline_date'] = pd.to_datetime(ks_data['deadline_date'])\n",
    "ks_data['deadline_date_month'] = ks_data['deadline_date'].dt.to_period(\"M\")\n",
    "\n",
    "#Creating a new columns with Campaign total months\n",
    "ks_data['run_time_months'] = ks_data['deadline_date_month'] - ks_data['launched_date_month']\n",
    "ks_data['run_time_months'] = ks_data['run_time_months'].astype(int)"
   ]
  },
  {
   "cell_type": "code",
   "execution_count": 76,
   "metadata": {},
   "outputs": [
    {
     "data": {
      "image/png": "[encoded data removed]",
      "text/plain": [
       "<matplotlib.figure.Figure at 0x265247fdd68>"
      ]
     },
     "metadata": {},
     "output_type": "display_data"
    },
    {
     "name": "stdout",
     "output_type": "stream",
     "text": [
      "Descriptions of Campaign Time x State\n",
      "state            failed  successful\n",
      "run_time_months                    \n",
      "0                 12266       12483\n",
      "1                144415      102023\n",
      "2                 38944       18225\n",
      "3                  1976        1117\n",
      "4                    13           3\n"
     ]
    }
   ],
   "source": [
    "#Use sns to plot the distribution of the run time \n",
    "plt.figure(figsize = (10,6))\n",
    "\n",
    "colors = ['#fde725','#440154']\n",
    "ax = sns.countplot(x='run_time_months', hue='state', \n",
    "                   data=ks_data[ks_data['run_time_months'] < 10], palette= colors)\n",
    "ax.set_title(\"Kickstarter Campaigns' Monthly Run Time by Success Status\", fontsize=30)\n",
    "ax.set_xlabel(\"Campaign Total Months\", fontsize=20)\n",
    "ax.set_ylabel(\"Count\", fontsize=20)\n",
    "plt.show()\n",
    "\n",
    "print(\"Descriptions of Campaign Time x State\")\n",
    "print(pd.crosstab(ks_data[ks_data['run_time_months'] < 5]['run_time_months'], ks_data.state))"
   ]
  },
  {
   "cell_type": "code",
   "execution_count": 77,
   "metadata": {},
   "outputs": [
    {
     "data": {
      "image/png": "[encoded data removed]",
      "text/plain": [
       "<matplotlib.figure.Figure at 0x2652423fb70>"
      ]
     },
     "metadata": {},
     "output_type": "display_data"
    },
    {
     "name": "stdout",
     "output_type": "stream",
     "text": [
      "Descriptions of Campaign Time x State\n",
      "main_category      Art  Comics  Crafts  Dance  Design  Fashion  Film & Video  \\\n",
      "run_time_months                                                                \n",
      "0                 2732     656     728    378    1472     1439          4270   \n",
      "1                18750    7547    6101   2564   19483    15525         40282   \n",
      "2                 3927    1578     978    600    4353     2756         10859   \n",
      "3                  231      97      11     31      55       54          1090   \n",
      "4                    1       0       0      0       0        0             3   \n",
      "\n",
      "main_category     Food  Games  Journalism  Music  Photography  Publishing  \\\n",
      "run_time_months                                                             \n",
      "0                 1541   2277         370   3169          838        2498   \n",
      "1                16592  22389        2946  32726         7113       26889   \n",
      "2                 3854   3786         783   9148         1621        5779   \n",
      "3                   67     69          49    752          117         244   \n",
      "4                    0      0           0      6            0           3   \n",
      "\n",
      "main_category    Technology  Theater  \n",
      "run_time_months                       \n",
      "0                      1327     1054  \n",
      "1                     20268     7263  \n",
      "2                      5383     1764  \n",
      "3                        68      158  \n",
      "4                         0        3  \n"
     ]
    }
   ],
   "source": [
    "plt.figure(figsize = (10,6))\n",
    "\n",
    "ax = sns.countplot(x='run_time_months', hue='main_category', \n",
    "                   data=ks_data[ks_data['run_time_months'] < 10], palette = 'Paired')\n",
    "ax.set_title(\"Kickstarter Campaigns' Monthly Run Time by Success Status per Category\", fontsize=30)\n",
    "ax.set_xlabel(\"Campaign Total Months\", fontsize=20)\n",
    "ax.set_ylabel(\"Count\", fontsize=20)\n",
    "plt.show()\n",
    "\n",
    "print(\"Descriptions of Campaign Time x State\")\n",
    "print(pd.crosstab(ks_data[ks_data['run_time_months'] < 5]['run_time_months'], ks_data.main_category))"
   ]
  },
  {
   "cell_type": "markdown",
   "metadata": {},
   "source": [
    "# Comment\n",
    "This is really interesting, it is confirmed that most campaign finish within a month, and that is also regardless of category. I now wonder how international are those kickstarter campaigns?"
   ]
  },
  {
   "cell_type": "markdown",
   "metadata": {},
   "source": [
    "# 6. How global is the Kickstarter community? How much has each country contributed? "
   ]
  },
  {
   "cell_type": "code",
   "execution_count": 78,
   "metadata": {},
   "outputs": [
    {
     "name": "stdout",
     "output_type": "stream",
     "text": [
      "['AUS', 'AUT', 'BEL', 'CAN', 'CHE', 'DEU', 'DNK', 'ESP', 'FRA', 'GBR', 'HKG', 'IRL', 'ITA', 'JPN', 'LUX', 'MEX', 'NLD', 'NOR', 'NZL', 'SGP', 'SWE', 'USA']\n"
     ]
    }
   ],
   "source": [
    "#first to build a choropleth map, I have to adjust some country codes \n",
    "#convert country code from 2 letter to 3 letter to map it out correctly\n",
    "import pycountry\n",
    "\n",
    "input_countries = ['US', 'GB', 'CA','AU','DE','FR','IT','NL',\n",
    "                   'ES','SE','MX','NZ','DK','IE','CH','NO','HK',   \n",
    "                   'BE','AT','SG','LU','JP']\n",
    "\n",
    "countries = {}\n",
    "for country in pycountry.countries:\n",
    "    countries[country.alpha_2] = country.alpha_3\n",
    "\n",
    "codes = [countries.get(country, 'Unknown code') for country in input_countries]\n",
    " \n",
    "codes = sorted(codes)\n",
    "print (codes)  # prints ['AUS', 'AUT', 'BEL', etc..]"
   ]
  },
  {
   "cell_type": "code",
   "execution_count": 79,
   "metadata": {},
   "outputs": [
    {
     "name": "stdout",
     "output_type": "stream",
     "text": [
      "['Australia', 'Austria', 'Belgium', 'Canada', 'Denmark', 'France', 'Germany', 'Hong Kong', 'Ireland', 'Italy', 'Japan', 'Luxembourg', 'Mexico', 'Netherlands', 'New Zealand', 'Norway', 'Singapore', 'Spain', 'Sweden', 'Switzerland', 'United Kingdom', 'United States']\n"
     ]
    }
   ],
   "source": [
    "# get country names to add to the legend\n",
    "input_countries = ['US', 'GB', 'CA','AU','DE','FR','IT','NL',\n",
    "                   'ES','SE','MX','NZ','DK','IE','CH','NO','HK',   \n",
    "                   'BE','AT','SG','LU','JP']\n",
    "\n",
    "countries = {}\n",
    "for country in pycountry.countries:\n",
    "    countries[country.alpha_2] = country.name\n",
    "\n",
    "codes_names = [countries.get(country, 'Unknown code') for country in input_countries]\n",
    "codes_names = sorted(codes_names)\n",
    "print (codes_names)"
   ]
  },
  {
   "cell_type": "code",
   "execution_count": 80,
   "metadata": {},
   "outputs": [
    {
     "name": "stdout",
     "output_type": "stream",
     "text": [
      "country\n",
      "AT    9.152086e+06\n",
      "AU    4.308827e+07\n",
      "BE    4.083094e+06\n",
      "CA    8.589252e+07\n",
      "CH    1.239121e+07\n",
      "DE    3.718813e+07\n",
      "DK    7.135941e+06\n",
      "ES    1.172830e+07\n",
      "FR    3.283228e+07\n",
      "GB    2.260742e+08\n",
      "HK    9.158679e+06\n",
      "IE    3.945442e+06\n",
      "IT    1.387469e+07\n",
      "JP    8.481102e+04\n",
      "LU    4.515855e+05\n",
      "MX    2.197721e+06\n",
      "NL    2.825598e+07\n",
      "NO    2.447907e+06\n",
      "NZ    7.563028e+06\n",
      "SE    1.235537e+07\n",
      "SG    5.262985e+06\n",
      "US    2.739565e+09\n",
      "Name: usd_pledged_real, dtype: float64\n",
      "country\n",
      "AT     0.277780\n",
      "AU     1.307794\n",
      "BE     0.123928\n",
      "CA     2.606967\n",
      "CH     0.376092\n",
      "DE     1.128716\n",
      "DK     0.216587\n",
      "ES     0.355972\n",
      "FR     0.996509\n",
      "GB     6.861692\n",
      "HK     0.277980\n",
      "IE     0.119750\n",
      "IT     0.421118\n",
      "JP     0.002574\n",
      "LU     0.013706\n",
      "MX     0.066704\n",
      "NL     0.857612\n",
      "NO     0.074298\n",
      "NZ     0.229549\n",
      "SE     0.375004\n",
      "SG     0.159740\n",
      "US    83.149929\n",
      "Name: usd_pledged_real, dtype: float64\n"
     ]
    }
   ],
   "source": [
    "#Figure the amount pledged per country \n",
    "# this gives an ordered list by alphabet, so I had to adjust the codes and country codes to alhpabetical order to line up\n",
    "total_pledged_by_country = ks_data.groupby(['country']).usd_pledged_real.sum()\n",
    "\n",
    "\n",
    "country_percent_per_pledge = total_pledged_by_country/ks_data['usd_pledged_real'].sum() *100\n",
    "\n",
    "print(total_pledged_by_country)\n",
    "\n",
    "print(country_percent_per_pledge)"
   ]
  },
  {
   "cell_type": "code",
   "execution_count": 81,
   "metadata": {},
   "outputs": [
    {
     "data": {
      "application/vnd.plotly.v1+json": {
       "data": [
        {
         "autocolorscale": false,
         "colorbar": {
          "autotick": false,
          "tickprefix": "%",
          "title": "Pledges Percent in US$"
         },
         "colorscale": "Viridis",
         "locations": [
          "AUS",
          "AUT",
          "BEL",
          "CAN",
          "CHE",
          "DEU",
          "DNK",
          "ESP",
          "FRA",
          "GBR",
          "HKG",
          "IRL",
          "ITA",
          "JPN",
          "LUX",
          "MEX",
          "NLD",
          "NOR",
          "NZL",
          "SGP",
          "SWE",
          "USA"
         ],
         "marker": {
          "line": {
           "color": "rgb(180,180,180)",
           "width": 0.5
          }
         },
         "reversescale": true,
         "text": [
          "Australia",
          "Austria",
          "Belgium",
          "Canada",
          "Denmark",
          "France",
          "Germany",
          "Hong Kong",
          "Ireland",
          "Italy",
          "Japan",
          "Luxembourg",
          "Mexico",
          "Netherlands",
          "New Zealand",
          "Norway",
          "Singapore",
          "Spain",
          "Sweden",
          "Switzerland",
          "United Kingdom",
          "United States"
         ],
         "type": "choropleth",
         "z": [
          0.27777962857818767,
          1.3077940722192756,
          0.12392805602168806,
          2.60696744316819,
          0.37609182257575835,
          1.1287157327451764,
          0.2165865789584898,
          0.3559716869158724,
          0.9965092421280162,
          6.861691982795656,
          0.277979710273715,
          0.11975010048686396,
          0.42111780621172784,
          0.0025741423785889178,
          0.013706301967958138,
          0.06670415721779795,
          0.8576116300811663,
          0.07429767239230554,
          0.22954931662464056,
          0.37500399234521076,
          0.15973951932206126,
          83.14992940459264
         ]
        }
       ],
       "layout": {
        "geo": {
         "projection": {
          "type": "Mercator"
         },
         "showcoastlines": false,
         "showframe": false
        },
        "title": "Most Generous Country on Kickstarter (percent of total pledges per country)"
       }
      },
      "text/html": [
       "<div id=\"7263f1c2-1f17-4508-8932-e571fb3f69e7\" style=\"height: 525px; width: 100%;\" class=\"plotly-graph-div\"></div><script type=\"text/javascript\">require([\"plotly\"], function(Plotly) { window.PLOTLYENV=window.PLOTLYENV || {};window.PLOTLYENV.BASE_URL=\"https://plot.ly\";Plotly.newPlot(\"7263f1c2-1f17-4508-8932-e571fb3f69e7\", [{\"type\": \"choropleth\", \"locations\": [\"AUS\", \"AUT\", \"BEL\", \"CAN\", \"CHE\", \"DEU\", \"DNK\", \"ESP\", \"FRA\", \"GBR\", \"HKG\", \"IRL\", \"ITA\", \"JPN\", \"LUX\", \"MEX\", \"NLD\", \"NOR\", \"NZL\", \"SGP\", \"SWE\", \"USA\"], \"z\": [0.27777962857818767, 1.3077940722192756, 0.12392805602168806, 2.60696744316819, 0.37609182257575835, 1.1287157327451764, 0.2165865789584898, 0.3559716869158724, 0.9965092421280162, 6.861691982795656, 0.277979710273715, 0.11975010048686396, 0.42111780621172784, 0.0025741423785889178, 0.013706301967958138, 0.06670415721779795, 0.8576116300811663, 0.07429767239230554, 0.22954931662464056, 0.37500399234521076, 0.15973951932206126, 83.14992940459264], \"text\": [\"Australia\", \"Austria\", \"Belgium\", \"Canada\", \"Denmark\", \"France\", \"Germany\", \"Hong Kong\", \"Ireland\", \"Italy\", \"Japan\", \"Luxembourg\", \"Mexico\", \"Netherlands\", \"New Zealand\", \"Norway\", \"Singapore\", \"Spain\", \"Sweden\", \"Switzerland\", \"United Kingdom\", \"United States\"], \"colorscale\": \"Viridis\", \"autocolorscale\": false, \"reversescale\": true, \"marker\": {\"line\": {\"color\": \"rgb(180,180,180)\", \"width\": 0.5}}, \"colorbar\": {\"autotick\": false, \"tickprefix\": \"%\", \"title\": \"Pledges Percent in US$\"}}], {\"title\": \"Most Generous Country on Kickstarter (percent of total pledges per country)\", \"geo\": {\"showframe\": false, \"showcoastlines\": false, \"projection\": {\"type\": \"Mercator\"}}}, {\"showLink\": true, \"linkText\": \"Export to plot.ly\"})});</script>"
      ],
      "text/vnd.plotly.v1+html": [
       "<div id=\"7263f1c2-1f17-4508-8932-e571fb3f69e7\" style=\"height: 525px; width: 100%;\" class=\"plotly-graph-div\"></div><script type=\"text/javascript\">require([\"plotly\"], function(Plotly) { window.PLOTLYENV=window.PLOTLYENV || {};window.PLOTLYENV.BASE_URL=\"https://plot.ly\";Plotly.newPlot(\"7263f1c2-1f17-4508-8932-e571fb3f69e7\", [{\"type\": \"choropleth\", \"locations\": [\"AUS\", \"AUT\", \"BEL\", \"CAN\", \"CHE\", \"DEU\", \"DNK\", \"ESP\", \"FRA\", \"GBR\", \"HKG\", \"IRL\", \"ITA\", \"JPN\", \"LUX\", \"MEX\", \"NLD\", \"NOR\", \"NZL\", \"SGP\", \"SWE\", \"USA\"], \"z\": [0.27777962857818767, 1.3077940722192756, 0.12392805602168806, 2.60696744316819, 0.37609182257575835, 1.1287157327451764, 0.2165865789584898, 0.3559716869158724, 0.9965092421280162, 6.861691982795656, 0.277979710273715, 0.11975010048686396, 0.42111780621172784, 0.0025741423785889178, 0.013706301967958138, 0.06670415721779795, 0.8576116300811663, 0.07429767239230554, 0.22954931662464056, 0.37500399234521076, 0.15973951932206126, 83.14992940459264], \"text\": [\"Australia\", \"Austria\", \"Belgium\", \"Canada\", \"Denmark\", \"France\", \"Germany\", \"Hong Kong\", \"Ireland\", \"Italy\", \"Japan\", \"Luxembourg\", \"Mexico\", \"Netherlands\", \"New Zealand\", \"Norway\", \"Singapore\", \"Spain\", \"Sweden\", \"Switzerland\", \"United Kingdom\", \"United States\"], \"colorscale\": \"Viridis\", \"autocolorscale\": false, \"reversescale\": true, \"marker\": {\"line\": {\"color\": \"rgb(180,180,180)\", \"width\": 0.5}}, \"colorbar\": {\"autotick\": false, \"tickprefix\": \"%\", \"title\": \"Pledges Percent in US$\"}}], {\"title\": \"Most Generous Country on Kickstarter (percent of total pledges per country)\", \"geo\": {\"showframe\": false, \"showcoastlines\": false, \"projection\": {\"type\": \"Mercator\"}}}, {\"showLink\": true, \"linkText\": \"Export to plot.ly\"})});</script>"
      ]
     },
     "metadata": {},
     "output_type": "display_data"
    }
   ],
   "source": [
    "data = [ dict(\n",
    "        type = 'choropleth',\n",
    "        locations = codes,\n",
    "        z = country_percent_per_pledge,\n",
    "        text = codes_names,\n",
    "        colorscale = 'Viridis',\n",
    "        autocolorscale = False,\n",
    "        reversescale = True,\n",
    "        marker = dict(\n",
    "            line = dict (\n",
    "                color = 'rgb(180,180,180)',\n",
    "                width = 0.5\n",
    "            ) ),\n",
    "        colorbar = dict(\n",
    "            autotick = False,\n",
    "            tickprefix = '%',\n",
    "            title = 'Pledges Percent in US$'),\n",
    "      ) ]\n",
    "\n",
    "layout = dict(\n",
    "    title = 'Most Generous Country on Kickstarter (percent of total pledges per country)',\n",
    "    geo = dict(\n",
    "        showframe = False,\n",
    "        showcoastlines = False,\n",
    "        projection = dict(\n",
    "            type = 'Mercator'\n",
    "        )\n",
    "    )\n",
    ")\n",
    "\n",
    "fig = dict( data=data, layout=layout )\n",
    "py.iplot( fig, validate=False, filename='d3-world-map' )"
   ]
  },
  {
   "cell_type": "markdown",
   "metadata": {},
   "source": [
    "# Comment\n",
    "It appears that the US donates about about 83% of the total amounts pledged on the website, what is that in dollar amount?"
   ]
  },
  {
   "cell_type": "code",
   "execution_count": 82,
   "metadata": {},
   "outputs": [
    {
     "data": {
      "application/vnd.plotly.v1+json": {
       "data": [
        {
         "autocolorscale": false,
         "colorbar": {
          "autotick": false,
          "tickprefix": "$",
          "title": "pledges in Billions US$"
         },
         "colorscale": "Viridis",
         "locations": [
          "AUS",
          "AUT",
          "BEL",
          "CAN",
          "CHE",
          "DEU",
          "DNK",
          "ESP",
          "FRA",
          "GBR",
          "HKG",
          "IRL",
          "ITA",
          "JPN",
          "LUX",
          "MEX",
          "NLD",
          "NOR",
          "NZL",
          "SGP",
          "SWE",
          "USA"
         ],
         "marker": {
          "line": {
           "color": "rgb(180,180,180)",
           "width": 0.5
          }
         },
         "reversescale": true,
         "text": [
          "Australia",
          "Austria",
          "Belgium",
          "Canada",
          "Denmark",
          "France",
          "Germany",
          "Hong Kong",
          "Ireland",
          "Italy",
          "Japan",
          "Luxembourg",
          "Mexico",
          "Netherlands",
          "New Zealand",
          "Norway",
          "Singapore",
          "Spain",
          "Sweden",
          "Switzerland",
          "United Kingdom",
          "United States"
         ],
         "type": "choropleth",
         "z": [
          9152086.469999999,
          43088272.87000012,
          4083093.819999999,
          85892516.98,
          12391207.01000001,
          37188126.57000011,
          7135941.209999991,
          11728303.029999992,
          32832280.74999996,
          226074167.7800011,
          9158678.619999992,
          3945441.500000001,
          13874691.229999993,
          84811.02,
          451585.53,
          2197721.3300000024,
          28255980.600000028,
          2447907.089999999,
          7563028.3100000005,
          12355365.949999997,
          5262984.55,
          2739564984.590031
         ]
        }
       ],
       "layout": {
        "geo": {
         "projection": {
          "type": "Mercator"
         },
         "showcoastlines": false,
         "showframe": false
        },
        "title": "Most Generous Country on Kickstarter per total pledges per country"
       }
      },
      "text/html": [
       "<div id=\"fc214843-c465-42b1-b88b-edbf9cfde3a5\" style=\"height: 525px; width: 100%;\" class=\"plotly-graph-div\"></div><script type=\"text/javascript\">require([\"plotly\"], function(Plotly) { window.PLOTLYENV=window.PLOTLYENV || {};window.PLOTLYENV.BASE_URL=\"https://plot.ly\";Plotly.newPlot(\"fc214843-c465-42b1-b88b-edbf9cfde3a5\", [{\"type\": \"choropleth\", \"locations\": [\"AUS\", \"AUT\", \"BEL\", \"CAN\", \"CHE\", \"DEU\", \"DNK\", \"ESP\", \"FRA\", \"GBR\", \"HKG\", \"IRL\", \"ITA\", \"JPN\", \"LUX\", \"MEX\", \"NLD\", \"NOR\", \"NZL\", \"SGP\", \"SWE\", \"USA\"], \"z\": [9152086.469999999, 43088272.87000012, 4083093.819999999, 85892516.98, 12391207.01000001, 37188126.57000011, 7135941.209999991, 11728303.029999992, 32832280.74999996, 226074167.7800011, 9158678.619999992, 3945441.500000001, 13874691.229999993, 84811.02, 451585.53, 2197721.3300000024, 28255980.600000028, 2447907.089999999, 7563028.3100000005, 12355365.949999997, 5262984.55, 2739564984.590031], \"text\": [\"Australia\", \"Austria\", \"Belgium\", \"Canada\", \"Denmark\", \"France\", \"Germany\", \"Hong Kong\", \"Ireland\", \"Italy\", \"Japan\", \"Luxembourg\", \"Mexico\", \"Netherlands\", \"New Zealand\", \"Norway\", \"Singapore\", \"Spain\", \"Sweden\", \"Switzerland\", \"United Kingdom\", \"United States\"], \"colorscale\": \"Viridis\", \"autocolorscale\": false, \"reversescale\": true, \"marker\": {\"line\": {\"color\": \"rgb(180,180,180)\", \"width\": 0.5}}, \"colorbar\": {\"autotick\": false, \"tickprefix\": \"$\", \"title\": \"pledges in Billions US$\"}}], {\"title\": \"Most Generous Country on Kickstarter per total pledges per country\", \"geo\": {\"showframe\": false, \"showcoastlines\": false, \"projection\": {\"type\": \"Mercator\"}}}, {\"showLink\": true, \"linkText\": \"Export to plot.ly\"})});</script>"
      ],
      "text/vnd.plotly.v1+html": [
       "<div id=\"fc214843-c465-42b1-b88b-edbf9cfde3a5\" style=\"height: 525px; width: 100%;\" class=\"plotly-graph-div\"></div><script type=\"text/javascript\">require([\"plotly\"], function(Plotly) { window.PLOTLYENV=window.PLOTLYENV || {};window.PLOTLYENV.BASE_URL=\"https://plot.ly\";Plotly.newPlot(\"fc214843-c465-42b1-b88b-edbf9cfde3a5\", [{\"type\": \"choropleth\", \"locations\": [\"AUS\", \"AUT\", \"BEL\", \"CAN\", \"CHE\", \"DEU\", \"DNK\", \"ESP\", \"FRA\", \"GBR\", \"HKG\", \"IRL\", \"ITA\", \"JPN\", \"LUX\", \"MEX\", \"NLD\", \"NOR\", \"NZL\", \"SGP\", \"SWE\", \"USA\"], \"z\": [9152086.469999999, 43088272.87000012, 4083093.819999999, 85892516.98, 12391207.01000001, 37188126.57000011, 7135941.209999991, 11728303.029999992, 32832280.74999996, 226074167.7800011, 9158678.619999992, 3945441.500000001, 13874691.229999993, 84811.02, 451585.53, 2197721.3300000024, 28255980.600000028, 2447907.089999999, 7563028.3100000005, 12355365.949999997, 5262984.55, 2739564984.590031], \"text\": [\"Australia\", \"Austria\", \"Belgium\", \"Canada\", \"Denmark\", \"France\", \"Germany\", \"Hong Kong\", \"Ireland\", \"Italy\", \"Japan\", \"Luxembourg\", \"Mexico\", \"Netherlands\", \"New Zealand\", \"Norway\", \"Singapore\", \"Spain\", \"Sweden\", \"Switzerland\", \"United Kingdom\", \"United States\"], \"colorscale\": \"Viridis\", \"autocolorscale\": false, \"reversescale\": true, \"marker\": {\"line\": {\"color\": \"rgb(180,180,180)\", \"width\": 0.5}}, \"colorbar\": {\"autotick\": false, \"tickprefix\": \"$\", \"title\": \"pledges in Billions US$\"}}], {\"title\": \"Most Generous Country on Kickstarter per total pledges per country\", \"geo\": {\"showframe\": false, \"showcoastlines\": false, \"projection\": {\"type\": \"Mercator\"}}}, {\"showLink\": true, \"linkText\": \"Export to plot.ly\"})});</script>"
      ]
     },
     "metadata": {},
     "output_type": "display_data"
    }
   ],
   "source": [
    "data = [ dict(\n",
    "        type = 'choropleth',\n",
    "        locations = codes,\n",
    "        z = total_pledged_by_country,\n",
    "        text = codes_names,\n",
    "        #colorscale = [[0,\"rgb(5, 10, 172)\"],[0.35,\"rgb(40, 60, 190)\"],[0.5,\"rgb(70, 100, 245)\"],\\\n",
    "         #   [0.6,\"rgb(90, 120, 245)\"],[0.7,\"rgb(106, 137, 247)\"],[1,\"rgb(220, 220, 220)\"]],\n",
    "        \n",
    "        colorscale = 'Viridis',\n",
    "        autocolorscale = False,\n",
    "        reversescale = True,\n",
    "        marker = dict(\n",
    "            line = dict (\n",
    "                color = 'rgb(180,180,180)',\n",
    "                width = 0.5\n",
    "            ) ),\n",
    "        colorbar = dict(\n",
    "            autotick = False,\n",
    "            tickprefix = '$',\n",
    "            title = 'pledges in Billions US$'),\n",
    "      ) ]\n",
    "\n",
    "layout = dict(\n",
    "    title = 'Most Generous Country on Kickstarter per total pledges per country',\n",
    "    geo = dict(\n",
    "        showframe = False,\n",
    "        showcoastlines = False,\n",
    "        projection = dict(\n",
    "            type = 'Mercator'\n",
    "        )\n",
    "    )\n",
    ")\n",
    "\n",
    "fig = dict( data=data, layout=layout )\n",
    "py.iplot( fig, validate=False, filename='d3-world-map' )"
   ]
  },
  {
   "cell_type": "markdown",
   "metadata": {},
   "source": [
    "# Comment\n",
    "Wow, that is almost 3 billion dollars. This is amazing, If I were to start a campaign, I'd focus my efforts on the US. However, we see that the website is not as international as we thought and that most of the campaigns happen in rich nations. This can either be a bummer or a completely new opportunity for people in different nations (more poor one) to explore!"
   ]
  },
  {
   "cell_type": "markdown",
   "metadata": {},
   "source": [
    "# 7. Given this historical data, Which campaign categories are more popular during which months? and which campaign categories raise more money during which months?"
   ]
  },
  {
   "cell_type": "code",
   "execution_count": 83,
   "metadata": {},
   "outputs": [
    {
     "name": "stdout",
     "output_type": "stream",
     "text": [
      "Film Campaigns launched since 2009 :\n",
      "3     5395\n",
      "4     5221\n",
      "6     5177\n",
      "7     5160\n",
      "5     5024\n",
      "10    4776\n",
      "2     4725\n",
      "8     4616\n",
      "11    4572\n",
      "9     4313\n",
      "1     4250\n",
      "12    3275\n",
      "Name: launched_month, dtype: int64\n",
      "Music Campaigns launched since 2009 :\n",
      "3     4233\n",
      "5     4173\n",
      "4     4109\n",
      "7     4016\n",
      "6     3992\n",
      "2     3932\n",
      "10    3827\n",
      "11    3824\n",
      "8     3791\n",
      "1     3611\n",
      "9     3598\n",
      "12    2695\n",
      "Name: launched_month, dtype: int64\n",
      "Publishing Campaigns launched since 2009 :\n",
      "10    3304\n",
      "7     3266\n",
      "5     3202\n",
      "3     3133\n",
      "11    3132\n",
      "6     3037\n",
      "8     3022\n",
      "9     2987\n",
      "4     2927\n",
      "2     2736\n",
      "1     2665\n",
      "12    2002\n",
      "Name: launched_month, dtype: int64\n",
      "Games  Campaigns launched since 2009 :\n",
      "Series([], Name: launched_month, dtype: int64)\n",
      "Technology Campaigns launched since 2009 :\n",
      "7     2563\n",
      "11    2494\n",
      "10    2442\n",
      "9     2397\n",
      "8     2397\n",
      "3     2369\n",
      "6     2362\n",
      "5     2276\n",
      "4     2208\n",
      "2     1990\n",
      "1     1850\n",
      "12    1698\n",
      "Name: launched_month, dtype: int64\n",
      "Design Campaigns launched since 2009 :\n",
      "11    2706\n",
      "10    2426\n",
      "6     2281\n",
      "9     2236\n",
      "3     2222\n",
      "7     2211\n",
      "5     2123\n",
      "8     2116\n",
      "4     2087\n",
      "2     1780\n",
      "1     1752\n",
      "12    1423\n",
      "Name: launched_month, dtype: int64\n",
      "Art Campaigns launched since 2009 :\n",
      "7     2617\n",
      "3     2420\n",
      "5     2319\n",
      "8     2303\n",
      "6     2286\n",
      "4     2186\n",
      "10    2105\n",
      "9     2080\n",
      "2     2077\n",
      "11    2020\n",
      "1     1869\n",
      "12    1359\n",
      "Name: launched_month, dtype: int64\n",
      "Food  Campaigns launched since 2009 :\n",
      "Series([], Name: launched_month, dtype: int64)\n",
      "Fashion Campaigns launched since 2009 :\n",
      "11    1911\n",
      "10    1903\n",
      "7     1881\n",
      "6     1761\n",
      "8     1697\n",
      "3     1681\n",
      "5     1648\n",
      "9     1642\n",
      "2     1537\n",
      "4     1527\n",
      "1     1455\n",
      "12    1131\n",
      "Name: launched_month, dtype: int64\n",
      "Theater Campaigns launched since 2009 :\n",
      "6     1138\n",
      "5     1138\n",
      "7     1056\n",
      "4     1052\n",
      "3      975\n",
      "2      798\n",
      "8      792\n",
      "9      783\n",
      "1      702\n",
      "10     694\n",
      "11     621\n",
      "12     493\n",
      "Name: launched_month, dtype: int64\n",
      "Comics Campaigns launched since 2009 :\n",
      "10    1023\n",
      "3      947\n",
      "5      911\n",
      "7      898\n",
      "8      888\n",
      "6      871\n",
      "9      861\n",
      "4      833\n",
      "11     816\n",
      "2      786\n",
      "1      687\n",
      "12     357\n",
      "Name: launched_month, dtype: int64\n",
      "Photography Campaigns launched since 2009 :\n",
      "7     1186\n",
      "5      866\n",
      "3      864\n",
      "6      839\n",
      "8      824\n",
      "10     818\n",
      "9      793\n",
      "11     782\n",
      "4      753\n",
      "1      739\n",
      "2      730\n",
      "12     495\n",
      "Name: launched_month, dtype: int64\n",
      "Crafts Campaigns launched since 2009 :\n",
      "7     851\n",
      "8     789\n",
      "10    729\n",
      "3     717\n",
      "11    696\n",
      "9     646\n",
      "1     639\n",
      "2     614\n",
      "4     586\n",
      "6     584\n",
      "5     556\n",
      "12    411\n",
      "Name: launched_month, dtype: int64\n",
      "Journalism Campaigns launched since 2009 :\n",
      "7     470\n",
      "8     379\n",
      "3     370\n",
      "9     354\n",
      "6     350\n",
      "11    341\n",
      "4     341\n",
      "2     336\n",
      "5     319\n",
      "1     314\n",
      "10    306\n",
      "12    268\n",
      "Name: launched_month, dtype: int64\n",
      "Dance Campaigns launched since 2009 :\n",
      "4     362\n",
      "3     339\n",
      "5     338\n",
      "7     332\n",
      "6     309\n",
      "10    305\n",
      "2     294\n",
      "8     284\n",
      "9     275\n",
      "11    271\n",
      "1     251\n",
      "12    213\n",
      "Name: launched_month, dtype: int64\n"
     ]
    }
   ],
   "source": [
    "main_catigs = ks_data[\"main_category\"].value_counts()\n",
    "main_catigs_Film = ks_data[ks_data[\"main_category\"] == \"Film & Video\"][\"launched_month\"].value_counts()\n",
    "main_catigs_Music = ks_data[ks_data[\"main_category\"] == \"Music\"][\"launched_month\"].value_counts()\n",
    "main_catigs_Publishing = ks_data[ks_data[\"main_category\"] == \"Publishing\"][\"launched_month\"].value_counts()\n",
    "main_catigs_Games  = ks_data[ks_data[\"main_category\"] == \"Games \"][\"launched_month\"].value_counts()\n",
    "main_catigs_Technology = ks_data[ks_data[\"main_category\"] == \"Technology\"][\"launched_month\"].value_counts()\n",
    "main_catigs_Design = ks_data[ks_data[\"main_category\"] == \"Design\"][\"launched_month\"].value_counts()\n",
    "main_catigs_Art = ks_data[ks_data[\"main_category\"] == \"Art\"][\"launched_month\"].value_counts()\n",
    "main_catigs_Food  = ks_data[ks_data[\"main_category\"] == \"Food \"][\"launched_month\"].value_counts()\n",
    "main_catigs_Fashion = ks_data[ks_data[\"main_category\"] == \"Fashion\"][\"launched_month\"].value_counts()\n",
    "main_catigs_Theater = ks_data[ks_data[\"main_category\"] == \"Theater\"][\"launched_month\"].value_counts()\n",
    "main_catigs_Comics = ks_data[ks_data[\"main_category\"] == \"Comics\"][\"launched_month\"].value_counts()\n",
    "main_catigs_Photography = ks_data[ks_data[\"main_category\"] == \"Photography\"][\"launched_month\"].value_counts()\n",
    "main_catigs_Crafts = ks_data[ks_data[\"main_category\"] == \"Crafts\"][\"launched_month\"].value_counts()\n",
    "main_catigs_Journalism = ks_data[ks_data[\"main_category\"] == \"Journalism\"][\"launched_month\"].value_counts()\n",
    "main_catigs_Dance = ks_data[ks_data[\"main_category\"] == \"Dance\"][\"launched_month\"].value_counts()\n",
    "\n",
    "\n",
    "  \n",
    "print('Film Campaigns launched since 2009 :')\n",
    "print (main_catigs_Film)\n",
    "\n",
    "print('Music Campaigns launched since 2009 :')\n",
    "print (main_catigs_Music)\n",
    "\n",
    "print('Publishing Campaigns launched since 2009 :')\n",
    "print (main_catigs_Publishing)\n",
    "\n",
    "print('Games  Campaigns launched since 2009 :')\n",
    "print (main_catigs_Games )\n",
    "\n",
    "print('Technology Campaigns launched since 2009 :')\n",
    "print (main_catigs_Technology)\n",
    "\n",
    "print('Design Campaigns launched since 2009 :')\n",
    "print (main_catigs_Design)\n",
    "\n",
    "print('Art Campaigns launched since 2009 :')\n",
    "print (main_catigs_Art)\n",
    "\n",
    "print('Food  Campaigns launched since 2009 :')\n",
    "print (main_catigs_Food )\n",
    "\n",
    "print('Fashion Campaigns launched since 2009 :')\n",
    "print (main_catigs_Fashion)\n",
    "\n",
    "print('Theater Campaigns launched since 2009 :')\n",
    "print (main_catigs_Theater)\n",
    "\n",
    "print('Comics Campaigns launched since 2009 :')\n",
    "print (main_catigs_Comics)\n",
    "\n",
    "print('Photography Campaigns launched since 2009 :')\n",
    "print (main_catigs_Photography)\n",
    "\n",
    "print('Crafts Campaigns launched since 2009 :')\n",
    "print (main_catigs_Crafts)\n",
    "\n",
    "print('Journalism Campaigns launched since 2009 :')\n",
    "print (main_catigs_Journalism)\n",
    "\n",
    "print('Dance Campaigns launched since 2009 :')\n",
    "print (main_catigs_Dance)\n"
   ]
  },
  {
   "cell_type": "code",
   "execution_count": 84,
   "metadata": {},
   "outputs": [
    {
     "data": {
      "application/vnd.plotly.v1+json": {
       "data": [
        {
         "name": "Film Campaigns launched since 2009 Per Month",
         "type": "scatter",
         "uid": "895a5c80-1456-11e9-a597-00dbdf806640",
         "x": [
          5395,
          5221,
          5177,
          5160,
          5024,
          4776,
          4725,
          4616,
          4572,
          4313,
          4250,
          3275
         ],
         "y": [
          3,
          4,
          6,
          7,
          5,
          10,
          2,
          8,
          11,
          9,
          1,
          12
         ]
        },
        {
         "name": "Music Campaigns launched since 2009 Per Month",
         "type": "scatter",
         "uid": "895a5c81-1456-11e9-aaf0-00dbdf806640",
         "x": [
          4233,
          4173,
          4109,
          4016,
          3992,
          3932,
          3827,
          3824,
          3791,
          3611,
          3598,
          2695
         ],
         "y": [
          3,
          5,
          4,
          7,
          6,
          2,
          10,
          11,
          8,
          1,
          9,
          12
         ]
        },
        {
         "name": "Publishing Campaigns launched since 2009 Per Month",
         "type": "scatter",
         "uid": "895a5c82-1456-11e9-a6ae-00dbdf806640",
         "x": [
          3304,
          3266,
          3202,
          3133,
          3132,
          3037,
          3022,
          2987,
          2927,
          2736,
          2665,
          2002
         ],
         "y": [
          10,
          7,
          5,
          3,
          11,
          6,
          8,
          9,
          4,
          2,
          1,
          12
         ]
        },
        {
         "name": "Games Campaigns launched since 2009 Per Month",
         "type": "scatter",
         "uid": "895a5c83-1456-11e9-afb3-00dbdf806640",
         "x": [],
         "y": []
        },
        {
         "name": "Technology Campaigns launched since 2009 Per Month",
         "type": "scatter",
         "uid": "895a5c84-1456-11e9-903b-00dbdf806640",
         "x": [
          2563,
          2494,
          2442,
          2397,
          2397,
          2369,
          2362,
          2276,
          2208,
          1990,
          1850,
          1698
         ],
         "y": [
          7,
          11,
          10,
          9,
          8,
          3,
          6,
          5,
          4,
          2,
          1,
          12
         ]
        },
        {
         "name": "Design Campaigns launched since 2009 Per Month",
         "type": "scatter",
         "uid": "895a5c85-1456-11e9-bc9b-00dbdf806640",
         "x": [
          2706,
          2426,
          2281,
          2236,
          2222,
          2211,
          2123,
          2116,
          2087,
          1780,
          1752,
          1423
         ],
         "y": [
          11,
          10,
          6,
          9,
          3,
          7,
          5,
          8,
          4,
          2,
          1,
          12
         ]
        },
        {
         "name": "Art Campaigns launched since 2009 Per Month",
         "type": "scatter",
         "uid": "895a5c86-1456-11e9-accd-00dbdf806640",
         "x": [
          2617,
          2420,
          2319,
          2303,
          2286,
          2186,
          2105,
          2080,
          2077,
          2020,
          1869,
          1359
         ],
         "y": [
          7,
          3,
          5,
          8,
          6,
          4,
          10,
          9,
          2,
          11,
          1,
          12
         ]
        },
        {
         "name": "Food Campaigns launched since 2009 Per Month",
         "type": "scatter",
         "uid": "895a5c87-1456-11e9-8f74-00dbdf806640",
         "x": [],
         "y": []
        },
        {
         "name": "Fashion Campaigns launched since 2009 Per Month",
         "type": "scatter",
         "uid": "895a5c88-1456-11e9-8748-00dbdf806640",
         "x": [
          1911,
          1903,
          1881,
          1761,
          1697,
          1681,
          1648,
          1642,
          1537,
          1527,
          1455,
          1131
         ],
         "y": [
          11,
          10,
          7,
          6,
          8,
          3,
          5,
          9,
          2,
          4,
          1,
          12
         ]
        },
        {
         "name": "Theater Campaigns launched since 2009 Per Month",
         "type": "scatter",
         "uid": "895a6fde-1456-11e9-ab1d-00dbdf806640",
         "x": [
          1138,
          1138,
          1056,
          1052,
          975,
          798,
          792,
          783,
          702,
          694,
          621,
          493
         ],
         "y": [
          6,
          5,
          7,
          4,
          3,
          2,
          8,
          9,
          1,
          10,
          11,
          12
         ]
        },
        {
         "name": "Comics Campaigns launched since 2009 Per Month",
         "type": "scatter",
         "uid": "895a6fdf-1456-11e9-bf00-00dbdf806640",
         "x": [
          1023,
          947,
          911,
          898,
          888,
          871,
          861,
          833,
          816,
          786,
          687,
          357
         ],
         "y": [
          10,
          3,
          5,
          7,
          8,
          6,
          9,
          4,
          11,
          2,
          1,
          12
         ]
        },
        {
         "name": "Photography Campaigns launched since 2009 Per Month",
         "type": "scatter",
         "uid": "895a6fe0-1456-11e9-9bcb-00dbdf806640",
         "x": [
          1186,
          866,
          864,
          839,
          824,
          818,
          793,
          782,
          753,
          739,
          730,
          495
         ],
         "y": [
          7,
          5,
          3,
          6,
          8,
          10,
          9,
          11,
          4,
          1,
          2,
          12
         ]
        },
        {
         "name": "Crafts Campaigns launched since 2009 Per Month",
         "type": "scatter",
         "uid": "895a6fe1-1456-11e9-9cd1-00dbdf806640",
         "x": [
          851,
          789,
          729,
          717,
          696,
          646,
          639,
          614,
          586,
          584,
          556,
          411
         ],
         "y": [
          7,
          8,
          10,
          3,
          11,
          9,
          1,
          2,
          4,
          6,
          5,
          12
         ]
        },
        {
         "name": "Journalism Campaigns launched since 2009 Per Month",
         "type": "scatter",
         "uid": "895a6fe2-1456-11e9-aa38-00dbdf806640",
         "x": [
          470,
          379,
          370,
          354,
          350,
          341,
          341,
          336,
          319,
          314,
          306,
          268
         ],
         "y": [
          7,
          8,
          3,
          9,
          6,
          11,
          4,
          2,
          5,
          1,
          10,
          12
         ]
        },
        {
         "name": "Dance Campaigns launched since 2009 Per Month",
         "type": "scatter",
         "uid": "895a6fe3-1456-11e9-a13b-00dbdf806640",
         "x": [
          362,
          339,
          338,
          332,
          309,
          305,
          294,
          284,
          275,
          271,
          251,
          213
         ],
         "y": [
          4,
          3,
          5,
          7,
          6,
          10,
          2,
          8,
          9,
          11,
          1,
          12
         ]
        }
       ],
       "layout": {
        "showlegend": false,
        "title": "Campaigns' Most popular Months",
        "updatemenus": [
         {
          "active": -1,
          "buttons": [
           {
            "args": [
             {
              "visible": [
               true,
               true,
               true,
               true,
               true,
               true,
               true,
               true,
               true,
               true,
               true,
               true,
               true,
               true,
               true
              ]
             },
             {
              "title": "All Campaigns launched since 2009 Per Month"
             }
            ],
            "label": "All Campaigns launched since 2009 Per Month",
            "method": "update"
           },
           {
            "args": [
             {
              "visible": [
               true,
               false,
               false,
               false,
               false,
               false,
               false,
               false,
               false,
               false,
               false,
               false,
               false,
               false,
               false
              ]
             },
             {
              "title": "Film Campaigns launched since 2009 Per Month"
             }
            ],
            "label": "Film Campaigns launched since 2009 Per Month",
            "method": "update"
           },
           {
            "args": [
             {
              "visible": [
               false,
               true,
               false,
               false,
               false,
               false,
               false,
               false,
               false,
               false,
               false,
               false,
               false,
               false,
               false
              ]
             },
             {
              "title": "Music Campaigns launched since 2009 Per Month"
             }
            ],
            "label": "Music Campaigns launched since 2009 Per Month",
            "method": "update"
           },
           {
            "args": [
             {
              "visible": [
               false,
               false,
               true,
               false,
               false,
               false,
               false,
               false,
               false,
               false,
               false,
               false,
               false,
               false,
               false
              ]
             },
             {
              "title": "PublishingCampaigns launched since 2009 Per Month"
             }
            ],
            "label": "Publishing Campaigns launched since 2009 Per Month",
            "method": "update"
           },
           {
            "args": [
             {
              "visible": [
               false,
               false,
               false,
               true,
               false,
               false,
               false,
               false,
               false,
               false,
               false,
               false,
               false,
               false,
               false
              ]
             },
             {
              "title": "Games Campaigns launched since 2009 Per Month"
             }
            ],
            "label": "Games Campaigns launched since 2009 Per Month",
            "method": "update"
           },
           {
            "args": [
             {
              "visible": [
               false,
               false,
               false,
               false,
               true,
               false,
               false,
               false,
               false,
               false,
               false,
               false,
               false,
               false,
               false
              ]
             },
             {
              "title": "Technology Campaigns launched since 2009 Per Month"
             }
            ],
            "label": "Technology Campaigns launched since 2009 Per Month",
            "method": "update"
           },
           {
            "args": [
             {
              "visible": [
               false,
               false,
               false,
               false,
               false,
               true,
               false,
               false,
               false,
               false,
               false,
               false,
               false,
               false,
               false
              ]
             },
             {
              "title": "Design Campaigns launched since 2009 Per Month"
             }
            ],
            "label": "Design Campaigns launched since 2009 Per Month",
            "method": "update"
           },
           {
            "args": [
             {
              "visible": [
               false,
               false,
               false,
               false,
               false,
               false,
               true,
               false,
               false,
               false,
               false,
               false,
               false,
               false,
               false
              ]
             },
             {
              "title": "Art Campaigns launched since 2009 Per Month"
             }
            ],
            "label": "Art Campaigns launched since 2009 Per Month",
            "method": "update"
           },
           {
            "args": [
             {
              "visible": [
               false,
               false,
               false,
               false,
               false,
               false,
               false,
               true,
               false,
               false,
               false,
               false,
               false,
               false,
               false
              ]
             },
             {
              "title": "Food Campaigns launched since 2009 Per Month"
             }
            ],
            "label": "Food Campaigns launched since 2009 Per Month",
            "method": "update"
           },
           {
            "args": [
             {
              "visible": [
               false,
               false,
               false,
               false,
               false,
               false,
               false,
               false,
               true,
               false,
               false,
               false,
               false,
               false,
               false
              ]
             },
             {
              "title": "Fashion Campaigns launched since 2009 Per Month"
             }
            ],
            "label": "Fashion Campaigns launched since 2009 Per Month",
            "method": "update"
           },
           {
            "args": [
             {
              "visible": [
               false,
               false,
               false,
               false,
               false,
               false,
               false,
               false,
               false,
               true,
               false,
               false,
               false,
               false,
               false
              ]
             },
             {
              "title": "Theater Campaigns launched since 2009 Per Month"
             }
            ],
            "label": "Theater Campaigns launched since 2009 Per Month",
            "method": "update"
           },
           {
            "args": [
             {
              "visible": [
               false,
               false,
               false,
               false,
               false,
               false,
               false,
               false,
               false,
               false,
               true,
               false,
               false,
               false,
               false
              ]
             },
             {
              "title": "Comics Campaigns launched since 2009 Per Month"
             }
            ],
            "label": "Comics Campaigns launched since 2009 Per Month",
            "method": "update"
           },
           {
            "args": [
             {
              "visible": [
               false,
               false,
               false,
               false,
               false,
               false,
               false,
               false,
               false,
               false,
               false,
               true,
               false,
               false,
               false
              ]
             },
             {
              "title": "Photography Campaigns launched since 2009 Per Month"
             }
            ],
            "label": "Photography Campaigns launched since 2009 Per Month",
            "method": "update"
           },
           {
            "args": [
             {
              "visible": [
               false,
               false,
               false,
               false,
               false,
               false,
               false,
               false,
               false,
               false,
               false,
               false,
               true,
               false,
               false
              ]
             },
             {
              "title": "Crafts Campaigns launched since 2009 Per Month"
             }
            ],
            "label": "Crafts Campaigns launched since 2009 Per Month",
            "method": "update"
           },
           {
            "args": [
             {
              "visible": [
               false,
               false,
               false,
               false,
               false,
               false,
               false,
               false,
               false,
               false,
               false,
               false,
               false,
               true,
               false
              ]
             },
             {
              "title": "Journalism Campaigns launched since 2009 Per Month"
             }
            ],
            "label": "Journalism Campaigns launched since 2009 Per Month",
            "method": "update"
           },
           {
            "args": [
             {
              "visible": [
               false,
               false,
               false,
               false,
               false,
               false,
               false,
               false,
               false,
               false,
               false,
               false,
               false,
               false,
               true
              ]
             },
             {
              "title": "Dance Campaigns launched since 2009 Per Month"
             }
            ],
            "label": "Dance Campaigns launched since 2009 Per Month",
            "method": "update"
           }
          ]
         },
         {
          "direction": "down",
          "pad": {
           "r": 10,
           "t": 10
          },
          "showactive": true,
          "x": 0.5,
          "xanchor": "center",
          "y": 1.12,
          "yanchor": "top"
         }
        ],
        "xaxis": {
         "title": "Total Number of Campaigns in that Month since 2009",
         "titlefont": {
          "color": "#7f7f7f",
          "family": "Ariel",
          "size": 14
         }
        },
        "yaxis": {
         "title": "Month of the Year",
         "titlefont": {
          "color": "#7f7f7f",
          "family": "Ariel",
          "size": 14
         }
        }
       }
      },
      "text/html": [
       "<div id=\"939b69b4-ac19-428a-a5fe-486e2d523366\" style=\"height: 525px; width: 100%;\" class=\"plotly-graph-div\"></div><script type=\"text/javascript\">require([\"plotly\"], function(Plotly) { window.PLOTLYENV=window.PLOTLYENV || {};window.PLOTLYENV.BASE_URL=\"https://plot.ly\";Plotly.newPlot(\"939b69b4-ac19-428a-a5fe-486e2d523366\", [{\"name\": \"Film Campaigns launched since 2009 Per Month\", \"x\": [5395, 5221, 5177, 5160, 5024, 4776, 4725, 4616, 4572, 4313, 4250, 3275], \"y\": [3, 4, 6, 7, 5, 10, 2, 8, 11, 9, 1, 12], \"type\": \"scatter\", \"uid\": \"896617a8-1456-11e9-bf1e-00dbdf806640\"}, {\"name\": \"Music Campaigns launched since 2009 Per Month\", \"x\": [4233, 4173, 4109, 4016, 3992, 3932, 3827, 3824, 3791, 3611, 3598, 2695], \"y\": [3, 5, 4, 7, 6, 2, 10, 11, 8, 1, 9, 12], \"type\": \"scatter\", \"uid\": \"896629fe-1456-11e9-80e2-00dbdf806640\"}, {\"name\": \"Publishing Campaigns launched since 2009 Per Month\", \"x\": [3304, 3266, 3202, 3133, 3132, 3037, 3022, 2987, 2927, 2736, 2665, 2002], \"y\": [10, 7, 5, 3, 11, 6, 8, 9, 4, 2, 1, 12], \"type\": \"scatter\", \"uid\": \"896629ff-1456-11e9-b102-00dbdf806640\"}, {\"name\": \"Games Campaigns launched since 2009 Per Month\", \"x\": [], \"y\": [], \"type\": \"scatter\", \"uid\": \"89662a00-1456-11e9-b7ea-00dbdf806640\"}, {\"name\": \"Technology Campaigns launched since 2009 Per Month\", \"x\": [2563, 2494, 2442, 2397, 2397, 2369, 2362, 2276, 2208, 1990, 1850, 1698], \"y\": [7, 11, 10, 9, 8, 3, 6, 5, 4, 2, 1, 12], \"type\": \"scatter\", \"uid\": \"89662a01-1456-11e9-a5b0-00dbdf806640\"}, {\"name\": \"Design Campaigns launched since 2009 Per Month\", \"x\": [2706, 2426, 2281, 2236, 2222, 2211, 2123, 2116, 2087, 1780, 1752, 1423], \"y\": [11, 10, 6, 9, 3, 7, 5, 8, 4, 2, 1, 12], \"type\": \"scatter\", \"uid\": \"89662a02-1456-11e9-afbf-00dbdf806640\"}, {\"name\": \"Art Campaigns launched since 2009 Per Month\", \"x\": [2617, 2420, 2319, 2303, 2286, 2186, 2105, 2080, 2077, 2020, 1869, 1359], \"y\": [7, 3, 5, 8, 6, 4, 10, 9, 2, 11, 1, 12], \"type\": \"scatter\", \"uid\": \"89662a03-1456-11e9-9a92-00dbdf806640\"}, {\"name\": \"Food Campaigns launched since 2009 Per Month\", \"x\": [], \"y\": [], \"type\": \"scatter\", \"uid\": \"89662a04-1456-11e9-bfb5-00dbdf806640\"}, {\"name\": \"Fashion Campaigns launched since 2009 Per Month\", \"x\": [1911, 1903, 1881, 1761, 1697, 1681, 1648, 1642, 1537, 1527, 1455, 1131], \"y\": [11, 10, 7, 6, 8, 3, 5, 9, 2, 4, 1, 12], \"type\": \"scatter\", \"uid\": \"89662a05-1456-11e9-905f-00dbdf806640\"}, {\"name\": \"Theater Campaigns launched since 2009 Per Month\", \"x\": [1138, 1138, 1056, 1052, 975, 798, 792, 783, 702, 694, 621, 493], \"y\": [6, 5, 7, 4, 3, 2, 8, 9, 1, 10, 11, 12], \"type\": \"scatter\", \"uid\": \"89662a06-1456-11e9-850a-00dbdf806640\"}, {\"name\": \"Comics Campaigns launched since 2009 Per Month\", \"x\": [1023, 947, 911, 898, 888, 871, 861, 833, 816, 786, 687, 357], \"y\": [10, 3, 5, 7, 8, 6, 9, 4, 11, 2, 1, 12], \"type\": \"scatter\", \"uid\": \"89662a07-1456-11e9-8845-00dbdf806640\"}, {\"name\": \"Photography Campaigns launched since 2009 Per Month\", \"x\": [1186, 866, 864, 839, 824, 818, 793, 782, 753, 739, 730, 495], \"y\": [7, 5, 3, 6, 8, 10, 9, 11, 4, 1, 2, 12], \"type\": \"scatter\", \"uid\": \"89662a08-1456-11e9-ba57-00dbdf806640\"}, {\"name\": \"Crafts Campaigns launched since 2009 Per Month\", \"x\": [851, 789, 729, 717, 696, 646, 639, 614, 586, 584, 556, 411], \"y\": [7, 8, 10, 3, 11, 9, 1, 2, 4, 6, 5, 12], \"type\": \"scatter\", \"uid\": \"89662a09-1456-11e9-a455-00dbdf806640\"}, {\"name\": \"Journalism Campaigns launched since 2009 Per Month\", \"x\": [470, 379, 370, 354, 350, 341, 341, 336, 319, 314, 306, 268], \"y\": [7, 8, 3, 9, 6, 11, 4, 2, 5, 1, 10, 12], \"type\": \"scatter\", \"uid\": \"89662a0a-1456-11e9-b41c-00dbdf806640\"}, {\"name\": \"Dance Campaigns launched since 2009 Per Month\", \"x\": [362, 339, 338, 332, 309, 305, 294, 284, 275, 271, 251, 213], \"y\": [4, 3, 5, 7, 6, 10, 2, 8, 9, 11, 1, 12], \"type\": \"scatter\", \"uid\": \"89662a0b-1456-11e9-919e-00dbdf806640\"}], {\"showlegend\": false, \"title\": \"Campaigns' Most popular Months\", \"updatemenus\": [{\"active\": -1, \"buttons\": [{\"args\": [{\"visible\": [true, true, true, true, true, true, true, true, true, true, true, true, true, true, true]}, {\"title\": \"All Campaigns launched since 2009 Per Month\"}], \"label\": \"All Campaigns launched since 2009 Per Month\", \"method\": \"update\"}, {\"args\": [{\"visible\": [true, false, false, false, false, false, false, false, false, false, false, false, false, false, false]}, {\"title\": \"Film Campaigns launched since 2009 Per Month\"}], \"label\": \"Film Campaigns launched since 2009 Per Month\", \"method\": \"update\"}, {\"args\": [{\"visible\": [false, true, false, false, false, false, false, false, false, false, false, false, false, false, false]}, {\"title\": \"Music Campaigns launched since 2009 Per Month\"}], \"label\": \"Music Campaigns launched since 2009 Per Month\", \"method\": \"update\"}, {\"args\": [{\"visible\": [false, false, true, false, false, false, false, false, false, false, false, false, false, false, false]}, {\"title\": \"PublishingCampaigns launched since 2009 Per Month\"}], \"label\": \"Publishing Campaigns launched since 2009 Per Month\", \"method\": \"update\"}, {\"args\": [{\"visible\": [false, false, false, true, false, false, false, false, false, false, false, false, false, false, false]}, {\"title\": \"Games Campaigns launched since 2009 Per Month\"}], \"label\": \"Games Campaigns launched since 2009 Per Month\", \"method\": \"update\"}, {\"args\": [{\"visible\": [false, false, false, false, true, false, false, false, false, false, false, false, false, false, false]}, {\"title\": \"Technology Campaigns launched since 2009 Per Month\"}], \"label\": \"Technology Campaigns launched since 2009 Per Month\", \"method\": \"update\"}, {\"args\": [{\"visible\": [false, false, false, false, false, true, false, false, false, false, false, false, false, false, false]}, {\"title\": \"Design Campaigns launched since 2009 Per Month\"}], \"label\": \"Design Campaigns launched since 2009 Per Month\", \"method\": \"update\"}, {\"args\": [{\"visible\": [false, false, false, false, false, false, true, false, false, false, false, false, false, false, false]}, {\"title\": \"Art Campaigns launched since 2009 Per Month\"}], \"label\": \"Art Campaigns launched since 2009 Per Month\", \"method\": \"update\"}, {\"args\": [{\"visible\": [false, false, false, false, false, false, false, true, false, false, false, false, false, false, false]}, {\"title\": \"Food Campaigns launched since 2009 Per Month\"}], \"label\": \"Food Campaigns launched since 2009 Per Month\", \"method\": \"update\"}, {\"args\": [{\"visible\": [false, false, false, false, false, false, false, false, true, false, false, false, false, false, false]}, {\"title\": \"Fashion Campaigns launched since 2009 Per Month\"}], \"label\": \"Fashion Campaigns launched since 2009 Per Month\", \"method\": \"update\"}, {\"args\": [{\"visible\": [false, false, false, false, false, false, false, false, false, true, false, false, false, false, false]}, {\"title\": \"Theater Campaigns launched since 2009 Per Month\"}], \"label\": \"Theater Campaigns launched since 2009 Per Month\", \"method\": \"update\"}, {\"args\": [{\"visible\": [false, false, false, false, false, false, false, false, false, false, true, false, false, false, false]}, {\"title\": \"Comics Campaigns launched since 2009 Per Month\"}], \"label\": \"Comics Campaigns launched since 2009 Per Month\", \"method\": \"update\"}, {\"args\": [{\"visible\": [false, false, false, false, false, false, false, false, false, false, false, true, false, false, false]}, {\"title\": \"Photography Campaigns launched since 2009 Per Month\"}], \"label\": \"Photography Campaigns launched since 2009 Per Month\", \"method\": \"update\"}, {\"args\": [{\"visible\": [false, false, false, false, false, false, false, false, false, false, false, false, true, false, false]}, {\"title\": \"Crafts Campaigns launched since 2009 Per Month\"}], \"label\": \"Crafts Campaigns launched since 2009 Per Month\", \"method\": \"update\"}, {\"args\": [{\"visible\": [false, false, false, false, false, false, false, false, false, false, false, false, false, true, false]}, {\"title\": \"Journalism Campaigns launched since 2009 Per Month\"}], \"label\": \"Journalism Campaigns launched since 2009 Per Month\", \"method\": \"update\"}, {\"args\": [{\"visible\": [false, false, false, false, false, false, false, false, false, false, false, false, false, false, true]}, {\"title\": \"Dance Campaigns launched since 2009 Per Month\"}], \"label\": \"Dance Campaigns launched since 2009 Per Month\", \"method\": \"update\"}]}, {\"direction\": \"down\", \"pad\": {\"r\": 10, \"t\": 10}, \"showactive\": true, \"x\": 0.5, \"xanchor\": \"center\", \"y\": 1.12, \"yanchor\": \"top\"}], \"xaxis\": {\"title\": \"Total Number of Campaigns in that Month since 2009\", \"titlefont\": {\"color\": \"#7f7f7f\", \"family\": \"Ariel\", \"size\": 14}}, \"yaxis\": {\"title\": \"Month of the Year\", \"titlefont\": {\"color\": \"#7f7f7f\", \"family\": \"Ariel\", \"size\": 14}}}, {\"showLink\": true, \"linkText\": \"Export to plot.ly\"})});</script>"
      ],
      "text/vnd.plotly.v1+html": [
       "<div id=\"939b69b4-ac19-428a-a5fe-486e2d523366\" style=\"height: 525px; width: 100%;\" class=\"plotly-graph-div\"></div><script type=\"text/javascript\">require([\"plotly\"], function(Plotly) { window.PLOTLYENV=window.PLOTLYENV || {};window.PLOTLYENV.BASE_URL=\"https://plot.ly\";Plotly.newPlot(\"939b69b4-ac19-428a-a5fe-486e2d523366\", [{\"name\": \"Film Campaigns launched since 2009 Per Month\", \"x\": [5395, 5221, 5177, 5160, 5024, 4776, 4725, 4616, 4572, 4313, 4250, 3275], \"y\": [3, 4, 6, 7, 5, 10, 2, 8, 11, 9, 1, 12], \"type\": \"scatter\", \"uid\": \"896617a8-1456-11e9-bf1e-00dbdf806640\"}, {\"name\": \"Music Campaigns launched since 2009 Per Month\", \"x\": [4233, 4173, 4109, 4016, 3992, 3932, 3827, 3824, 3791, 3611, 3598, 2695], \"y\": [3, 5, 4, 7, 6, 2, 10, 11, 8, 1, 9, 12], \"type\": \"scatter\", \"uid\": \"896629fe-1456-11e9-80e2-00dbdf806640\"}, {\"name\": \"Publishing Campaigns launched since 2009 Per Month\", \"x\": [3304, 3266, 3202, 3133, 3132, 3037, 3022, 2987, 2927, 2736, 2665, 2002], \"y\": [10, 7, 5, 3, 11, 6, 8, 9, 4, 2, 1, 12], \"type\": \"scatter\", \"uid\": \"896629ff-1456-11e9-b102-00dbdf806640\"}, {\"name\": \"Games Campaigns launched since 2009 Per Month\", \"x\": [], \"y\": [], \"type\": \"scatter\", \"uid\": \"89662a00-1456-11e9-b7ea-00dbdf806640\"}, {\"name\": \"Technology Campaigns launched since 2009 Per Month\", \"x\": [2563, 2494, 2442, 2397, 2397, 2369, 2362, 2276, 2208, 1990, 1850, 1698], \"y\": [7, 11, 10, 9, 8, 3, 6, 5, 4, 2, 1, 12], \"type\": \"scatter\", \"uid\": \"89662a01-1456-11e9-a5b0-00dbdf806640\"}, {\"name\": \"Design Campaigns launched since 2009 Per Month\", \"x\": [2706, 2426, 2281, 2236, 2222, 2211, 2123, 2116, 2087, 1780, 1752, 1423], \"y\": [11, 10, 6, 9, 3, 7, 5, 8, 4, 2, 1, 12], \"type\": \"scatter\", \"uid\": \"89662a02-1456-11e9-afbf-00dbdf806640\"}, {\"name\": \"Art Campaigns launched since 2009 Per Month\", \"x\": [2617, 2420, 2319, 2303, 2286, 2186, 2105, 2080, 2077, 2020, 1869, 1359], \"y\": [7, 3, 5, 8, 6, 4, 10, 9, 2, 11, 1, 12], \"type\": \"scatter\", \"uid\": \"89662a03-1456-11e9-9a92-00dbdf806640\"}, {\"name\": \"Food Campaigns launched since 2009 Per Month\", \"x\": [], \"y\": [], \"type\": \"scatter\", \"uid\": \"89662a04-1456-11e9-bfb5-00dbdf806640\"}, {\"name\": \"Fashion Campaigns launched since 2009 Per Month\", \"x\": [1911, 1903, 1881, 1761, 1697, 1681, 1648, 1642, 1537, 1527, 1455, 1131], \"y\": [11, 10, 7, 6, 8, 3, 5, 9, 2, 4, 1, 12], \"type\": \"scatter\", \"uid\": \"89662a05-1456-11e9-905f-00dbdf806640\"}, {\"name\": \"Theater Campaigns launched since 2009 Per Month\", \"x\": [1138, 1138, 1056, 1052, 975, 798, 792, 783, 702, 694, 621, 493], \"y\": [6, 5, 7, 4, 3, 2, 8, 9, 1, 10, 11, 12], \"type\": \"scatter\", \"uid\": \"89662a06-1456-11e9-850a-00dbdf806640\"}, {\"name\": \"Comics Campaigns launched since 2009 Per Month\", \"x\": [1023, 947, 911, 898, 888, 871, 861, 833, 816, 786, 687, 357], \"y\": [10, 3, 5, 7, 8, 6, 9, 4, 11, 2, 1, 12], \"type\": \"scatter\", \"uid\": \"89662a07-1456-11e9-8845-00dbdf806640\"}, {\"name\": \"Photography Campaigns launched since 2009 Per Month\", \"x\": [1186, 866, 864, 839, 824, 818, 793, 782, 753, 739, 730, 495], \"y\": [7, 5, 3, 6, 8, 10, 9, 11, 4, 1, 2, 12], \"type\": \"scatter\", \"uid\": \"89662a08-1456-11e9-ba57-00dbdf806640\"}, {\"name\": \"Crafts Campaigns launched since 2009 Per Month\", \"x\": [851, 789, 729, 717, 696, 646, 639, 614, 586, 584, 556, 411], \"y\": [7, 8, 10, 3, 11, 9, 1, 2, 4, 6, 5, 12], \"type\": \"scatter\", \"uid\": \"89662a09-1456-11e9-a455-00dbdf806640\"}, {\"name\": \"Journalism Campaigns launched since 2009 Per Month\", \"x\": [470, 379, 370, 354, 350, 341, 341, 336, 319, 314, 306, 268], \"y\": [7, 8, 3, 9, 6, 11, 4, 2, 5, 1, 10, 12], \"type\": \"scatter\", \"uid\": \"89662a0a-1456-11e9-b41c-00dbdf806640\"}, {\"name\": \"Dance Campaigns launched since 2009 Per Month\", \"x\": [362, 339, 338, 332, 309, 305, 294, 284, 275, 271, 251, 213], \"y\": [4, 3, 5, 7, 6, 10, 2, 8, 9, 11, 1, 12], \"type\": \"scatter\", \"uid\": \"89662a0b-1456-11e9-919e-00dbdf806640\"}], {\"showlegend\": false, \"title\": \"Campaigns' Most popular Months\", \"updatemenus\": [{\"active\": -1, \"buttons\": [{\"args\": [{\"visible\": [true, true, true, true, true, true, true, true, true, true, true, true, true, true, true]}, {\"title\": \"All Campaigns launched since 2009 Per Month\"}], \"label\": \"All Campaigns launched since 2009 Per Month\", \"method\": \"update\"}, {\"args\": [{\"visible\": [true, false, false, false, false, false, false, false, false, false, false, false, false, false, false]}, {\"title\": \"Film Campaigns launched since 2009 Per Month\"}], \"label\": \"Film Campaigns launched since 2009 Per Month\", \"method\": \"update\"}, {\"args\": [{\"visible\": [false, true, false, false, false, false, false, false, false, false, false, false, false, false, false]}, {\"title\": \"Music Campaigns launched since 2009 Per Month\"}], \"label\": \"Music Campaigns launched since 2009 Per Month\", \"method\": \"update\"}, {\"args\": [{\"visible\": [false, false, true, false, false, false, false, false, false, false, false, false, false, false, false]}, {\"title\": \"PublishingCampaigns launched since 2009 Per Month\"}], \"label\": \"Publishing Campaigns launched since 2009 Per Month\", \"method\": \"update\"}, {\"args\": [{\"visible\": [false, false, false, true, false, false, false, false, false, false, false, false, false, false, false]}, {\"title\": \"Games Campaigns launched since 2009 Per Month\"}], \"label\": \"Games Campaigns launched since 2009 Per Month\", \"method\": \"update\"}, {\"args\": [{\"visible\": [false, false, false, false, true, false, false, false, false, false, false, false, false, false, false]}, {\"title\": \"Technology Campaigns launched since 2009 Per Month\"}], \"label\": \"Technology Campaigns launched since 2009 Per Month\", \"method\": \"update\"}, {\"args\": [{\"visible\": [false, false, false, false, false, true, false, false, false, false, false, false, false, false, false]}, {\"title\": \"Design Campaigns launched since 2009 Per Month\"}], \"label\": \"Design Campaigns launched since 2009 Per Month\", \"method\": \"update\"}, {\"args\": [{\"visible\": [false, false, false, false, false, false, true, false, false, false, false, false, false, false, false]}, {\"title\": \"Art Campaigns launched since 2009 Per Month\"}], \"label\": \"Art Campaigns launched since 2009 Per Month\", \"method\": \"update\"}, {\"args\": [{\"visible\": [false, false, false, false, false, false, false, true, false, false, false, false, false, false, false]}, {\"title\": \"Food Campaigns launched since 2009 Per Month\"}], \"label\": \"Food Campaigns launched since 2009 Per Month\", \"method\": \"update\"}, {\"args\": [{\"visible\": [false, false, false, false, false, false, false, false, true, false, false, false, false, false, false]}, {\"title\": \"Fashion Campaigns launched since 2009 Per Month\"}], \"label\": \"Fashion Campaigns launched since 2009 Per Month\", \"method\": \"update\"}, {\"args\": [{\"visible\": [false, false, false, false, false, false, false, false, false, true, false, false, false, false, false]}, {\"title\": \"Theater Campaigns launched since 2009 Per Month\"}], \"label\": \"Theater Campaigns launched since 2009 Per Month\", \"method\": \"update\"}, {\"args\": [{\"visible\": [false, false, false, false, false, false, false, false, false, false, true, false, false, false, false]}, {\"title\": \"Comics Campaigns launched since 2009 Per Month\"}], \"label\": \"Comics Campaigns launched since 2009 Per Month\", \"method\": \"update\"}, {\"args\": [{\"visible\": [false, false, false, false, false, false, false, false, false, false, false, true, false, false, false]}, {\"title\": \"Photography Campaigns launched since 2009 Per Month\"}], \"label\": \"Photography Campaigns launched since 2009 Per Month\", \"method\": \"update\"}, {\"args\": [{\"visible\": [false, false, false, false, false, false, false, false, false, false, false, false, true, false, false]}, {\"title\": \"Crafts Campaigns launched since 2009 Per Month\"}], \"label\": \"Crafts Campaigns launched since 2009 Per Month\", \"method\": \"update\"}, {\"args\": [{\"visible\": [false, false, false, false, false, false, false, false, false, false, false, false, false, true, false]}, {\"title\": \"Journalism Campaigns launched since 2009 Per Month\"}], \"label\": \"Journalism Campaigns launched since 2009 Per Month\", \"method\": \"update\"}, {\"args\": [{\"visible\": [false, false, false, false, false, false, false, false, false, false, false, false, false, false, true]}, {\"title\": \"Dance Campaigns launched since 2009 Per Month\"}], \"label\": \"Dance Campaigns launched since 2009 Per Month\", \"method\": \"update\"}]}, {\"direction\": \"down\", \"pad\": {\"r\": 10, \"t\": 10}, \"showactive\": true, \"x\": 0.5, \"xanchor\": \"center\", \"y\": 1.12, \"yanchor\": \"top\"}], \"xaxis\": {\"title\": \"Total Number of Campaigns in that Month since 2009\", \"titlefont\": {\"color\": \"#7f7f7f\", \"family\": \"Ariel\", \"size\": 14}}, \"yaxis\": {\"title\": \"Month of the Year\", \"titlefont\": {\"color\": \"#7f7f7f\", \"family\": \"Ariel\", \"size\": 14}}}, {\"showLink\": true, \"linkText\": \"Export to plot.ly\"})});</script>"
      ]
     },
     "metadata": {},
     "output_type": "display_data"
    }
   ],
   "source": [
    "###\n",
    "#Plot the total number of campaign per month sinice 2012, to show what month is most popular per campaign\n",
    "### \n",
    "\n",
    "trace_0 = go.Scatter(x= main_catigs_Film.values,\n",
    "                        y= main_catigs_Film.index,\n",
    "                        name='Film Campaigns launched since 2009 Per Month')\n",
    "\n",
    "trace_1 = go.Scatter(x= main_catigs_Music.values,\n",
    "                        y= main_catigs_Music.index,\n",
    "                        name='Music Campaigns launched since 2009 Per Month')\n",
    "\n",
    "\n",
    "trace_2 = go.Scatter(x= main_catigs_Publishing.values,\n",
    "                        y= main_catigs_Publishing.index,\n",
    "                        name='Publishing Campaigns launched since 2009 Per Month')\n",
    "\n",
    "trace_3 = go.Scatter(x= main_catigs_Games.values,\n",
    "                        y= main_catigs_Games.index,\n",
    "                        name='Games Campaigns launched since 2009 Per Month')\n",
    "\n",
    "trace_4 = go.Scatter(x= main_catigs_Technology.values,\n",
    "                        y= main_catigs_Technology.index,\n",
    "                        name='Technology Campaigns launched since 2009 Per Month')\n",
    "\n",
    "trace_5 = go.Scatter(x= main_catigs_Design.values,\n",
    "                        y= main_catigs_Design.index,\n",
    "                        name='Design Campaigns launched since 2009 Per Month')\n",
    "\n",
    "trace_6 = go.Scatter(x= main_catigs_Art.values,\n",
    "                        y= main_catigs_Art.index,\n",
    "                        name='Art Campaigns launched since 2009 Per Month')\n",
    "\n",
    "trace_7 = go.Scatter(x= main_catigs_Food.values,\n",
    "                        y= main_catigs_Food.index,\n",
    "                        name='Food Campaigns launched since 2009 Per Month')\n",
    "\n",
    "trace_8 = go.Scatter(x= main_catigs_Fashion.values,\n",
    "                        y= main_catigs_Fashion.index,\n",
    "                        name='Fashion Campaigns launched since 2009 Per Month')\n",
    "\n",
    "trace_9 = go.Scatter(x= main_catigs_Theater.values,\n",
    "                        y= main_catigs_Theater.index,\n",
    "                        name='Theater Campaigns launched since 2009 Per Month')\n",
    "\n",
    "trace_10 = go.Scatter(x= main_catigs_Comics.values,\n",
    "                        y= main_catigs_Comics.index,\n",
    "                        name='Comics Campaigns launched since 2009 Per Month')\n",
    "\n",
    "trace_11 = go.Scatter(x= main_catigs_Photography.values,\n",
    "                        y= main_catigs_Photography.index,\n",
    "                        name='Photography Campaigns launched since 2009 Per Month')\n",
    "\n",
    "trace_12 = go.Scatter(x= main_catigs_Crafts.values,\n",
    "                        y= main_catigs_Crafts.index,\n",
    "                        name='Crafts Campaigns launched since 2009 Per Month')\n",
    "\n",
    "trace_13 = go.Scatter(x= main_catigs_Journalism.values,\n",
    "                        y= main_catigs_Journalism.index,\n",
    "                        name='Journalism Campaigns launched since 2009 Per Month')\n",
    "\n",
    "trace_14 = go.Scatter(x= main_catigs_Dance.values,\n",
    "                        y= main_catigs_Dance.index,\n",
    "                        name='Dance Campaigns launched since 2009 Per Month')\n",
    "\n",
    "data = [trace_0, trace_1, trace_2,trace_3,trace_4,trace_5,trace_6,trace_7,trace_8,trace_9,\n",
    "       trace_10,trace_11,trace_12,trace_13,trace_14]\n",
    "\n",
    "\n",
    "\n",
    "updatemenus = list([\n",
    "    dict(active=-1,\n",
    "         buttons=list([ \n",
    "             \n",
    "            dict(label = 'All Campaigns launched since 2009 Per Month',\n",
    "                 method = 'update',\n",
    "                 args = [{'visible': [True, True, True, True,\n",
    "                                     True, True, True,True,\n",
    "                                     True, True, True,True,\n",
    "                                     True, True, True]},\n",
    "                         {'title': 'All Campaigns launched since 2009 Per Month'}]),\n",
    "            \n",
    "             dict(label = 'Film Campaigns launched since 2009 Per Month',\n",
    "                 method = 'update',\n",
    "                 args = [{'visible': [True, False, False, False,\n",
    "                                     False, False, False,False,\n",
    "                                     False, False, False,False,\n",
    "                                     False, False, False]},\n",
    "                         {'title': 'Film Campaigns launched since 2009 Per Month'}]),\n",
    "             \n",
    "             dict(label = 'Music Campaigns launched since 2009 Per Month',\n",
    "                 method = 'update',\n",
    "                 args = [{'visible': [False, True, False, False,\n",
    "                                     False, False, False,False,\n",
    "                                     False, False, False,False,\n",
    "                                     False, False, False]},\n",
    "                         {'title': 'Music Campaigns launched since 2009 Per Month'}]),\n",
    "            \n",
    "             dict(label = 'Publishing Campaigns launched since 2009 Per Month',\n",
    "                 method = 'update',\n",
    "                 args = [{'visible': [False, False, True, False,\n",
    "                                     False, False, False,False,\n",
    "                                     False, False, False,False,\n",
    "                                     False, False, False]},\n",
    "                         {'title': 'PublishingCampaigns launched since 2009 Per Month'}]),\n",
    "            \n",
    "             dict(label = 'Games Campaigns launched since 2009 Per Month',\n",
    "                 method = 'update',\n",
    "                 args = [{'visible': [False, False, False,True, \n",
    "                                     False, False, False,False,\n",
    "                                     False, False, False,False,\n",
    "                                     False, False, False]},\n",
    "                         {'title': 'Games Campaigns launched since 2009 Per Month'}]),\n",
    "             \n",
    "             dict(label = 'Technology Campaigns launched since 2009 Per Month',\n",
    "                 method = 'update',\n",
    "                 args = [{'visible': [False, False, False, False,\n",
    "                                     True, False, False,False,\n",
    "                                     False, False, False,False,\n",
    "                                     False, False, False]},\n",
    "                         {'title': 'Technology Campaigns launched since 2009 Per Month'}]),\n",
    "            \n",
    "             dict(label = 'Design Campaigns launched since 2009 Per Month',\n",
    "                 method = 'update',\n",
    "                 args = [{'visible': [False, False, False, False,\n",
    "                                     False, True, False,False,\n",
    "                                     False, False, False,False,\n",
    "                                     False, False, False]},\n",
    "                         {'title': 'Design Campaigns launched since 2009 Per Month'}]),\n",
    "\n",
    "             dict(label = 'Art Campaigns launched since 2009 Per Month',\n",
    "                 method = 'update',\n",
    "                 args = [{'visible': [False, False, False, False,\n",
    "                                     False, False, True, False,\n",
    "                                     False, False, False,False,\n",
    "                                     False, False, False]},\n",
    "                         {'title': 'Art Campaigns launched since 2009 Per Month'}]),\n",
    "            \n",
    "             dict(label = 'Food Campaigns launched since 2009 Per Month',\n",
    "                 method = 'update',\n",
    "                 args = [{'visible': [False, False, False, False,\n",
    "                                     False, False, False, True, \n",
    "                                     False, False, False,False,\n",
    "                                     False, False, False]},\n",
    "                         {'title': 'Food Campaigns launched since 2009 Per Month'}]),\n",
    "             \n",
    "             dict(label = 'Fashion Campaigns launched since 2009 Per Month',\n",
    "                 method = 'update',\n",
    "                 args = [{'visible': [False, False, False, False, \n",
    "                                     False, False, False,False,\n",
    "                                     True, False, False,False,\n",
    "                                     False, False, False]},\n",
    "                         {'title': 'Fashion Campaigns launched since 2009 Per Month'}]),\n",
    "             \n",
    "             dict(label = 'Theater Campaigns launched since 2009 Per Month',\n",
    "                 method = 'update',\n",
    "                 args = [{'visible': [False, False, False, False, \n",
    "                                     False, False, False,False,\n",
    "                                     False, True, False,False,\n",
    "                                     False, False, False]},\n",
    "                         {'title': 'Theater Campaigns launched since 2009 Per Month'}]),\n",
    "             \n",
    "             dict(label = 'Comics Campaigns launched since 2009 Per Month',\n",
    "                 method = 'update',\n",
    "                 args = [{'visible': [False, False, False, False, \n",
    "                                     False, False, False,False,\n",
    "                                     False, False, True, False,\n",
    "                                     False, False, False]},\n",
    "                         {'title': 'Comics Campaigns launched since 2009 Per Month'}]),\n",
    "            \n",
    "             dict(label = 'Photography Campaigns launched since 2009 Per Month',\n",
    "                 method = 'update',\n",
    "                 args = [{'visible': [False, False, False, False, \n",
    "                                     False, False, False,False,\n",
    "                                     False, False, False, True, \n",
    "                                     False, False, False]},\n",
    "                         {'title': 'Photography Campaigns launched since 2009 Per Month'}]),\n",
    "             \n",
    "             dict(label = 'Crafts Campaigns launched since 2009 Per Month',\n",
    "                 method = 'update',\n",
    "                 args = [{'visible': [False, False, False, False, \n",
    "                                     False, False, False,False,\n",
    "                                     False, False, False,False,\n",
    "                                     True, False, False]},\n",
    "                         {'title': 'Crafts Campaigns launched since 2009 Per Month'}]),\n",
    "            \n",
    "             dict(label = 'Journalism Campaigns launched since 2009 Per Month',\n",
    "                 method = 'update',\n",
    "                 args = [{'visible': [False, False, False, False, \n",
    "                                     False, False, False,False,\n",
    "                                     False, False, False,False,\n",
    "                                     False, True, False]},\n",
    "                         {'title': 'Journalism Campaigns launched since 2009 Per Month'}]),\n",
    "             \n",
    "             dict(label = 'Dance Campaigns launched since 2009 Per Month',\n",
    "                 method = 'update',\n",
    "                 args = [{'visible': [False, False, False, False, \n",
    "                                     False, False, False,False,\n",
    "                                     False, False, False,False,\n",
    "                                     False, False, True]},\n",
    "                         {'title': 'Dance Campaigns launched since 2009 Per Month'}])\n",
    "        ]),\n",
    "    ),\n",
    "    dict (direction = 'down',\n",
    "        pad = {'r': 10, 't': 10},\n",
    "        showactive = True,\n",
    "        x = 0.5,\n",
    "        xanchor = 'center',\n",
    "        y = 1.12,\n",
    "        yanchor = 'top')\n",
    "])\n",
    "\n",
    "\n",
    "\n",
    "\n",
    "layout = go.Layout(\n",
    "    dict(title= 'Campaigns\\' Most popular Months', \n",
    "         showlegend=False,\n",
    "         updatemenus=updatemenus),\n",
    "    xaxis=dict(\n",
    "        title='Total Number of Campaigns in that Month since 2009',\n",
    "        titlefont=dict(\n",
    "            family='Ariel',\n",
    "            size=14,\n",
    "            color='#7f7f7f'\n",
    "        )\n",
    "    ),\n",
    "    yaxis=dict(\n",
    "        title='Month of the Year',\n",
    "        titlefont=dict(\n",
    "            \n",
    "            family='Ariel',\n",
    "            size=14,\n",
    "            color='#7f7f7f'\n",
    "            \n",
    "        )\n",
    "    )\n",
    ")\n",
    "fig = dict(data=data, layout=layout)\n",
    "py.iplot(fig, filename='update_dropdown')\n",
    "\n"
   ]
  },
  {
   "cell_type": "markdown",
   "metadata": {},
   "source": [
    "# Comment\n",
    "Very interesting to see which months have more campaigns, and in which months are different campaign categories more popular. I wonder also about the amount pledged per campaign. can we see the average amounts pledged per campaign category since 2009?"
   ]
  },
  {
   "cell_type": "code",
   "execution_count": null,
   "metadata": {},
   "outputs": [],
   "source": []
  },
  {
   "cell_type": "code",
   "execution_count": 85,
   "metadata": {},
   "outputs": [
    {
     "name": "stdout",
     "output_type": "stream",
     "text": [
      "Film Campaigns launched since 2009 :\n",
      "launched_month\n",
      "1     5530.966466\n",
      "2     7021.610665\n",
      "3     7267.626966\n",
      "4     7569.778209\n",
      "5     6873.355382\n",
      "6     6229.379090\n",
      "7     6922.461432\n",
      "8     5542.201367\n",
      "9     6718.071111\n",
      "10    7218.699971\n",
      "11    7660.090731\n",
      "12    5358.045933\n",
      "Name: usd_pledged_real, dtype: float64\n",
      "Music Campaigns launched since 2009 :\n",
      "launched_month\n",
      "1     3826.423304\n",
      "2     4204.612325\n",
      "3     4286.393728\n",
      "4     4197.425785\n",
      "5     3968.113106\n",
      "6     4208.711423\n",
      "7     3690.679898\n",
      "8     3970.968077\n",
      "9     4490.312001\n",
      "10    4735.866564\n",
      "11    4706.848146\n",
      "12    3534.422523\n",
      "Name: usd_pledged_real, dtype: float64\n",
      "Publishing Campaigns launched since 2009 :\n",
      "launched_month\n",
      "1     3090.935002\n",
      "2     3310.110205\n",
      "3     3782.078120\n",
      "4     4052.116187\n",
      "5     3833.281018\n",
      "6     4195.356345\n",
      "7     3215.981996\n",
      "8     3376.996294\n",
      "9     4077.408875\n",
      "10    4250.118354\n",
      "11    4041.049658\n",
      "12    2574.218472\n",
      "Name: usd_pledged_real, dtype: float64\n",
      "Games  Campaigns launched since 2009 :\n",
      "Series([], Name: usd_pledged_real, dtype: float64)\n",
      "Technology Campaigns launched since 2009 :\n",
      "launched_month\n",
      "1     19468.770719\n",
      "2     21392.395457\n",
      "3     31923.817011\n",
      "4     20202.250050\n",
      "5     30719.120492\n",
      "6     22910.975140\n",
      "7     24146.078915\n",
      "8     17530.139307\n",
      "9     27963.586600\n",
      "10    23432.666974\n",
      "11    28019.486387\n",
      "12    14672.639576\n",
      "Name: usd_pledged_real, dtype: float64\n",
      "Design Campaigns launched since 2009 :\n",
      "launched_month\n",
      "1     22276.745126\n",
      "2     34726.789399\n",
      "3     20636.580387\n",
      "4     30102.314427\n",
      "5     33105.750217\n",
      "6     25597.308619\n",
      "7     42290.610647\n",
      "8     25326.508398\n",
      "9     24347.668520\n",
      "10    28727.776533\n",
      "11    25119.768186\n",
      "12    19556.996283\n",
      "Name: usd_pledged_real, dtype: float64\n",
      "Art Campaigns launched since 2009 :\n",
      "launched_month\n",
      "1     2973.418331\n",
      "2     3866.186394\n",
      "3     3423.542760\n",
      "4     3607.347763\n",
      "5     3072.068909\n",
      "6     3819.303815\n",
      "7     2829.927321\n",
      "8     3306.587959\n",
      "9     4909.813740\n",
      "10    3797.759515\n",
      "11    3425.071500\n",
      "12    2442.523319\n",
      "Name: usd_pledged_real, dtype: float64\n",
      "Food  Campaigns launched since 2009 :\n",
      "Series([], Name: usd_pledged_real, dtype: float64)\n",
      "Fashion Campaigns launched since 2009 :\n",
      "launched_month\n",
      "1     4562.206151\n",
      "2     6259.831399\n",
      "3     7028.050886\n",
      "4     6747.502246\n",
      "5     7503.553459\n",
      "6     7122.586428\n",
      "7     4313.403094\n",
      "8     5007.121420\n",
      "9     8003.542631\n",
      "10    7241.514498\n",
      "11    6945.298781\n",
      "12    4940.220884\n",
      "Name: usd_pledged_real, dtype: float64\n",
      "Theater Campaigns launched since 2009 :\n",
      "launched_month\n",
      "1     3550.560142\n",
      "2     3548.541817\n",
      "3     4705.933733\n",
      "4     4187.523850\n",
      "5     4624.606968\n",
      "6     3843.765088\n",
      "7     3788.341496\n",
      "8     3993.170669\n",
      "9     4272.604330\n",
      "10    4918.456902\n",
      "11    4601.416409\n",
      "12    3910.536653\n",
      "Name: usd_pledged_real, dtype: float64\n",
      "Comics Campaigns launched since 2009 :\n",
      "launched_month\n",
      "1     8426.378064\n",
      "2     8097.215178\n",
      "3     6408.518870\n",
      "4     7815.442749\n",
      "5     9233.280406\n",
      "6     6291.224030\n",
      "7     7620.600267\n",
      "8     6307.100405\n",
      "9     6824.741533\n",
      "10    6587.364154\n",
      "11    6619.792132\n",
      "12    4246.033081\n",
      "Name: usd_pledged_real, dtype: float64\n",
      "Photography Campaigns launched since 2009 :\n",
      "launched_month\n",
      "1     2526.554912\n",
      "2     4484.825699\n",
      "3     4156.318322\n",
      "4     4914.982550\n",
      "5     3971.199122\n",
      "6     4393.327473\n",
      "7     2581.732875\n",
      "8     4016.558095\n",
      "9     5725.781236\n",
      "10    4026.307861\n",
      "11    3455.863619\n",
      "12    2512.423636\n",
      "Name: usd_pledged_real, dtype: float64\n",
      "Crafts Campaigns launched since 2009 :\n",
      "launched_month\n",
      "1     1198.589484\n",
      "2     1642.037573\n",
      "3     2025.704017\n",
      "4     1696.358618\n",
      "5     1950.139317\n",
      "6     1659.175308\n",
      "7     1349.108437\n",
      "8     2033.556946\n",
      "9     2468.904659\n",
      "10    2355.237380\n",
      "11    1586.767385\n",
      "12    1243.646131\n",
      "Name: usd_pledged_real, dtype: float64\n",
      "Journalism Campaigns launched since 2009 :\n",
      "launched_month\n",
      "1     2568.182803\n",
      "2     4039.288542\n",
      "3     3341.918108\n",
      "4     2771.465455\n",
      "5     4124.331442\n",
      "6     3052.214057\n",
      "7     2024.134043\n",
      "8     2189.780818\n",
      "9     2303.373785\n",
      "10    3403.465359\n",
      "11    3622.959941\n",
      "12    2210.704291\n",
      "Name: usd_pledged_real, dtype: float64\n",
      "Dance Campaigns launched since 2009 :\n",
      "launched_month\n",
      "1     3389.841633\n",
      "2     3504.758469\n",
      "3     3633.706814\n",
      "4     3180.040994\n",
      "5     3680.508343\n",
      "6     4158.690324\n",
      "7     3330.149578\n",
      "8     3357.309859\n",
      "9     3792.252145\n",
      "10    3943.583246\n",
      "11    4016.505129\n",
      "12    3387.802441\n",
      "Name: usd_pledged_real, dtype: float64\n"
     ]
    }
   ],
   "source": [
    "main_catigs = ks_data[\"main_category\"].value_counts()\n",
    "main_catigs_m_Film = ks_data[ks_data[\"main_category\"] == \"Film & Video\"].groupby(['launched_month']).usd_pledged_real.mean()\n",
    "main_catigs_m_Music = ks_data[ks_data[\"main_category\"] == \"Music\"].groupby(['launched_month']).usd_pledged_real.mean()\n",
    "main_catigs_m_Publishing = ks_data[ks_data[\"main_category\"] == \"Publishing\"].groupby(['launched_month']).usd_pledged_real.mean()\n",
    "main_catigs_m_Games  = ks_data[ks_data[\"main_category\"] == \"Games \"].groupby(['launched_month']).usd_pledged_real.mean()\n",
    "main_catigs_m_Technology = ks_data[ks_data[\"main_category\"] == \"Technology\"].groupby(['launched_month']).usd_pledged_real.mean()\n",
    "main_catigs_m_Design = ks_data[ks_data[\"main_category\"] == \"Design\"].groupby(['launched_month']).usd_pledged_real.mean()\n",
    "main_catigs_m_Art = ks_data[ks_data[\"main_category\"] == \"Art\"].groupby(['launched_month']).usd_pledged_real.mean()\n",
    "main_catigs_m_Food  = ks_data[ks_data[\"main_category\"] == \"Food \"].groupby(['launched_month']).usd_pledged_real.mean()\n",
    "main_catigs_m_Fashion = ks_data[ks_data[\"main_category\"] == \"Fashion\"].groupby(['launched_month']).usd_pledged_real.mean()\n",
    "main_catigs_m_Theater = ks_data[ks_data[\"main_category\"] == \"Theater\"].groupby(['launched_month']).usd_pledged_real.mean()\n",
    "main_catigs_m_Comics = ks_data[ks_data[\"main_category\"] == \"Comics\"].groupby(['launched_month']).usd_pledged_real.mean()\n",
    "main_catigs_m_Photography = ks_data[ks_data[\"main_category\"] == \"Photography\"].groupby(['launched_month']).usd_pledged_real.mean()\n",
    "main_catigs_m_Crafts = ks_data[ks_data[\"main_category\"] == \"Crafts\"].groupby(['launched_month']).usd_pledged_real.mean()\n",
    "main_catigs_m_Journalism = ks_data[ks_data[\"main_category\"] == \"Journalism\"].groupby(['launched_month']).usd_pledged_real.mean()\n",
    "main_catigs_m_Dance = ks_data[ks_data[\"main_category\"] == \"Dance\"].groupby(['launched_month']).usd_pledged_real.mean()\n",
    "\n",
    "\n",
    "  \n",
    "print('Film Campaigns launched since 2009 :')\n",
    "print (main_catigs_m_Film)\n",
    "\n",
    "print('Music Campaigns launched since 2009 :')\n",
    "print (main_catigs_m_Music)\n",
    "\n",
    "print('Publishing Campaigns launched since 2009 :')\n",
    "print (main_catigs_m_Publishing)\n",
    "\n",
    "print('Games  Campaigns launched since 2009 :')\n",
    "print (main_catigs_m_Games )\n",
    "\n",
    "print('Technology Campaigns launched since 2009 :')\n",
    "print (main_catigs_m_Technology)\n",
    "\n",
    "print('Design Campaigns launched since 2009 :')\n",
    "print (main_catigs_m_Design)\n",
    "\n",
    "print('Art Campaigns launched since 2009 :')\n",
    "print (main_catigs_m_Art)\n",
    "\n",
    "print('Food  Campaigns launched since 2009 :')\n",
    "print (main_catigs_m_Food )\n",
    "\n",
    "print('Fashion Campaigns launched since 2009 :')\n",
    "print (main_catigs_m_Fashion)\n",
    "\n",
    "print('Theater Campaigns launched since 2009 :')\n",
    "print (main_catigs_m_Theater)\n",
    "\n",
    "print('Comics Campaigns launched since 2009 :')\n",
    "print (main_catigs_m_Comics)\n",
    "\n",
    "print('Photography Campaigns launched since 2009 :')\n",
    "print (main_catigs_m_Photography)\n",
    "\n",
    "print('Crafts Campaigns launched since 2009 :')\n",
    "print (main_catigs_m_Crafts)\n",
    "\n",
    "print('Journalism Campaigns launched since 2009 :')\n",
    "print (main_catigs_m_Journalism)\n",
    "\n",
    "print('Dance Campaigns launched since 2009 :')\n",
    "print (main_catigs_m_Dance)\n"
   ]
  },
  {
   "cell_type": "code",
   "execution_count": null,
   "metadata": {},
   "outputs": [],
   "source": []
  },
  {
   "cell_type": "code",
   "execution_count": 86,
   "metadata": {},
   "outputs": [
    {
     "data": {
      "application/vnd.plotly.v1+json": {
       "data": [
        {
         "name": "Film Campaigns launched since 2009 Per Month",
         "type": "scatter",
         "uid": "8efe6328-1456-11e9-888e-00dbdf806640",
         "x": [
          5530.966465882356,
          7021.61066455027,
          7267.626965708983,
          7569.77820915533,
          6873.355382165608,
          6229.37909020668,
          6922.46143217054,
          5542.201366984404,
          6718.071110595872,
          7218.699970686771,
          7660.090730533687,
          5358.045932824433
         ],
         "y": [
          1,
          2,
          3,
          4,
          5,
          6,
          7,
          8,
          9,
          10,
          11,
          12
         ]
        },
        {
         "name": "Music Campaigns launched since 2009 Per Month",
         "type": "scatter",
         "uid": "8efe6329-1456-11e9-a660-00dbdf806640",
         "x": [
          3826.423303793959,
          4204.612324516784,
          4286.393727852576,
          4197.42578486249,
          3968.1131056793665,
          4208.71142284569,
          3690.6798979083683,
          3970.96807702453,
          4490.312001111724,
          4735.866563888163,
          4706.848145920499,
          3534.4225231910928
         ],
         "y": [
          1,
          2,
          3,
          4,
          5,
          6,
          7,
          8,
          9,
          10,
          11,
          12
         ]
        },
        {
         "name": "Publishing Campaigns launched since 2009 Per Month",
         "type": "scatter",
         "uid": "8efe632a-1456-11e9-8c62-00dbdf806640",
         "x": [
          3090.935001876173,
          3310.1102046783626,
          3782.078120012765,
          4052.116187222414,
          3833.2810181136792,
          4195.356345077376,
          3215.9819963257755,
          3376.9962938451326,
          4077.40887512554,
          4250.118353510897,
          4041.04965836526,
          2574.218471528471
         ],
         "y": [
          1,
          2,
          3,
          4,
          5,
          6,
          7,
          8,
          9,
          10,
          11,
          12
         ]
        },
        {
         "name": "Games Campaigns launched since 2009 Per Month",
         "type": "scatter",
         "uid": "8efe632b-1456-11e9-b57a-00dbdf806640",
         "x": [],
         "y": []
        },
        {
         "name": "Technology Campaigns launched since 2009 Per Month",
         "type": "scatter",
         "uid": "8efe632c-1456-11e9-8ef1-00dbdf806640",
         "x": [
          19468.77071891891,
          21392.39545728644,
          31923.817011397252,
          20202.250049818824,
          30719.120492091373,
          22910.975139712114,
          24146.078915333583,
          17530.139307467685,
          27963.586599916554,
          23432.666973792035,
          28019.486387329627,
          14672.639575971725
         ],
         "y": [
          1,
          2,
          3,
          4,
          5,
          6,
          7,
          8,
          9,
          10,
          11,
          12
         ]
        },
        {
         "name": "Design Campaigns launched since 2009 Per Month",
         "type": "scatter",
         "uid": "8efe632d-1456-11e9-a074-00dbdf806640",
         "x": [
          22276.74512557079,
          34726.789398876404,
          20636.580387038717,
          30102.31442740775,
          33105.75021667453,
          25597.308619026735,
          42290.61064676623,
          25326.508397920596,
          24347.668519677973,
          28727.7765333883,
          25119.768185513665,
          19556.996282501772
         ],
         "y": [
          1,
          2,
          3,
          4,
          5,
          6,
          7,
          8,
          9,
          10,
          11,
          12
         ]
        },
        {
         "name": "Art Campaigns launched since 2009 Per Month",
         "type": "scatter",
         "uid": "8efe632e-1456-11e9-80fa-00dbdf806640",
         "x": [
          2973.418330658108,
          3866.186393837263,
          3423.5427603305807,
          3607.3477630375146,
          3072.068909012503,
          3819.3038145231862,
          2829.9273213603406,
          3306.587959183674,
          4909.813740384614,
          3797.75951543943,
          3425.071500000002,
          2442.523318616631
         ],
         "y": [
          1,
          2,
          3,
          4,
          5,
          6,
          7,
          8,
          9,
          10,
          11,
          12
         ]
        },
        {
         "name": "Food Campaigns launched since 2009 Per Month",
         "type": "scatter",
         "uid": "8efe632f-1456-11e9-93e0-00dbdf806640",
         "x": [],
         "y": []
        },
        {
         "name": "Fashion Campaigns launched since 2009 Per Month",
         "type": "scatter",
         "uid": "8efe6330-1456-11e9-b83c-00dbdf806640",
         "x": [
          4562.206151202748,
          6259.831398828887,
          7028.050886377157,
          6747.502246234447,
          7503.553458737866,
          7122.58642816582,
          4313.403094098882,
          5007.121420153211,
          8003.542630937882,
          7241.514498160797,
          6945.298780743067,
          4940.220884173296
         ],
         "y": [
          1,
          2,
          3,
          4,
          5,
          6,
          7,
          8,
          9,
          10,
          11,
          12
         ]
        },
        {
         "name": "Theater Campaigns launched since 2009 Per Month",
         "type": "scatter",
         "uid": "8efe6331-1456-11e9-8af4-00dbdf806640",
         "x": [
          3550.560142450143,
          3548.541817042606,
          4705.933733333334,
          4187.523849809882,
          4624.606968365557,
          3843.765087873463,
          3788.3414962121187,
          3993.170669191917,
          4272.604329501915,
          4918.456902017291,
          4601.416409017712,
          3910.536653144015
         ],
         "y": [
          1,
          2,
          3,
          4,
          5,
          6,
          7,
          8,
          9,
          10,
          11,
          12
         ]
        },
        {
         "name": "Comics Campaigns launched since 2009 Per Month",
         "type": "scatter",
         "uid": "8efe6332-1456-11e9-ba8e-00dbdf806640",
         "x": [
          8426.378064046574,
          8097.2151781170505,
          6408.518870116158,
          7815.44274909964,
          9233.280406147089,
          6291.224029850743,
          7620.600267260573,
          6307.100405405407,
          6824.741533101041,
          6587.364154447704,
          6619.79213235294,
          4246.033081232495
         ],
         "y": [
          1,
          2,
          3,
          4,
          5,
          6,
          7,
          8,
          9,
          10,
          11,
          12
         ]
        },
        {
         "name": "Photography Campaigns launched since 2009 Per Month",
         "type": "scatter",
         "uid": "8efe6333-1456-11e9-83ab-00dbdf806640",
         "x": [
          2526.554912043302,
          4484.825698630136,
          4156.318321759256,
          4914.982549800796,
          3971.199122401845,
          4393.327473182357,
          2581.7328752107906,
          4016.5580946601935,
          5725.781235813364,
          4026.307860635695,
          3455.863618925832,
          2512.4236363636364
         ],
         "y": [
          1,
          2,
          3,
          4,
          5,
          6,
          7,
          8,
          9,
          10,
          11,
          12
         ]
        },
        {
         "name": "Crafts Campaigns launched since 2009 Per Month",
         "type": "scatter",
         "uid": "8efe6334-1456-11e9-a7fb-00dbdf806640",
         "x": [
          1198.5894835680754,
          1642.0375732899024,
          2025.704016736402,
          1696.3586177474401,
          1950.139316546763,
          1659.1753082191774,
          1349.1084371327838,
          2033.5569455006337,
          2468.9046594427236,
          2355.237379972565,
          1586.7673850574704,
          1243.6461313868613
         ],
         "y": [
          1,
          2,
          3,
          4,
          5,
          6,
          7,
          8,
          9,
          10,
          11,
          12
         ]
        },
        {
         "name": "Journalism Campaigns launched since 2009 Per Month",
         "type": "scatter",
         "uid": "8efe768c-1456-11e9-bbcd-00dbdf806640",
         "x": [
          2568.182802547772,
          4039.288541666665,
          3341.9181081081074,
          2771.4654545454555,
          4124.331442006268,
          3052.2140571428567,
          2024.1340425531912,
          2189.780817941952,
          2303.373785310734,
          3403.4653594771244,
          3622.9599413489736,
          2210.7042910447763
         ],
         "y": [
          1,
          2,
          3,
          4,
          5,
          6,
          7,
          8,
          9,
          10,
          11,
          12
         ]
        },
        {
         "name": "Dance Campaigns launched since 2009 Per Month",
         "type": "scatter",
         "uid": "8efe768d-1456-11e9-a98e-00dbdf806640",
         "x": [
          3389.8416334661365,
          3504.7584693877543,
          3633.7068141592936,
          3180.040994475138,
          3680.508343195267,
          4158.690323624598,
          3330.1495783132527,
          3357.309859154929,
          3792.252145454545,
          3943.5832459016397,
          4016.505129151292,
          3387.802441314554
         ],
         "y": [
          1,
          2,
          3,
          4,
          5,
          6,
          7,
          8,
          9,
          10,
          11,
          12
         ]
        }
       ],
       "layout": {
        "showlegend": false,
        "title": "Average Amount raised per Campaign Category in its Most popular Months",
        "updatemenus": [
         {
          "active": -1,
          "buttons": [
           {
            "args": [
             {
              "visible": [
               true,
               true,
               true,
               true,
               true,
               true,
               true,
               true,
               true,
               true,
               true,
               true,
               true,
               true,
               true
              ]
             },
             {
              "title": "Average Amount raised for All Campaigns launched since 2009 Per Month"
             }
            ],
            "label": "All Campaigns launched since 2009 Per Month",
            "method": "update"
           },
           {
            "args": [
             {
              "visible": [
               true,
               false,
               false,
               false,
               false,
               false,
               false,
               false,
               false,
               false,
               false,
               false,
               false,
               false,
               false
              ]
             },
             {
              "title": "Average Amount raised for Film Campaigns launched since 2009 Per Month"
             }
            ],
            "label": "Film Campaigns launched since 2009 Per Month",
            "method": "update"
           },
           {
            "args": [
             {
              "visible": [
               false,
               true,
               false,
               false,
               false,
               false,
               false,
               false,
               false,
               false,
               false,
               false,
               false,
               false,
               false
              ]
             },
             {
              "title": "Average Amount raised for Music Campaigns launched since 2009 Per Month"
             }
            ],
            "label": "Music Campaigns launched since 2009 Per Month",
            "method": "update"
           },
           {
            "args": [
             {
              "visible": [
               false,
               false,
               true,
               false,
               false,
               false,
               false,
               false,
               false,
               false,
               false,
               false,
               false,
               false,
               false
              ]
             },
             {
              "title": "Average Amount raised for PublishingCampaigns launched since 2009 Per Month"
             }
            ],
            "label": "Publishing Campaigns launched since 2009 Per Month",
            "method": "update"
           },
           {
            "args": [
             {
              "visible": [
               false,
               false,
               false,
               true,
               false,
               false,
               false,
               false,
               false,
               false,
               false,
               false,
               false,
               false,
               false
              ]
             },
             {
              "title": "Average Amount raised for Games Campaigns launched since 2009 Per Month"
             }
            ],
            "label": "Games Campaigns launched since 2009 Per Month",
            "method": "update"
           },
           {
            "args": [
             {
              "visible": [
               false,
               false,
               false,
               false,
               true,
               false,
               false,
               false,
               false,
               false,
               false,
               false,
               false,
               false,
               false
              ]
             },
             {
              "title": "Average Amount raised for Technology Campaigns launched since 2009 Per Month"
             }
            ],
            "label": "Technology Campaigns launched since 2009 Per Month",
            "method": "update"
           },
           {
            "args": [
             {
              "visible": [
               false,
               false,
               false,
               false,
               false,
               true,
               false,
               false,
               false,
               false,
               false,
               false,
               false,
               false,
               false
              ]
             },
             {
              "title": "Average Amount raised for Design Campaigns launched since 2009 Per Month"
             }
            ],
            "label": "Design Campaigns launched since 2009 Per Month",
            "method": "update"
           },
           {
            "args": [
             {
              "visible": [
               false,
               false,
               false,
               false,
               false,
               false,
               true,
               false,
               false,
               false,
               false,
               false,
               false,
               false,
               false
              ]
             },
             {
              "title": "Average Amount raised for Art Campaigns launched since 2009 Per Month"
             }
            ],
            "label": "Art Campaigns launched since 2009 Per Month",
            "method": "update"
           },
           {
            "args": [
             {
              "visible": [
               false,
               false,
               false,
               false,
               false,
               false,
               false,
               true,
               false,
               false,
               false,
               false,
               false,
               false,
               false
              ]
             },
             {
              "title": "Average Amount raised for Food Campaigns launched since 2009 Per Month"
             }
            ],
            "label": "Food Campaigns launched since 2009 Per Month",
            "method": "update"
           },
           {
            "args": [
             {
              "visible": [
               false,
               false,
               false,
               false,
               false,
               false,
               false,
               false,
               true,
               false,
               false,
               false,
               false,
               false,
               false
              ]
             },
             {
              "title": "Average Amount raised for Fashion Campaigns launched since 2009 Per Month"
             }
            ],
            "label": "Fashion Campaigns launched since 2009 Per Month",
            "method": "update"
           },
           {
            "args": [
             {
              "visible": [
               false,
               false,
               false,
               false,
               false,
               false,
               false,
               false,
               false,
               true,
               false,
               false,
               false,
               false,
               false
              ]
             },
             {
              "title": "Average Amount raised for Theater Campaigns launched since 2009 Per Month"
             }
            ],
            "label": "Theater Campaigns launched since 2009 Per Month",
            "method": "update"
           },
           {
            "args": [
             {
              "visible": [
               false,
               false,
               false,
               false,
               false,
               false,
               false,
               false,
               false,
               false,
               true,
               false,
               false,
               false,
               false
              ]
             },
             {
              "title": "Average Amount raised for Comics Campaigns launched since 2009 Per Month"
             }
            ],
            "label": "Comics Campaigns launched since 2009 Per Month",
            "method": "update"
           },
           {
            "args": [
             {
              "visible": [
               false,
               false,
               false,
               false,
               false,
               false,
               false,
               false,
               false,
               false,
               false,
               true,
               false,
               false,
               false
              ]
             },
             {
              "title": "Average Amount raised for Photography Campaigns launched since 2009 Per Month"
             }
            ],
            "label": "Photography Campaigns launched since 2009 Per Month",
            "method": "update"
           },
           {
            "args": [
             {
              "visible": [
               false,
               false,
               false,
               false,
               false,
               false,
               false,
               false,
               false,
               false,
               false,
               false,
               true,
               false,
               false
              ]
             },
             {
              "title": "Average Amount raised for Crafts Campaigns launched since 2009 Per Month"
             }
            ],
            "label": "Crafts Campaigns launched since 2009 Per Month",
            "method": "update"
           },
           {
            "args": [
             {
              "visible": [
               false,
               false,
               false,
               false,
               false,
               false,
               false,
               false,
               false,
               false,
               false,
               false,
               false,
               true,
               false
              ]
             },
             {
              "title": "Average Amount raised for Journalism Campaigns launched since 2009 Per Month"
             }
            ],
            "label": "Journalism Campaigns launched since 2009 Per Month",
            "method": "update"
           },
           {
            "args": [
             {
              "visible": [
               false,
               false,
               false,
               false,
               false,
               false,
               false,
               false,
               false,
               false,
               false,
               false,
               false,
               false,
               true
              ]
             },
             {
              "title": "Average Amount raised for Dance Campaigns launched since 2009 Per Month"
             }
            ],
            "label": "Dance Campaigns launched since 2009 Per Month",
            "method": "update"
           }
          ]
         },
         {
          "direction": "down",
          "pad": {
           "r": 10,
           "t": 10
          },
          "showactive": true,
          "x": 0.5,
          "xanchor": "center",
          "y": 1.12,
          "yanchor": "top"
         }
        ],
        "xaxis": {
         "title": "Average Amount raised",
         "titlefont": {
          "color": "#7f7f7f",
          "family": "Ariel",
          "size": 14
         }
        },
        "yaxis": {
         "title": "Month of the Year",
         "titlefont": {
          "color": "#7f7f7f",
          "family": "Ariel",
          "size": 14
         }
        }
       }
      },
      "text/html": [
       "<div id=\"e49019f4-5ed3-40bf-96cb-4bc452a90c18\" style=\"height: 525px; width: 100%;\" class=\"plotly-graph-div\"></div><script type=\"text/javascript\">require([\"plotly\"], function(Plotly) { window.PLOTLYENV=window.PLOTLYENV || {};window.PLOTLYENV.BASE_URL=\"https://plot.ly\";Plotly.newPlot(\"e49019f4-5ed3-40bf-96cb-4bc452a90c18\", [{\"name\": \"Film Campaigns launched since 2009 Per Month\", \"x\": [5530.966465882356, 7021.61066455027, 7267.626965708983, 7569.77820915533, 6873.355382165608, 6229.37909020668, 6922.46143217054, 5542.201366984404, 6718.071110595872, 7218.699970686771, 7660.090730533687, 5358.045932824433], \"y\": [1, 2, 3, 4, 5, 6, 7, 8, 9, 10, 11, 12], \"type\": \"scatter\", \"uid\": \"8f0b18e8-1456-11e9-b40a-00dbdf806640\"}, {\"name\": \"Music Campaigns launched since 2009 Per Month\", \"x\": [3826.423303793959, 4204.612324516784, 4286.393727852576, 4197.42578486249, 3968.1131056793665, 4208.71142284569, 3690.6798979083683, 3970.96807702453, 4490.312001111724, 4735.866563888163, 4706.848145920499, 3534.4225231910928], \"y\": [1, 2, 3, 4, 5, 6, 7, 8, 9, 10, 11, 12], \"type\": \"scatter\", \"uid\": \"8f0b18e9-1456-11e9-be9a-00dbdf806640\"}, {\"name\": \"Publishing Campaigns launched since 2009 Per Month\", \"x\": [3090.935001876173, 3310.1102046783626, 3782.078120012765, 4052.116187222414, 3833.2810181136792, 4195.356345077376, 3215.9819963257755, 3376.9962938451326, 4077.40887512554, 4250.118353510897, 4041.04965836526, 2574.218471528471], \"y\": [1, 2, 3, 4, 5, 6, 7, 8, 9, 10, 11, 12], \"type\": \"scatter\", \"uid\": \"8f0b18ea-1456-11e9-b46d-00dbdf806640\"}, {\"name\": \"Games Campaigns launched since 2009 Per Month\", \"x\": [], \"y\": [], \"type\": \"scatter\", \"uid\": \"8f0b2c48-1456-11e9-9959-00dbdf806640\"}, {\"name\": \"Technology Campaigns launched since 2009 Per Month\", \"x\": [19468.77071891891, 21392.39545728644, 31923.817011397252, 20202.250049818824, 30719.120492091373, 22910.975139712114, 24146.078915333583, 17530.139307467685, 27963.586599916554, 23432.666973792035, 28019.486387329627, 14672.639575971725], \"y\": [1, 2, 3, 4, 5, 6, 7, 8, 9, 10, 11, 12], \"type\": \"scatter\", \"uid\": \"8f0b2c49-1456-11e9-ad41-00dbdf806640\"}, {\"name\": \"Design Campaigns launched since 2009 Per Month\", \"x\": [22276.74512557079, 34726.789398876404, 20636.580387038717, 30102.31442740775, 33105.75021667453, 25597.308619026735, 42290.61064676623, 25326.508397920596, 24347.668519677973, 28727.7765333883, 25119.768185513665, 19556.996282501772], \"y\": [1, 2, 3, 4, 5, 6, 7, 8, 9, 10, 11, 12], \"type\": \"scatter\", \"uid\": \"8f0b2c4a-1456-11e9-a442-00dbdf806640\"}, {\"name\": \"Art Campaigns launched since 2009 Per Month\", \"x\": [2973.418330658108, 3866.186393837263, 3423.5427603305807, 3607.3477630375146, 3072.068909012503, 3819.3038145231862, 2829.9273213603406, 3306.587959183674, 4909.813740384614, 3797.75951543943, 3425.071500000002, 2442.523318616631], \"y\": [1, 2, 3, 4, 5, 6, 7, 8, 9, 10, 11, 12], \"type\": \"scatter\", \"uid\": \"8f0b2c4b-1456-11e9-80e0-00dbdf806640\"}, {\"name\": \"Food Campaigns launched since 2009 Per Month\", \"x\": [], \"y\": [], \"type\": \"scatter\", \"uid\": \"8f0b2c4c-1456-11e9-9511-00dbdf806640\"}, {\"name\": \"Fashion Campaigns launched since 2009 Per Month\", \"x\": [4562.206151202748, 6259.831398828887, 7028.050886377157, 6747.502246234447, 7503.553458737866, 7122.58642816582, 4313.403094098882, 5007.121420153211, 8003.542630937882, 7241.514498160797, 6945.298780743067, 4940.220884173296], \"y\": [1, 2, 3, 4, 5, 6, 7, 8, 9, 10, 11, 12], \"type\": \"scatter\", \"uid\": \"8f0b2c4d-1456-11e9-b60d-00dbdf806640\"}, {\"name\": \"Theater Campaigns launched since 2009 Per Month\", \"x\": [3550.560142450143, 3548.541817042606, 4705.933733333334, 4187.523849809882, 4624.606968365557, 3843.765087873463, 3788.3414962121187, 3993.170669191917, 4272.604329501915, 4918.456902017291, 4601.416409017712, 3910.536653144015], \"y\": [1, 2, 3, 4, 5, 6, 7, 8, 9, 10, 11, 12], \"type\": \"scatter\", \"uid\": \"8f0b2c4e-1456-11e9-97fb-00dbdf806640\"}, {\"name\": \"Comics Campaigns launched since 2009 Per Month\", \"x\": [8426.378064046574, 8097.2151781170505, 6408.518870116158, 7815.44274909964, 9233.280406147089, 6291.224029850743, 7620.600267260573, 6307.100405405407, 6824.741533101041, 6587.364154447704, 6619.79213235294, 4246.033081232495], \"y\": [1, 2, 3, 4, 5, 6, 7, 8, 9, 10, 11, 12], \"type\": \"scatter\", \"uid\": \"8f0b2c4f-1456-11e9-bba5-00dbdf806640\"}, {\"name\": \"Photography Campaigns launched since 2009 Per Month\", \"x\": [2526.554912043302, 4484.825698630136, 4156.318321759256, 4914.982549800796, 3971.199122401845, 4393.327473182357, 2581.7328752107906, 4016.5580946601935, 5725.781235813364, 4026.307860635695, 3455.863618925832, 2512.4236363636364], \"y\": [1, 2, 3, 4, 5, 6, 7, 8, 9, 10, 11, 12], \"type\": \"scatter\", \"uid\": \"8f0b2c50-1456-11e9-8a70-00dbdf806640\"}, {\"name\": \"Crafts Campaigns launched since 2009 Per Month\", \"x\": [1198.5894835680754, 1642.0375732899024, 2025.704016736402, 1696.3586177474401, 1950.139316546763, 1659.1753082191774, 1349.1084371327838, 2033.5569455006337, 2468.9046594427236, 2355.237379972565, 1586.7673850574704, 1243.6461313868613], \"y\": [1, 2, 3, 4, 5, 6, 7, 8, 9, 10, 11, 12], \"type\": \"scatter\", \"uid\": \"8f0b2c51-1456-11e9-9e6c-00dbdf806640\"}, {\"name\": \"Journalism Campaigns launched since 2009 Per Month\", \"x\": [2568.182802547772, 4039.288541666665, 3341.9181081081074, 2771.4654545454555, 4124.331442006268, 3052.2140571428567, 2024.1340425531912, 2189.780817941952, 2303.373785310734, 3403.4653594771244, 3622.9599413489736, 2210.7042910447763], \"y\": [1, 2, 3, 4, 5, 6, 7, 8, 9, 10, 11, 12], \"type\": \"scatter\", \"uid\": \"8f0b2c52-1456-11e9-9481-00dbdf806640\"}, {\"name\": \"Dance Campaigns launched since 2009 Per Month\", \"x\": [3389.8416334661365, 3504.7584693877543, 3633.7068141592936, 3180.040994475138, 3680.508343195267, 4158.690323624598, 3330.1495783132527, 3357.309859154929, 3792.252145454545, 3943.5832459016397, 4016.505129151292, 3387.802441314554], \"y\": [1, 2, 3, 4, 5, 6, 7, 8, 9, 10, 11, 12], \"type\": \"scatter\", \"uid\": \"8f0b2c53-1456-11e9-a8cc-00dbdf806640\"}], {\"showlegend\": false, \"title\": \"Average Amount raised per Campaign Category in its Most popular Months\", \"updatemenus\": [{\"active\": -1, \"buttons\": [{\"args\": [{\"visible\": [true, true, true, true, true, true, true, true, true, true, true, true, true, true, true]}, {\"title\": \"Average Amount raised for All Campaigns launched since 2009 Per Month\"}], \"label\": \"All Campaigns launched since 2009 Per Month\", \"method\": \"update\"}, {\"args\": [{\"visible\": [true, false, false, false, false, false, false, false, false, false, false, false, false, false, false]}, {\"title\": \"Average Amount raised for Film Campaigns launched since 2009 Per Month\"}], \"label\": \"Film Campaigns launched since 2009 Per Month\", \"method\": \"update\"}, {\"args\": [{\"visible\": [false, true, false, false, false, false, false, false, false, false, false, false, false, false, false]}, {\"title\": \"Average Amount raised for Music Campaigns launched since 2009 Per Month\"}], \"label\": \"Music Campaigns launched since 2009 Per Month\", \"method\": \"update\"}, {\"args\": [{\"visible\": [false, false, true, false, false, false, false, false, false, false, false, false, false, false, false]}, {\"title\": \"Average Amount raised for PublishingCampaigns launched since 2009 Per Month\"}], \"label\": \"Publishing Campaigns launched since 2009 Per Month\", \"method\": \"update\"}, {\"args\": [{\"visible\": [false, false, false, true, false, false, false, false, false, false, false, false, false, false, false]}, {\"title\": \"Average Amount raised for Games Campaigns launched since 2009 Per Month\"}], \"label\": \"Games Campaigns launched since 2009 Per Month\", \"method\": \"update\"}, {\"args\": [{\"visible\": [false, false, false, false, true, false, false, false, false, false, false, false, false, false, false]}, {\"title\": \"Average Amount raised for Technology Campaigns launched since 2009 Per Month\"}], \"label\": \"Technology Campaigns launched since 2009 Per Month\", \"method\": \"update\"}, {\"args\": [{\"visible\": [false, false, false, false, false, true, false, false, false, false, false, false, false, false, false]}, {\"title\": \"Average Amount raised for Design Campaigns launched since 2009 Per Month\"}], \"label\": \"Design Campaigns launched since 2009 Per Month\", \"method\": \"update\"}, {\"args\": [{\"visible\": [false, false, false, false, false, false, true, false, false, false, false, false, false, false, false]}, {\"title\": \"Average Amount raised for Art Campaigns launched since 2009 Per Month\"}], \"label\": \"Art Campaigns launched since 2009 Per Month\", \"method\": \"update\"}, {\"args\": [{\"visible\": [false, false, false, false, false, false, false, true, false, false, false, false, false, false, false]}, {\"title\": \"Average Amount raised for Food Campaigns launched since 2009 Per Month\"}], \"label\": \"Food Campaigns launched since 2009 Per Month\", \"method\": \"update\"}, {\"args\": [{\"visible\": [false, false, false, false, false, false, false, false, true, false, false, false, false, false, false]}, {\"title\": \"Average Amount raised for Fashion Campaigns launched since 2009 Per Month\"}], \"label\": \"Fashion Campaigns launched since 2009 Per Month\", \"method\": \"update\"}, {\"args\": [{\"visible\": [false, false, false, false, false, false, false, false, false, true, false, false, false, false, false]}, {\"title\": \"Average Amount raised for Theater Campaigns launched since 2009 Per Month\"}], \"label\": \"Theater Campaigns launched since 2009 Per Month\", \"method\": \"update\"}, {\"args\": [{\"visible\": [false, false, false, false, false, false, false, false, false, false, true, false, false, false, false]}, {\"title\": \"Average Amount raised for Comics Campaigns launched since 2009 Per Month\"}], \"label\": \"Comics Campaigns launched since 2009 Per Month\", \"method\": \"update\"}, {\"args\": [{\"visible\": [false, false, false, false, false, false, false, false, false, false, false, true, false, false, false]}, {\"title\": \"Average Amount raised for Photography Campaigns launched since 2009 Per Month\"}], \"label\": \"Photography Campaigns launched since 2009 Per Month\", \"method\": \"update\"}, {\"args\": [{\"visible\": [false, false, false, false, false, false, false, false, false, false, false, false, true, false, false]}, {\"title\": \"Average Amount raised for Crafts Campaigns launched since 2009 Per Month\"}], \"label\": \"Crafts Campaigns launched since 2009 Per Month\", \"method\": \"update\"}, {\"args\": [{\"visible\": [false, false, false, false, false, false, false, false, false, false, false, false, false, true, false]}, {\"title\": \"Average Amount raised for Journalism Campaigns launched since 2009 Per Month\"}], \"label\": \"Journalism Campaigns launched since 2009 Per Month\", \"method\": \"update\"}, {\"args\": [{\"visible\": [false, false, false, false, false, false, false, false, false, false, false, false, false, false, true]}, {\"title\": \"Average Amount raised for Dance Campaigns launched since 2009 Per Month\"}], \"label\": \"Dance Campaigns launched since 2009 Per Month\", \"method\": \"update\"}]}, {\"direction\": \"down\", \"pad\": {\"r\": 10, \"t\": 10}, \"showactive\": true, \"x\": 0.5, \"xanchor\": \"center\", \"y\": 1.12, \"yanchor\": \"top\"}], \"xaxis\": {\"title\": \"Average Amount raised\", \"titlefont\": {\"color\": \"#7f7f7f\", \"family\": \"Ariel\", \"size\": 14}}, \"yaxis\": {\"title\": \"Month of the Year\", \"titlefont\": {\"color\": \"#7f7f7f\", \"family\": \"Ariel\", \"size\": 14}}}, {\"showLink\": true, \"linkText\": \"Export to plot.ly\"})});</script>"
      ],
      "text/vnd.plotly.v1+html": [
       "<div id=\"e49019f4-5ed3-40bf-96cb-4bc452a90c18\" style=\"height: 525px; width: 100%;\" class=\"plotly-graph-div\"></div><script type=\"text/javascript\">require([\"plotly\"], function(Plotly) { window.PLOTLYENV=window.PLOTLYENV || {};window.PLOTLYENV.BASE_URL=\"https://plot.ly\";Plotly.newPlot(\"e49019f4-5ed3-40bf-96cb-4bc452a90c18\", [{\"name\": \"Film Campaigns launched since 2009 Per Month\", \"x\": [5530.966465882356, 7021.61066455027, 7267.626965708983, 7569.77820915533, 6873.355382165608, 6229.37909020668, 6922.46143217054, 5542.201366984404, 6718.071110595872, 7218.699970686771, 7660.090730533687, 5358.045932824433], \"y\": [1, 2, 3, 4, 5, 6, 7, 8, 9, 10, 11, 12], \"type\": \"scatter\", \"uid\": \"8f0b18e8-1456-11e9-b40a-00dbdf806640\"}, {\"name\": \"Music Campaigns launched since 2009 Per Month\", \"x\": [3826.423303793959, 4204.612324516784, 4286.393727852576, 4197.42578486249, 3968.1131056793665, 4208.71142284569, 3690.6798979083683, 3970.96807702453, 4490.312001111724, 4735.866563888163, 4706.848145920499, 3534.4225231910928], \"y\": [1, 2, 3, 4, 5, 6, 7, 8, 9, 10, 11, 12], \"type\": \"scatter\", \"uid\": \"8f0b18e9-1456-11e9-be9a-00dbdf806640\"}, {\"name\": \"Publishing Campaigns launched since 2009 Per Month\", \"x\": [3090.935001876173, 3310.1102046783626, 3782.078120012765, 4052.116187222414, 3833.2810181136792, 4195.356345077376, 3215.9819963257755, 3376.9962938451326, 4077.40887512554, 4250.118353510897, 4041.04965836526, 2574.218471528471], \"y\": [1, 2, 3, 4, 5, 6, 7, 8, 9, 10, 11, 12], \"type\": \"scatter\", \"uid\": \"8f0b18ea-1456-11e9-b46d-00dbdf806640\"}, {\"name\": \"Games Campaigns launched since 2009 Per Month\", \"x\": [], \"y\": [], \"type\": \"scatter\", \"uid\": \"8f0b2c48-1456-11e9-9959-00dbdf806640\"}, {\"name\": \"Technology Campaigns launched since 2009 Per Month\", \"x\": [19468.77071891891, 21392.39545728644, 31923.817011397252, 20202.250049818824, 30719.120492091373, 22910.975139712114, 24146.078915333583, 17530.139307467685, 27963.586599916554, 23432.666973792035, 28019.486387329627, 14672.639575971725], \"y\": [1, 2, 3, 4, 5, 6, 7, 8, 9, 10, 11, 12], \"type\": \"scatter\", \"uid\": \"8f0b2c49-1456-11e9-ad41-00dbdf806640\"}, {\"name\": \"Design Campaigns launched since 2009 Per Month\", \"x\": [22276.74512557079, 34726.789398876404, 20636.580387038717, 30102.31442740775, 33105.75021667453, 25597.308619026735, 42290.61064676623, 25326.508397920596, 24347.668519677973, 28727.7765333883, 25119.768185513665, 19556.996282501772], \"y\": [1, 2, 3, 4, 5, 6, 7, 8, 9, 10, 11, 12], \"type\": \"scatter\", \"uid\": \"8f0b2c4a-1456-11e9-a442-00dbdf806640\"}, {\"name\": \"Art Campaigns launched since 2009 Per Month\", \"x\": [2973.418330658108, 3866.186393837263, 3423.5427603305807, 3607.3477630375146, 3072.068909012503, 3819.3038145231862, 2829.9273213603406, 3306.587959183674, 4909.813740384614, 3797.75951543943, 3425.071500000002, 2442.523318616631], \"y\": [1, 2, 3, 4, 5, 6, 7, 8, 9, 10, 11, 12], \"type\": \"scatter\", \"uid\": \"8f0b2c4b-1456-11e9-80e0-00dbdf806640\"}, {\"name\": \"Food Campaigns launched since 2009 Per Month\", \"x\": [], \"y\": [], \"type\": \"scatter\", \"uid\": \"8f0b2c4c-1456-11e9-9511-00dbdf806640\"}, {\"name\": \"Fashion Campaigns launched since 2009 Per Month\", \"x\": [4562.206151202748, 6259.831398828887, 7028.050886377157, 6747.502246234447, 7503.553458737866, 7122.58642816582, 4313.403094098882, 5007.121420153211, 8003.542630937882, 7241.514498160797, 6945.298780743067, 4940.220884173296], \"y\": [1, 2, 3, 4, 5, 6, 7, 8, 9, 10, 11, 12], \"type\": \"scatter\", \"uid\": \"8f0b2c4d-1456-11e9-b60d-00dbdf806640\"}, {\"name\": \"Theater Campaigns launched since 2009 Per Month\", \"x\": [3550.560142450143, 3548.541817042606, 4705.933733333334, 4187.523849809882, 4624.606968365557, 3843.765087873463, 3788.3414962121187, 3993.170669191917, 4272.604329501915, 4918.456902017291, 4601.416409017712, 3910.536653144015], \"y\": [1, 2, 3, 4, 5, 6, 7, 8, 9, 10, 11, 12], \"type\": \"scatter\", \"uid\": \"8f0b2c4e-1456-11e9-97fb-00dbdf806640\"}, {\"name\": \"Comics Campaigns launched since 2009 Per Month\", \"x\": [8426.378064046574, 8097.2151781170505, 6408.518870116158, 7815.44274909964, 9233.280406147089, 6291.224029850743, 7620.600267260573, 6307.100405405407, 6824.741533101041, 6587.364154447704, 6619.79213235294, 4246.033081232495], \"y\": [1, 2, 3, 4, 5, 6, 7, 8, 9, 10, 11, 12], \"type\": \"scatter\", \"uid\": \"8f0b2c4f-1456-11e9-bba5-00dbdf806640\"}, {\"name\": \"Photography Campaigns launched since 2009 Per Month\", \"x\": [2526.554912043302, 4484.825698630136, 4156.318321759256, 4914.982549800796, 3971.199122401845, 4393.327473182357, 2581.7328752107906, 4016.5580946601935, 5725.781235813364, 4026.307860635695, 3455.863618925832, 2512.4236363636364], \"y\": [1, 2, 3, 4, 5, 6, 7, 8, 9, 10, 11, 12], \"type\": \"scatter\", \"uid\": \"8f0b2c50-1456-11e9-8a70-00dbdf806640\"}, {\"name\": \"Crafts Campaigns launched since 2009 Per Month\", \"x\": [1198.5894835680754, 1642.0375732899024, 2025.704016736402, 1696.3586177474401, 1950.139316546763, 1659.1753082191774, 1349.1084371327838, 2033.5569455006337, 2468.9046594427236, 2355.237379972565, 1586.7673850574704, 1243.6461313868613], \"y\": [1, 2, 3, 4, 5, 6, 7, 8, 9, 10, 11, 12], \"type\": \"scatter\", \"uid\": \"8f0b2c51-1456-11e9-9e6c-00dbdf806640\"}, {\"name\": \"Journalism Campaigns launched since 2009 Per Month\", \"x\": [2568.182802547772, 4039.288541666665, 3341.9181081081074, 2771.4654545454555, 4124.331442006268, 3052.2140571428567, 2024.1340425531912, 2189.780817941952, 2303.373785310734, 3403.4653594771244, 3622.9599413489736, 2210.7042910447763], \"y\": [1, 2, 3, 4, 5, 6, 7, 8, 9, 10, 11, 12], \"type\": \"scatter\", \"uid\": \"8f0b2c52-1456-11e9-9481-00dbdf806640\"}, {\"name\": \"Dance Campaigns launched since 2009 Per Month\", \"x\": [3389.8416334661365, 3504.7584693877543, 3633.7068141592936, 3180.040994475138, 3680.508343195267, 4158.690323624598, 3330.1495783132527, 3357.309859154929, 3792.252145454545, 3943.5832459016397, 4016.505129151292, 3387.802441314554], \"y\": [1, 2, 3, 4, 5, 6, 7, 8, 9, 10, 11, 12], \"type\": \"scatter\", \"uid\": \"8f0b2c53-1456-11e9-a8cc-00dbdf806640\"}], {\"showlegend\": false, \"title\": \"Average Amount raised per Campaign Category in its Most popular Months\", \"updatemenus\": [{\"active\": -1, \"buttons\": [{\"args\": [{\"visible\": [true, true, true, true, true, true, true, true, true, true, true, true, true, true, true]}, {\"title\": \"Average Amount raised for All Campaigns launched since 2009 Per Month\"}], \"label\": \"All Campaigns launched since 2009 Per Month\", \"method\": \"update\"}, {\"args\": [{\"visible\": [true, false, false, false, false, false, false, false, false, false, false, false, false, false, false]}, {\"title\": \"Average Amount raised for Film Campaigns launched since 2009 Per Month\"}], \"label\": \"Film Campaigns launched since 2009 Per Month\", \"method\": \"update\"}, {\"args\": [{\"visible\": [false, true, false, false, false, false, false, false, false, false, false, false, false, false, false]}, {\"title\": \"Average Amount raised for Music Campaigns launched since 2009 Per Month\"}], \"label\": \"Music Campaigns launched since 2009 Per Month\", \"method\": \"update\"}, {\"args\": [{\"visible\": [false, false, true, false, false, false, false, false, false, false, false, false, false, false, false]}, {\"title\": \"Average Amount raised for PublishingCampaigns launched since 2009 Per Month\"}], \"label\": \"Publishing Campaigns launched since 2009 Per Month\", \"method\": \"update\"}, {\"args\": [{\"visible\": [false, false, false, true, false, false, false, false, false, false, false, false, false, false, false]}, {\"title\": \"Average Amount raised for Games Campaigns launched since 2009 Per Month\"}], \"label\": \"Games Campaigns launched since 2009 Per Month\", \"method\": \"update\"}, {\"args\": [{\"visible\": [false, false, false, false, true, false, false, false, false, false, false, false, false, false, false]}, {\"title\": \"Average Amount raised for Technology Campaigns launched since 2009 Per Month\"}], \"label\": \"Technology Campaigns launched since 2009 Per Month\", \"method\": \"update\"}, {\"args\": [{\"visible\": [false, false, false, false, false, true, false, false, false, false, false, false, false, false, false]}, {\"title\": \"Average Amount raised for Design Campaigns launched since 2009 Per Month\"}], \"label\": \"Design Campaigns launched since 2009 Per Month\", \"method\": \"update\"}, {\"args\": [{\"visible\": [false, false, false, false, false, false, true, false, false, false, false, false, false, false, false]}, {\"title\": \"Average Amount raised for Art Campaigns launched since 2009 Per Month\"}], \"label\": \"Art Campaigns launched since 2009 Per Month\", \"method\": \"update\"}, {\"args\": [{\"visible\": [false, false, false, false, false, false, false, true, false, false, false, false, false, false, false]}, {\"title\": \"Average Amount raised for Food Campaigns launched since 2009 Per Month\"}], \"label\": \"Food Campaigns launched since 2009 Per Month\", \"method\": \"update\"}, {\"args\": [{\"visible\": [false, false, false, false, false, false, false, false, true, false, false, false, false, false, false]}, {\"title\": \"Average Amount raised for Fashion Campaigns launched since 2009 Per Month\"}], \"label\": \"Fashion Campaigns launched since 2009 Per Month\", \"method\": \"update\"}, {\"args\": [{\"visible\": [false, false, false, false, false, false, false, false, false, true, false, false, false, false, false]}, {\"title\": \"Average Amount raised for Theater Campaigns launched since 2009 Per Month\"}], \"label\": \"Theater Campaigns launched since 2009 Per Month\", \"method\": \"update\"}, {\"args\": [{\"visible\": [false, false, false, false, false, false, false, false, false, false, true, false, false, false, false]}, {\"title\": \"Average Amount raised for Comics Campaigns launched since 2009 Per Month\"}], \"label\": \"Comics Campaigns launched since 2009 Per Month\", \"method\": \"update\"}, {\"args\": [{\"visible\": [false, false, false, false, false, false, false, false, false, false, false, true, false, false, false]}, {\"title\": \"Average Amount raised for Photography Campaigns launched since 2009 Per Month\"}], \"label\": \"Photography Campaigns launched since 2009 Per Month\", \"method\": \"update\"}, {\"args\": [{\"visible\": [false, false, false, false, false, false, false, false, false, false, false, false, true, false, false]}, {\"title\": \"Average Amount raised for Crafts Campaigns launched since 2009 Per Month\"}], \"label\": \"Crafts Campaigns launched since 2009 Per Month\", \"method\": \"update\"}, {\"args\": [{\"visible\": [false, false, false, false, false, false, false, false, false, false, false, false, false, true, false]}, {\"title\": \"Average Amount raised for Journalism Campaigns launched since 2009 Per Month\"}], \"label\": \"Journalism Campaigns launched since 2009 Per Month\", \"method\": \"update\"}, {\"args\": [{\"visible\": [false, false, false, false, false, false, false, false, false, false, false, false, false, false, true]}, {\"title\": \"Average Amount raised for Dance Campaigns launched since 2009 Per Month\"}], \"label\": \"Dance Campaigns launched since 2009 Per Month\", \"method\": \"update\"}]}, {\"direction\": \"down\", \"pad\": {\"r\": 10, \"t\": 10}, \"showactive\": true, \"x\": 0.5, \"xanchor\": \"center\", \"y\": 1.12, \"yanchor\": \"top\"}], \"xaxis\": {\"title\": \"Average Amount raised\", \"titlefont\": {\"color\": \"#7f7f7f\", \"family\": \"Ariel\", \"size\": 14}}, \"yaxis\": {\"title\": \"Month of the Year\", \"titlefont\": {\"color\": \"#7f7f7f\", \"family\": \"Ariel\", \"size\": 14}}}, {\"showLink\": true, \"linkText\": \"Export to plot.ly\"})});</script>"
      ]
     },
     "metadata": {},
     "output_type": "display_data"
    }
   ],
   "source": [
    "###\n",
    "#Plot the average amount raised per campaign category per month sinice 2012, to show what month is most popular per campaign\n",
    "### \n",
    "trace_0 = go.Scatter(x= main_catigs_m_Film.values,\n",
    "                        y= main_catigs_m_Film.index,\n",
    "                        name='Film Campaigns launched since 2009 Per Month')\n",
    "\n",
    "trace_1 = go.Scatter(x= main_catigs_m_Music.values,\n",
    "                        y= main_catigs_m_Music.index,\n",
    "                        name='Music Campaigns launched since 2009 Per Month')\n",
    "\n",
    "\n",
    "trace_2 = go.Scatter(x= main_catigs_m_Publishing.values,\n",
    "                        y= main_catigs_m_Publishing.index,\n",
    "                        name='Publishing Campaigns launched since 2009 Per Month')\n",
    "\n",
    "trace_3 = go.Scatter(x= main_catigs_m_Games.values,\n",
    "                        y= main_catigs_m_Games.index,\n",
    "                        name='Games Campaigns launched since 2009 Per Month')\n",
    "\n",
    "trace_4 = go.Scatter(x= main_catigs_m_Technology.values,\n",
    "                        y= main_catigs_m_Technology.index,\n",
    "                        name='Technology Campaigns launched since 2009 Per Month')\n",
    "\n",
    "trace_5 = go.Scatter(x= main_catigs_m_Design.values,\n",
    "                        y= main_catigs_m_Design.index,\n",
    "                        name='Design Campaigns launched since 2009 Per Month')\n",
    "\n",
    "trace_6 = go.Scatter(x= main_catigs_m_Art.values,\n",
    "                        y= main_catigs_m_Art.index,\n",
    "                        name='Art Campaigns launched since 2009 Per Month')\n",
    "\n",
    "trace_7 = go.Scatter(x= main_catigs_m_Food.values,\n",
    "                        y= main_catigs_m_Food.index,\n",
    "                        name='Food Campaigns launched since 2009 Per Month')\n",
    "\n",
    "trace_8 = go.Scatter(x= main_catigs_m_Fashion.values,\n",
    "                        y= main_catigs_m_Fashion.index,\n",
    "                        name='Fashion Campaigns launched since 2009 Per Month')\n",
    "\n",
    "trace_9 = go.Scatter(x= main_catigs_m_Theater.values,\n",
    "                        y= main_catigs_m_Theater.index,\n",
    "                        name='Theater Campaigns launched since 2009 Per Month')\n",
    "\n",
    "trace_10 = go.Scatter(x= main_catigs_m_Comics.values,\n",
    "                        y= main_catigs_m_Comics.index,\n",
    "                        name='Comics Campaigns launched since 2009 Per Month')\n",
    "\n",
    "trace_11 = go.Scatter(x= main_catigs_m_Photography.values,\n",
    "                        y= main_catigs_m_Photography.index,\n",
    "                        name='Photography Campaigns launched since 2009 Per Month')\n",
    "\n",
    "trace_12 = go.Scatter(x= main_catigs_m_Crafts.values,\n",
    "                        y= main_catigs_m_Crafts.index,\n",
    "                        name='Crafts Campaigns launched since 2009 Per Month')\n",
    "\n",
    "trace_13 = go.Scatter(x= main_catigs_m_Journalism.values,\n",
    "                        y= main_catigs_m_Journalism.index,\n",
    "                        name='Journalism Campaigns launched since 2009 Per Month')\n",
    "\n",
    "trace_14 = go.Scatter(x= main_catigs_m_Dance.values,\n",
    "                        y= main_catigs_m_Dance.index,\n",
    "                        name='Dance Campaigns launched since 2009 Per Month')\n",
    "\n",
    "data = [trace_0, trace_1, trace_2,trace_3,trace_4,trace_5,trace_6,trace_7,trace_8,trace_9,\n",
    "       trace_10,trace_11,trace_12,trace_13,trace_14]\n",
    "\n",
    "\n",
    "\n",
    "updatemenus = list([\n",
    "    dict(active=-1,\n",
    "         buttons=list([   \n",
    "           dict(label = 'All Campaigns launched since 2009 Per Month',\n",
    "                 method = 'update',\n",
    "                 args = [{'visible': [True, True, True, True,\n",
    "                                     True, True, True,True,\n",
    "                                     True, True, True,True,\n",
    "                                     True, True, True]},\n",
    "                         {'title': 'Average Amount raised for All Campaigns launched since 2009 Per Month'}]),\n",
    "             \n",
    "             dict(label = 'Film Campaigns launched since 2009 Per Month',\n",
    "                 method = 'update',\n",
    "                 args = [{'visible': [True, False, False, False,\n",
    "                                     False, False, False,False,\n",
    "                                     False, False, False,False,\n",
    "                                     False, False, False]},\n",
    "                         {'title': 'Average Amount raised for Film Campaigns launched since 2009 Per Month'}]),\n",
    "             \n",
    "             dict(label = 'Music Campaigns launched since 2009 Per Month',\n",
    "                 method = 'update',\n",
    "                 args = [{'visible': [False, True, False, False,\n",
    "                                     False, False, False,False,\n",
    "                                     False, False, False,False,\n",
    "                                     False, False, False]},\n",
    "                         {'title': 'Average Amount raised for Music Campaigns launched since 2009 Per Month'}]),\n",
    "            \n",
    "             dict(label = 'Publishing Campaigns launched since 2009 Per Month',\n",
    "                 method = 'update',\n",
    "                 args = [{'visible': [False, False, True, False,\n",
    "                                     False, False, False,False,\n",
    "                                     False, False, False,False,\n",
    "                                     False, False, False]},\n",
    "                         {'title': 'Average Amount raised for PublishingCampaigns launched since 2009 Per Month'}]),\n",
    "            \n",
    "             dict(label = 'Games Campaigns launched since 2009 Per Month',\n",
    "                 method = 'update',\n",
    "                 args = [{'visible': [False, False, False,True, \n",
    "                                     False, False, False,False,\n",
    "                                     False, False, False,False,\n",
    "                                     False, False, False]},\n",
    "                         {'title': 'Average Amount raised for Games Campaigns launched since 2009 Per Month'}]),\n",
    "             \n",
    "             dict(label = 'Technology Campaigns launched since 2009 Per Month',\n",
    "                 method = 'update',\n",
    "                 args = [{'visible': [False, False, False, False,\n",
    "                                     True, False, False,False,\n",
    "                                     False, False, False,False,\n",
    "                                     False, False, False]},\n",
    "                         {'title': 'Average Amount raised for Technology Campaigns launched since 2009 Per Month'}]),\n",
    "            \n",
    "             dict(label = 'Design Campaigns launched since 2009 Per Month',\n",
    "                 method = 'update',\n",
    "                 args = [{'visible': [False, False, False, False,\n",
    "                                     False, True, False,False,\n",
    "                                     False, False, False,False,\n",
    "                                     False, False, False]},\n",
    "                         {'title': 'Average Amount raised for Design Campaigns launched since 2009 Per Month'}]),\n",
    "\n",
    "             dict(label = 'Art Campaigns launched since 2009 Per Month',\n",
    "                 method = 'update',\n",
    "                 args = [{'visible': [False, False, False, False,\n",
    "                                     False, False, True, False,\n",
    "                                     False, False, False,False,\n",
    "                                     False, False, False]},\n",
    "                         {'title': 'Average Amount raised for Art Campaigns launched since 2009 Per Month'}]),\n",
    "            \n",
    "             dict(label = 'Food Campaigns launched since 2009 Per Month',\n",
    "                 method = 'update',\n",
    "                 args = [{'visible': [False, False, False, False,\n",
    "                                     False, False, False, True, \n",
    "                                     False, False, False,False,\n",
    "                                     False, False, False]},\n",
    "                         {'title': 'Average Amount raised for Food Campaigns launched since 2009 Per Month'}]),\n",
    "             \n",
    "             dict(label = 'Fashion Campaigns launched since 2009 Per Month',\n",
    "                 method = 'update',\n",
    "                 args = [{'visible': [False, False, False, False, \n",
    "                                     False, False, False,False,\n",
    "                                     True, False, False,False,\n",
    "                                     False, False, False]},\n",
    "                         {'title': 'Average Amount raised for Fashion Campaigns launched since 2009 Per Month'}]),\n",
    "             \n",
    "             dict(label = 'Theater Campaigns launched since 2009 Per Month',\n",
    "                 method = 'update',\n",
    "                 args = [{'visible': [False, False, False, False, \n",
    "                                     False, False, False,False,\n",
    "                                     False, True, False,False,\n",
    "                                     False, False, False]},\n",
    "                         {'title': 'Average Amount raised for Theater Campaigns launched since 2009 Per Month'}]),\n",
    "             \n",
    "             dict(label = 'Comics Campaigns launched since 2009 Per Month',\n",
    "                 method = 'update',\n",
    "                 args = [{'visible': [False, False, False, False, \n",
    "                                     False, False, False,False,\n",
    "                                     False, False, True, False,\n",
    "                                     False, False, False]},\n",
    "                         {'title': 'Average Amount raised for Comics Campaigns launched since 2009 Per Month'}]),\n",
    "            \n",
    "             dict(label = 'Photography Campaigns launched since 2009 Per Month',\n",
    "                 method = 'update',\n",
    "                 args = [{'visible': [False, False, False, False, \n",
    "                                     False, False, False,False,\n",
    "                                     False, False, False, True, \n",
    "                                     False, False, False]},\n",
    "                         {'title': 'Average Amount raised for Photography Campaigns launched since 2009 Per Month'}]),\n",
    "             \n",
    "             dict(label = 'Crafts Campaigns launched since 2009 Per Month',\n",
    "                 method = 'update',\n",
    "                 args = [{'visible': [False, False, False, False, \n",
    "                                     False, False, False,False,\n",
    "                                     False, False, False,False,\n",
    "                                     True, False, False]},\n",
    "                         {'title': 'Average Amount raised for Crafts Campaigns launched since 2009 Per Month'}]),\n",
    "            \n",
    "             dict(label = 'Journalism Campaigns launched since 2009 Per Month',\n",
    "                 method = 'update',\n",
    "                 args = [{'visible': [False, False, False, False, \n",
    "                                     False, False, False,False,\n",
    "                                     False, False, False,False,\n",
    "                                     False, True, False]},\n",
    "                         {'title': 'Average Amount raised for Journalism Campaigns launched since 2009 Per Month'}]),\n",
    "             \n",
    "             dict(label = 'Dance Campaigns launched since 2009 Per Month',\n",
    "                 method = 'update',\n",
    "                 args = [{'visible': [False, False, False, False, \n",
    "                                     False, False, False,False,\n",
    "                                     False, False, False,False,\n",
    "                                     False, False, True]},\n",
    "                         {'title': 'Average Amount raised for Dance Campaigns launched since 2009 Per Month'}])\n",
    "        ]),\n",
    "    ),\n",
    "    dict (direction = 'down',\n",
    "        pad = {'r': 10, 't': 10},\n",
    "        showactive = True,\n",
    "        x = 0.5,\n",
    "        xanchor = 'center',\n",
    "        y = 1.12,\n",
    "        yanchor = 'top')\n",
    "])\n",
    "\n",
    "\n",
    "\n",
    "layout = go.Layout(\n",
    "    dict(title='Average Amount raised per Campaign Category in its Most popular Months', \n",
    "         showlegend=False,\n",
    "         updatemenus=updatemenus),\n",
    "    xaxis=dict(\n",
    "        title='Average Amount raised',\n",
    "        titlefont=dict(\n",
    "            family='Ariel',\n",
    "            size=14,\n",
    "            color='#7f7f7f'\n",
    "        )\n",
    "    ),\n",
    "    yaxis=dict(\n",
    "        title='Month of the Year',\n",
    "        titlefont=dict(\n",
    "            \n",
    "            family='Ariel',\n",
    "            size=14,\n",
    "            color='#7f7f7f'\n",
    "            \n",
    "        )\n",
    "    )\n",
    ")\n",
    "\n",
    "fig = dict(data=data, layout=layout)\n",
    "py.iplot(fig, filename='update_dropdown')\n",
    "\n"
   ]
  },
  {
   "cell_type": "code",
   "execution_count": null,
   "metadata": {},
   "outputs": [],
   "source": []
  },
  {
   "cell_type": "code",
   "execution_count": null,
   "metadata": {},
   "outputs": [],
   "source": []
  }
 ],
 "metadata": {
  "kernelspec": {
   "display_name": "Python [conda env:Anaconda3]",
   "language": "python",
   "name": "conda-env-Anaconda3-py"
  },
  "language_info": {
   "codemirror_mode": {
    "name": "ipython",
    "version": 3
   },
   "file_extension": ".py",
   "mimetype": "text/x-python",
   "name": "python",
   "nbconvert_exporter": "python",
   "pygments_lexer": "ipython3",
   "version": "3.6.4"
  }
 },
 "nbformat": 4,
 "nbformat_minor": 2
}
